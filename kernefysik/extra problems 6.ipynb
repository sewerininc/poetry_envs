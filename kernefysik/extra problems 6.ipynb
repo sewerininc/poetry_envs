{
 "cells": [
  {
   "cell_type": "code",
   "execution_count": 1,
   "id": "95001900",
   "metadata": {},
   "outputs": [],
   "source": [
    "import numpy as np\n",
    "from scipy.optimize import fsolve\n",
    "import matplotlib.pyplot as plt"
   ]
  },
  {
   "cell_type": "code",
   "execution_count": 2,
   "id": "b9ede899",
   "metadata": {},
   "outputs": [
    {
     "name": "stdout",
     "output_type": "stream",
     "text": [
      "Now you have the file massround.mas20.txt in the pd.DataFrame() -> df\n"
     ]
    }
   ],
   "source": [
    "# Get the df from before\n",
    "%run mass_df.ipynb"
   ]
  },
  {
   "cell_type": "code",
   "execution_count": 3,
   "id": "e829c3e0",
   "metadata": {},
   "outputs": [
    {
     "data": {
      "text/plain": [
       "2224.566"
      ]
     },
     "execution_count": 3,
     "metadata": {},
     "output_type": "execute_result"
    }
   ],
   "source": [
    "float(df.query(\"A == 2\")[\"Binding Energy/A (keV)\"].values[0])*2"
   ]
  },
  {
   "cell_type": "code",
   "execution_count": 4,
   "id": "64af8523",
   "metadata": {},
   "outputs": [
    {
     "data": {
      "text/html": [
       "<div>\n",
       "<style scoped>\n",
       "    .dataframe tbody tr th:only-of-type {\n",
       "        vertical-align: middle;\n",
       "    }\n",
       "\n",
       "    .dataframe tbody tr th {\n",
       "        vertical-align: top;\n",
       "    }\n",
       "\n",
       "    .dataframe thead th {\n",
       "        text-align: right;\n",
       "    }\n",
       "</style>\n",
       "<table border=\"1\" class=\"dataframe\">\n",
       "  <thead>\n",
       "    <tr style=\"text-align: right;\">\n",
       "      <th></th>\n",
       "      <th>N</th>\n",
       "      <th>Z</th>\n",
       "      <th>A</th>\n",
       "      <th>El</th>\n",
       "      <th>Orig</th>\n",
       "      <th>Mass Excess (keV)</th>\n",
       "      <th>ME Unc</th>\n",
       "      <th>Binding Energy/A (keV)</th>\n",
       "      <th>BE/A Unc</th>\n",
       "      <th>Beta-decay Type</th>\n",
       "      <th>Beta-decay Energy (keV)</th>\n",
       "      <th>BE Unc</th>\n",
       "      <th>N Protons</th>\n",
       "      <th>Atomic Mass (micro-u)</th>\n",
       "      <th>AM Unc</th>\n",
       "    </tr>\n",
       "  </thead>\n",
       "  <tbody>\n",
       "    <tr>\n",
       "      <th>0</th>\n",
       "      <td>1</td>\n",
       "      <td>0</td>\n",
       "      <td>1</td>\n",
       "      <td>n</td>\n",
       "      <td></td>\n",
       "      <td>8071.3181</td>\n",
       "      <td>0.0004</td>\n",
       "      <td>0.0</td>\n",
       "      <td>0.0</td>\n",
       "      <td>B-</td>\n",
       "      <td>782.347</td>\n",
       "      <td>a</td>\n",
       "      <td>1</td>\n",
       "      <td>008664.9159</td>\n",
       "      <td>0.0005</td>\n",
       "    </tr>\n",
       "    <tr>\n",
       "      <th>1</th>\n",
       "      <td>0</td>\n",
       "      <td>1</td>\n",
       "      <td>1</td>\n",
       "      <td>H</td>\n",
       "      <td></td>\n",
       "      <td>7288.97106</td>\n",
       "      <td>0.00001</td>\n",
       "      <td>0.0</td>\n",
       "      <td>0.0</td>\n",
       "      <td></td>\n",
       "      <td>*</td>\n",
       "      <td></td>\n",
       "      <td>1</td>\n",
       "      <td>007825.03190</td>\n",
       "      <td>0.00001</td>\n",
       "    </tr>\n",
       "    <tr>\n",
       "      <th>2</th>\n",
       "      <td>1</td>\n",
       "      <td>1</td>\n",
       "      <td>2</td>\n",
       "      <td>H</td>\n",
       "      <td></td>\n",
       "      <td>13135.72290</td>\n",
       "      <td>0.00002</td>\n",
       "      <td>1112.283</td>\n",
       "      <td>a</td>\n",
       "      <td></td>\n",
       "      <td>*</td>\n",
       "      <td></td>\n",
       "      <td>2</td>\n",
       "      <td>014101.77784</td>\n",
       "      <td>0.00002</td>\n",
       "    </tr>\n",
       "    <tr>\n",
       "      <th>3</th>\n",
       "      <td>2</td>\n",
       "      <td>1</td>\n",
       "      <td>3</td>\n",
       "      <td>H</td>\n",
       "      <td></td>\n",
       "      <td>14949.81090</td>\n",
       "      <td>0.00008</td>\n",
       "      <td>2827.265</td>\n",
       "      <td>a</td>\n",
       "      <td>B-</td>\n",
       "      <td>18.592</td>\n",
       "      <td>a</td>\n",
       "      <td>3</td>\n",
       "      <td>016049.28132</td>\n",
       "      <td>0.00008</td>\n",
       "    </tr>\n",
       "    <tr>\n",
       "      <th>4</th>\n",
       "      <td>1</td>\n",
       "      <td>2</td>\n",
       "      <td>3</td>\n",
       "      <td>He</td>\n",
       "      <td></td>\n",
       "      <td>14931.21888</td>\n",
       "      <td>0.00006</td>\n",
       "      <td>2572.680</td>\n",
       "      <td>a</td>\n",
       "      <td></td>\n",
       "      <td>*</td>\n",
       "      <td></td>\n",
       "      <td>3</td>\n",
       "      <td>016029.32197</td>\n",
       "      <td>0.00006</td>\n",
       "    </tr>\n",
       "    <tr>\n",
       "      <th>...</th>\n",
       "      <td>...</td>\n",
       "      <td>...</td>\n",
       "      <td>...</td>\n",
       "      <td>...</td>\n",
       "      <td>...</td>\n",
       "      <td>...</td>\n",
       "      <td>...</td>\n",
       "      <td>...</td>\n",
       "      <td>...</td>\n",
       "      <td>...</td>\n",
       "      <td>...</td>\n",
       "      <td>...</td>\n",
       "      <td>...</td>\n",
       "      <td>...</td>\n",
       "      <td>...</td>\n",
       "    </tr>\n",
       "    <tr>\n",
       "      <th>3553</th>\n",
       "      <td>176</td>\n",
       "      <td>117</td>\n",
       "      <td>293</td>\n",
       "      <td>Ts</td>\n",
       "      <td>-a</td>\n",
       "      <td>194430#</td>\n",
       "      <td>780#</td>\n",
       "      <td>7095#</td>\n",
       "      <td>3#</td>\n",
       "      <td>B+</td>\n",
       "      <td>3860#</td>\n",
       "      <td>930#</td>\n",
       "      <td>293</td>\n",
       "      <td>208730#</td>\n",
       "      <td>840#</td>\n",
       "    </tr>\n",
       "    <tr>\n",
       "      <th>3554</th>\n",
       "      <td>175</td>\n",
       "      <td>118</td>\n",
       "      <td>293</td>\n",
       "      <td>Og</td>\n",
       "      <td>-a</td>\n",
       "      <td>198800#</td>\n",
       "      <td>710#</td>\n",
       "      <td>7078#</td>\n",
       "      <td>2#</td>\n",
       "      <td>B+</td>\n",
       "      <td>4370#</td>\n",
       "      <td>1050#</td>\n",
       "      <td>293</td>\n",
       "      <td>213420#</td>\n",
       "      <td>760#</td>\n",
       "    </tr>\n",
       "    <tr>\n",
       "      <th>3555</th>\n",
       "      <td>177</td>\n",
       "      <td>117</td>\n",
       "      <td>294</td>\n",
       "      <td>Ts</td>\n",
       "      <td>-a</td>\n",
       "      <td>196400#</td>\n",
       "      <td>590#</td>\n",
       "      <td>7092#</td>\n",
       "      <td>2#</td>\n",
       "      <td></td>\n",
       "      <td>*</td>\n",
       "      <td></td>\n",
       "      <td>294</td>\n",
       "      <td>210840#</td>\n",
       "      <td>640#</td>\n",
       "    </tr>\n",
       "    <tr>\n",
       "      <th>3556</th>\n",
       "      <td>176</td>\n",
       "      <td>118</td>\n",
       "      <td>294</td>\n",
       "      <td>Og</td>\n",
       "      <td>-a</td>\n",
       "      <td>199320#</td>\n",
       "      <td>550#</td>\n",
       "      <td>7079#</td>\n",
       "      <td>2#</td>\n",
       "      <td>B+</td>\n",
       "      <td>2920#</td>\n",
       "      <td>810#</td>\n",
       "      <td>294</td>\n",
       "      <td>213980#</td>\n",
       "      <td>590#</td>\n",
       "    </tr>\n",
       "    <tr>\n",
       "      <th>3557</th>\n",
       "      <td>177</td>\n",
       "      <td>118</td>\n",
       "      <td>295</td>\n",
       "      <td>Og</td>\n",
       "      <td>-a</td>\n",
       "      <td>201370#</td>\n",
       "      <td>660#</td>\n",
       "      <td>7076#</td>\n",
       "      <td>2#</td>\n",
       "      <td></td>\n",
       "      <td>*</td>\n",
       "      <td></td>\n",
       "      <td>295</td>\n",
       "      <td>216180#</td>\n",
       "      <td>700#</td>\n",
       "    </tr>\n",
       "  </tbody>\n",
       "</table>\n",
       "<p>3558 rows × 15 columns</p>\n",
       "</div>"
      ],
      "text/plain": [
       "        N    Z    A  El Orig Mass Excess (keV)   ME Unc  \\\n",
       "0       1    0    1   n              8071.3181   0.0004   \n",
       "1       0    1    1   H             7288.97106  0.00001   \n",
       "2       1    1    2   H            13135.72290  0.00002   \n",
       "3       2    1    3   H            14949.81090  0.00008   \n",
       "4       1    2    3  He            14931.21888  0.00006   \n",
       "...   ...  ...  ...  ..  ...               ...      ...   \n",
       "3553  176  117  293  Ts   -a           194430#     780#   \n",
       "3554  175  118  293  Og   -a           198800#     710#   \n",
       "3555  177  117  294  Ts   -a           196400#     590#   \n",
       "3556  176  118  294  Og   -a           199320#     550#   \n",
       "3557  177  118  295  Og   -a           201370#     660#   \n",
       "\n",
       "     Binding Energy/A (keV) BE/A Unc Beta-decay Type Beta-decay Energy (keV)  \\\n",
       "0                       0.0      0.0              B-                 782.347   \n",
       "1                       0.0      0.0                                       *   \n",
       "2                  1112.283        a                                       *   \n",
       "3                  2827.265        a              B-                  18.592   \n",
       "4                  2572.680        a                                       *   \n",
       "...                     ...      ...             ...                     ...   \n",
       "3553                  7095#       3#              B+                   3860#   \n",
       "3554                  7078#       2#              B+                   4370#   \n",
       "3555                  7092#       2#                                       *   \n",
       "3556                  7079#       2#              B+                   2920#   \n",
       "3557                  7076#       2#                                       *   \n",
       "\n",
       "     BE Unc N Protons Atomic Mass (micro-u)   AM Unc  \n",
       "0         a         1           008664.9159   0.0005  \n",
       "1                   1          007825.03190  0.00001  \n",
       "2                   2          014101.77784  0.00002  \n",
       "3         a         3          016049.28132  0.00008  \n",
       "4                   3          016029.32197  0.00006  \n",
       "...     ...       ...                   ...      ...  \n",
       "3553   930#       293               208730#     840#  \n",
       "3554  1050#       293               213420#     760#  \n",
       "3555              294               210840#     640#  \n",
       "3556   810#       294               213980#     590#  \n",
       "3557              295               216180#     700#  \n",
       "\n",
       "[3558 rows x 15 columns]"
      ]
     },
     "execution_count": 4,
     "metadata": {},
     "output_type": "execute_result"
    }
   ],
   "source": [
    "df"
   ]
  },
  {
   "cell_type": "code",
   "execution_count": 35,
   "id": "4313bf27",
   "metadata": {},
   "outputs": [],
   "source": [
    "def func(U_0: float, A: int) -> float:\n",
    "    reduced_m_d = 469.48968  # MeV / c²\n",
    "    bound_energy = df.query(f\"A == {A}\")[\"Binding Energy/A (keV)\"].str.replace(\"#\", \"\").astype(float).mean() * A * 1e-3  # MeV\n",
    "    hbarc = 197.327  # MeV * fm\n",
    "    R = 1.4 * A **(1/3) if A != 2 else 1.7  # fm\n",
    "    k1 = np.sqrt(2 * reduced_m_d * (U_0 - bound_energy)) / hbarc\n",
    "    k2 = np.sqrt(2 * reduced_m_d * bound_energy) / hbarc\n",
    "    output = 1 / k1 * np.tan(k1 * R) + 1 / k2\n",
    "    return output"
   ]
  },
  {
   "cell_type": "code",
   "execution_count": 36,
   "id": "45be9378",
   "metadata": {},
   "outputs": [
    {
     "data": {
      "image/png": "[encoded data removed]",
      "text/plain": [
       "<Figure size 640x480 with 1 Axes>"
      ]
     },
     "metadata": {},
     "output_type": "display_data"
    }
   ],
   "source": [
    "U_0s = np.linspace(10,400, 200)\n",
    "plt.plot(U_0s, func(U_0s, 2))\n",
    "#plt.xlim(40,50)\n",
    "plt.show()"
   ]
  },
  {
   "cell_type": "code",
   "execution_count": 37,
   "id": "c4fea3d9",
   "metadata": {},
   "outputs": [
    {
     "data": {
      "text/plain": [
       "48.07663963942759"
      ]
     },
     "execution_count": 37,
     "metadata": {},
     "output_type": "execute_result"
    }
   ],
   "source": [
    "U_0_value = fsolve(func, 47, 2)[0]\n",
    "U_0_value"
   ]
  },
  {
   "cell_type": "code",
   "execution_count": 8,
   "id": "1b01ff50",
   "metadata": {},
   "outputs": [],
   "source": [
    "def full_eq(r: float, U_0: float) -> float:\n",
    "    reduced_m_d = 469.48968  # MeV/c²\n",
    "    bound_energy = 2.2 # MeV Brug mass filen til at få denne energi ind\n",
    "    hbarc = 197.327 # MeV*fm\n",
    "    R = 1.7 # fm\n",
    "    k1 = np.sqrt(2 * reduced_m_d * (U_0 - bound_energy)) / hbarc\n",
    "    k2 = np.sqrt(2 * reduced_m_d * bound_energy) / hbarc\n",
    "    \n",
    "    A = 1\n",
    "    R_fm = R\n",
    "    if r < R_fm:\n",
    "        output = A * np.sin(k1 * r)\n",
    "    elif r >= R_fm:\n",
    "        B = A * np.sin(k1 * R) / np.exp(-k2 * R)\n",
    "        output = B * np.exp(-k2 * r)\n",
    "    else:\n",
    "        output = 0\n",
    "        print(\"error\")\n",
    "        \n",
    "    return output\n",
    "    "
   ]
  },
  {
   "cell_type": "code",
   "execution_count": 9,
   "id": "e09dbec3",
   "metadata": {},
   "outputs": [
    {
     "data": {
      "image/png": "[encoded data removed]",
      "text/plain": [
       "<Figure size 640x480 with 1 Axes>"
      ]
     },
     "metadata": {},
     "output_type": "display_data"
    }
   ],
   "source": [
    "rs = np.linspace(0, 10, 300)\n",
    "wavefunc = [full_eq(r, U_0_value) for r in rs]\n",
    "plt.plot(rs, wavefunc)\n",
    "plt.axvline(1.7,color='r', label=\"R\")\n",
    "plt.fill_betweenx([-2,2],[1.7,1.7], color=\"lightgrey\")\n",
    "plt.xlabel(\"r [fm]\")\n",
    "plt.annotate('$U_0$', [0.7,0.3])\n",
    "plt.ylim(0, 1.2)\n",
    "plt.grid()\n",
    "plt.show()"
   ]
  },
  {
   "cell_type": "markdown",
   "id": "06cde5c2",
   "metadata": {},
   "source": [
    "# B"
   ]
  },
  {
   "cell_type": "code",
   "execution_count": 10,
   "id": "dcfdffe6",
   "metadata": {},
   "outputs": [
    {
     "name": "stdout",
     "output_type": "stream",
     "text": [
      "Give A value: 2\n",
      "A: 2  V0: 40.0  l: 0\n",
      "[-10.4362]\n"
     ]
    }
   ],
   "source": [
    "#  Python version of Jacob Johansen's square-well program   19/5-2020\n",
    "#\n",
    "#  The program calculates energy eigenvalues for a neutron in a square well\n",
    "#  nuclear potential with radius R = 1.4 * A^(1/3) fm\n",
    "#  Units  -  MeV, fm\n",
    "#  Input:     all scalar\n",
    "#    V0 - depth of the well in MeV\n",
    "#    A  - total number of nucleons for the potential\n",
    "#    l  - angular momentum\n",
    "#  Output:\n",
    "#    E  - energy eigenvalues\n",
    "\n",
    "import numpy as np\n",
    "import matplotlib.pyplot as plt\n",
    "import scipy.special as sc\n",
    "\n",
    "# numerical constants - PDG 2018\n",
    "hbarc = 197.3269788\n",
    "me = 0.510998946\n",
    "mp = 938.272081\n",
    "mn = 939.565413\n",
    "finest = 1/137.03599914\n",
    "\n",
    "mhbar = 2.*mn/hbarc**2\n",
    "\n",
    "V0 = 40.\n",
    "A = 2\n",
    "l = 0\n",
    "\n",
    "# find energies in E-list just below a fullfilled matching condition\n",
    "def zeropoint(E,V0,A,l):\n",
    "    r0 = 1.4*A**(1./3.)\n",
    "    kr = np.sqrt(mhbar*(V0-abs(E)))*r0\n",
    "    kapr = np.sqrt(mhbar*abs(E))*r0\n",
    "    indre = kr*sc.spherical_jn(l,kr,derivative=True)/sc.spherical_jn(l,kr)\n",
    "    ydre = kapr*sc.spherical_kn(l,kapr,derivative=True)/sc.spherical_kn(l,kapr)\n",
    "    egenligning = indre - ydre\n",
    "    signchange = egenligning[0:len(E)-1]*egenligning[1:len(E)]\n",
    "    # signchange is small and negative at matching points, but also large\n",
    "    #   when \"the tangent diverges\"...\n",
    "    eresult = []\n",
    "    [eresult.append(E[i]) for i in range(len(E)-1) if signchange[i]<0 and abs(egenligning[i])<10]\n",
    "    return eresult\n",
    "\n",
    "# first find all solutions with 0.1 MeV resolution\n",
    "E1 = np.linspace(-1*V0+.1,-0.1,10*int(V0)-1)\n",
    "Eres = zeropoint(E1,V0,A,l)\n",
    "#print(Eres)\n",
    "\n",
    "# then refine each solution to 0.1 keV\n",
    "Efinal = []\n",
    "for j in range(len(Eres)):\n",
    "    E2 = np.linspace(Eres[j],Eres[j]+0.1,num=1000,endpoint=False)\n",
    "    Ehelp = zeropoint(E2,V0,A,l)\n",
    "    Efinal.append(Ehelp[0])\n",
    "\n",
    "print('A:',A,' V0:',V0,' l:',l)\n",
    "print(Efinal)"
   ]
  },
  {
   "cell_type": "code",
   "execution_count": 11,
   "id": "8732d909",
   "metadata": {},
   "outputs": [],
   "source": [
    "As = np.arange(1, 250, 1)\n",
    "Es = []\n",
    "\n",
    "\n",
    "for A in As:\n",
    "    # first find all solutions with 0.1 MeV resolution\n",
    "    E1 = np.linspace(-1*V0+.1,-0.1,10*int(V0)-1)\n",
    "    Eres = zeropoint(E1,V0,A,l)\n",
    "    #print(Eres)\n",
    "\n",
    "    # then refine each solution to 0.1 keV\n",
    "    Efinal = []\n",
    "    for j in range(len(Eres)):\n",
    "        E2 = np.linspace(Eres[j],Eres[j]+0.1,num=1000,endpoint=False)\n",
    "        Ehelp = zeropoint(E2,V0,A,l)\n",
    "        Efinal.append(Ehelp[0])\n",
    "    Es.append(Efinal)\n",
    "    \n",
    "    "
   ]
  },
  {
   "cell_type": "code",
   "execution_count": 12,
   "id": "a09bfbe9",
   "metadata": {},
   "outputs": [],
   "source": [
    "df_e = pd.DataFrame({\"A\": As, \"Energylevels\": Es})"
   ]
  },
  {
   "cell_type": "code",
   "execution_count": 13,
   "id": "435bb58a",
   "metadata": {},
   "outputs": [],
   "source": [
    "def expand_list(row: list) -> pd.Series:\n",
    "    max_len = max(map(len, row))\n",
    "    return pd.Series(row[0] + [None] * (max_len - len(row[0])))\n",
    "\n",
    "expanded_df = df_e[[\"Energylevels\"]].apply(expand_list, axis=1)"
   ]
  },
  {
   "cell_type": "code",
   "execution_count": 14,
   "id": "cc43ad14",
   "metadata": {},
   "outputs": [],
   "source": [
    "for col in expanded_df.columns:\n",
    "    df_e[col] = expanded_df[col]"
   ]
  },
  {
   "cell_type": "code",
   "execution_count": 15,
   "id": "3fda53c7",
   "metadata": {},
   "outputs": [],
   "source": [
    "t_es = df.loc[df[\"A\"].isin(As)].copy()\n",
    "t_es[\"Binding Energy/A (keV)\"] = t_es[\"Binding Energy/A (keV)\"].str.replace(\"#\", \"\").astype(float)\n",
    "#t_es[\"Binding Energy/A (keV)\"] = t_es[\"Binding Energy/A (keV)\"] * t_es[\"A\"]"
   ]
  },
  {
   "cell_type": "code",
   "execution_count": 16,
   "id": "9be0b846",
   "metadata": {},
   "outputs": [],
   "source": [
    "es = [t_es.loc[t_es[\"A\"] == A, \"Binding Energy/A (keV)\"].max() for A in As]"
   ]
  },
  {
   "cell_type": "code",
   "execution_count": 17,
   "id": "e72f3593",
   "metadata": {},
   "outputs": [
    {
     "data": {
      "text/html": [
       "<div>\n",
       "<style scoped>\n",
       "    .dataframe tbody tr th:only-of-type {\n",
       "        vertical-align: middle;\n",
       "    }\n",
       "\n",
       "    .dataframe tbody tr th {\n",
       "        vertical-align: top;\n",
       "    }\n",
       "\n",
       "    .dataframe thead th {\n",
       "        text-align: right;\n",
       "    }\n",
       "</style>\n",
       "<table border=\"1\" class=\"dataframe\">\n",
       "  <thead>\n",
       "    <tr style=\"text-align: right;\">\n",
       "      <th></th>\n",
       "      <th>N</th>\n",
       "      <th>Z</th>\n",
       "      <th>A</th>\n",
       "      <th>El</th>\n",
       "      <th>Orig</th>\n",
       "      <th>Mass Excess (keV)</th>\n",
       "      <th>ME Unc</th>\n",
       "      <th>Binding Energy/A (keV)</th>\n",
       "      <th>BE/A Unc</th>\n",
       "      <th>Beta-decay Type</th>\n",
       "      <th>Beta-decay Energy (keV)</th>\n",
       "      <th>BE Unc</th>\n",
       "      <th>N Protons</th>\n",
       "      <th>Atomic Mass (micro-u)</th>\n",
       "      <th>AM Unc</th>\n",
       "    </tr>\n",
       "  </thead>\n",
       "  <tbody>\n",
       "    <tr>\n",
       "      <th>9</th>\n",
       "      <td>4</td>\n",
       "      <td>1</td>\n",
       "      <td>5</td>\n",
       "      <td>H</td>\n",
       "      <td>-nn</td>\n",
       "      <td>32890</td>\n",
       "      <td>90</td>\n",
       "      <td>1336.0</td>\n",
       "      <td>18</td>\n",
       "      <td>B-</td>\n",
       "      <td>21660</td>\n",
       "      <td>90</td>\n",
       "      <td>5</td>\n",
       "      <td>035310</td>\n",
       "      <td>100</td>\n",
       "    </tr>\n",
       "    <tr>\n",
       "      <th>10</th>\n",
       "      <td>3</td>\n",
       "      <td>2</td>\n",
       "      <td>5</td>\n",
       "      <td>He</td>\n",
       "      <td>-n</td>\n",
       "      <td>11231</td>\n",
       "      <td>20</td>\n",
       "      <td>5512.0</td>\n",
       "      <td>4</td>\n",
       "      <td></td>\n",
       "      <td>*</td>\n",
       "      <td></td>\n",
       "      <td>5</td>\n",
       "      <td>012057</td>\n",
       "      <td>21</td>\n",
       "    </tr>\n",
       "    <tr>\n",
       "      <th>11</th>\n",
       "      <td>2</td>\n",
       "      <td>3</td>\n",
       "      <td>5</td>\n",
       "      <td>Li</td>\n",
       "      <td>-p</td>\n",
       "      <td>11680</td>\n",
       "      <td>50</td>\n",
       "      <td>5266.0</td>\n",
       "      <td>10</td>\n",
       "      <td>B+</td>\n",
       "      <td>450</td>\n",
       "      <td>50</td>\n",
       "      <td>5</td>\n",
       "      <td>012540</td>\n",
       "      <td>50</td>\n",
       "    </tr>\n",
       "    <tr>\n",
       "      <th>12</th>\n",
       "      <td>1</td>\n",
       "      <td>4</td>\n",
       "      <td>5</td>\n",
       "      <td>Be</td>\n",
       "      <td>x</td>\n",
       "      <td>37140#</td>\n",
       "      <td>2000#</td>\n",
       "      <td>20.0</td>\n",
       "      <td>400#</td>\n",
       "      <td>B+</td>\n",
       "      <td>25460#</td>\n",
       "      <td>2000#</td>\n",
       "      <td>5</td>\n",
       "      <td>039870#</td>\n",
       "      <td>2150#</td>\n",
       "    </tr>\n",
       "  </tbody>\n",
       "</table>\n",
       "</div>"
      ],
      "text/plain": [
       "    N  Z  A  El Orig Mass Excess (keV) ME Unc  Binding Energy/A (keV)  \\\n",
       "9   4  1  5   H  -nn             32890     90                  1336.0   \n",
       "10  3  2  5  He   -n             11231     20                  5512.0   \n",
       "11  2  3  5  Li   -p             11680     50                  5266.0   \n",
       "12  1  4  5  Be    x            37140#  2000#                    20.0   \n",
       "\n",
       "   BE/A Unc Beta-decay Type Beta-decay Energy (keV) BE Unc N Protons  \\\n",
       "9        18              B-                   21660     90         5   \n",
       "10        4                                       *                5   \n",
       "11       10              B+                     450     50         5   \n",
       "12     400#              B+                  25460#  2000#         5   \n",
       "\n",
       "   Atomic Mass (micro-u) AM Unc  \n",
       "9                 035310    100  \n",
       "10                012057     21  \n",
       "11                012540     50  \n",
       "12               039870#  2150#  "
      ]
     },
     "execution_count": 17,
     "metadata": {},
     "output_type": "execute_result"
    }
   ],
   "source": [
    "t_es.query(\"A == 5\")"
   ]
  },
  {
   "cell_type": "code",
   "execution_count": 18,
   "id": "a97bd0d9",
   "metadata": {},
   "outputs": [],
   "source": [
    "# Part of C, but works here\n",
    "def get_A(n: int) -> float:\n",
    "    reduced_m_neutron = 940.6  # MeV / c²\n",
    "    hbarc = 197.327  # MeV * fm\n",
    "    U_0 = 40  # MeV\n",
    "    k1 = np.sqrt(2 * reduced_m_neutron * (U_0)) / hbarc\n",
    "    output = ((n * np.pi) / (k1 * 2 * 1.4))**3\n",
    "    return output\n",
    "ns = np.arange(1,9,2)\n",
    "A_computed = get_A(ns)"
   ]
  },
  {
   "cell_type": "code",
   "execution_count": 43,
   "id": "d50e7799",
   "metadata": {},
   "outputs": [
    {
     "data": {
      "image/png": "[encoded data removed]",
      "text/plain": [
       "<Figure size 640x480 with 1 Axes>"
      ]
     },
     "metadata": {},
     "output_type": "display_data"
    }
   ],
   "source": [
    "plt.plot(df_e[\"A\"], df_e[0], label=\"Ground State\")\n",
    "plt.plot(df_e[\"A\"], df_e[1], label=\"First Ex State\")\n",
    "plt.plot(df_e[\"A\"], df_e[2], label=\"Second Ex State\")\n",
    "plt.plot(df_e[\"A\"], df_e[3], label=\"Third Ex State\")\n",
    "# plt.plot(As, np.array(es)*-1*1e-3, label=\"Theoretical Data\")\n",
    "plt.xlabel(\"A\")\n",
    "plt.ylabel(\"Energy [MeV]\")\n",
    "plt.grid()\n",
    "for A in A_computed:\n",
    "    if A == A_computed[0]:\n",
    "        plt.axvline(A, color='r', linestyle=\"--\", label=\"E = 0\")\n",
    "    else:\n",
    "        plt.axvline(A, color='r', linestyle=\"--\")\n",
    "\n",
    "plt.legend(bbox_to_anchor=(1,1))\n",
    "plt.show()"
   ]
  },
  {
   "cell_type": "code",
   "execution_count": 47,
   "id": "c0163442",
   "metadata": {},
   "outputs": [
    {
     "data": {
      "text/html": [
       "<div>\n",
       "<style scoped>\n",
       "    .dataframe tbody tr th:only-of-type {\n",
       "        vertical-align: middle;\n",
       "    }\n",
       "\n",
       "    .dataframe tbody tr th {\n",
       "        vertical-align: top;\n",
       "    }\n",
       "\n",
       "    .dataframe thead th {\n",
       "        text-align: right;\n",
       "    }\n",
       "</style>\n",
       "<table border=\"1\" class=\"dataframe\">\n",
       "  <thead>\n",
       "    <tr style=\"text-align: right;\">\n",
       "      <th></th>\n",
       "      <th>A</th>\n",
       "      <th>Energylevels</th>\n",
       "      <th>0</th>\n",
       "      <th>1</th>\n",
       "      <th>2</th>\n",
       "      <th>3</th>\n",
       "    </tr>\n",
       "  </thead>\n",
       "  <tbody>\n",
       "    <tr>\n",
       "      <th>0</th>\n",
       "      <td>1</td>\n",
       "      <td>[-3.3147999999999986]</td>\n",
       "      <td>-3.3148</td>\n",
       "      <td>NaN</td>\n",
       "      <td>NaN</td>\n",
       "      <td>NaN</td>\n",
       "    </tr>\n",
       "    <tr>\n",
       "      <th>1</th>\n",
       "      <td>2</td>\n",
       "      <td>[-10.4362]</td>\n",
       "      <td>-10.4362</td>\n",
       "      <td>NaN</td>\n",
       "      <td>NaN</td>\n",
       "      <td>NaN</td>\n",
       "    </tr>\n",
       "    <tr>\n",
       "      <th>2</th>\n",
       "      <td>3</td>\n",
       "      <td>[-14.828800000000003]</td>\n",
       "      <td>-14.8288</td>\n",
       "      <td>NaN</td>\n",
       "      <td>NaN</td>\n",
       "      <td>NaN</td>\n",
       "    </tr>\n",
       "    <tr>\n",
       "      <th>3</th>\n",
       "      <td>4</td>\n",
       "      <td>[-17.7898]</td>\n",
       "      <td>-17.7898</td>\n",
       "      <td>NaN</td>\n",
       "      <td>NaN</td>\n",
       "      <td>NaN</td>\n",
       "    </tr>\n",
       "    <tr>\n",
       "      <th>4</th>\n",
       "      <td>5</td>\n",
       "      <td>[-19.949199999999998]</td>\n",
       "      <td>-19.9492</td>\n",
       "      <td>NaN</td>\n",
       "      <td>NaN</td>\n",
       "      <td>NaN</td>\n",
       "    </tr>\n",
       "    <tr>\n",
       "      <th>...</th>\n",
       "      <td>...</td>\n",
       "      <td>...</td>\n",
       "      <td>...</td>\n",
       "      <td>...</td>\n",
       "      <td>...</td>\n",
       "      <td>...</td>\n",
       "    </tr>\n",
       "    <tr>\n",
       "      <th>244</th>\n",
       "      <td>245</td>\n",
       "      <td>[-37.727799999999995, -30.9555, -19.8626999999...</td>\n",
       "      <td>-37.7278</td>\n",
       "      <td>-30.9555</td>\n",
       "      <td>-19.8627</td>\n",
       "      <td>-5.1414</td>\n",
       "    </tr>\n",
       "    <tr>\n",
       "      <th>245</th>\n",
       "      <td>246</td>\n",
       "      <td>[-37.7335, -30.977999999999998, -19.9116, -5.2...</td>\n",
       "      <td>-37.7335</td>\n",
       "      <td>-30.9780</td>\n",
       "      <td>-19.9116</td>\n",
       "      <td>-5.2183</td>\n",
       "    </tr>\n",
       "    <tr>\n",
       "      <th>246</th>\n",
       "      <td>247</td>\n",
       "      <td>[-37.73909999999999, -31.0003, -19.9602, -5.29...</td>\n",
       "      <td>-37.7391</td>\n",
       "      <td>-31.0003</td>\n",
       "      <td>-19.9602</td>\n",
       "      <td>-5.2950</td>\n",
       "    </tr>\n",
       "    <tr>\n",
       "      <th>247</th>\n",
       "      <td>248</td>\n",
       "      <td>[-37.744699999999995, -31.0224, -20.0086, -5.3...</td>\n",
       "      <td>-37.7447</td>\n",
       "      <td>-31.0224</td>\n",
       "      <td>-20.0086</td>\n",
       "      <td>-5.3712</td>\n",
       "    </tr>\n",
       "    <tr>\n",
       "      <th>248</th>\n",
       "      <td>249</td>\n",
       "      <td>[-37.750299999999996, -31.0444, -20.0566, -5.4...</td>\n",
       "      <td>-37.7503</td>\n",
       "      <td>-31.0444</td>\n",
       "      <td>-20.0566</td>\n",
       "      <td>-5.4472</td>\n",
       "    </tr>\n",
       "  </tbody>\n",
       "</table>\n",
       "<p>249 rows × 6 columns</p>\n",
       "</div>"
      ],
      "text/plain": [
       "       A                                       Energylevels        0        1  \\\n",
       "0      1                              [-3.3147999999999986]  -3.3148      NaN   \n",
       "1      2                                         [-10.4362] -10.4362      NaN   \n",
       "2      3                              [-14.828800000000003] -14.8288      NaN   \n",
       "3      4                                         [-17.7898] -17.7898      NaN   \n",
       "4      5                              [-19.949199999999998] -19.9492      NaN   \n",
       "..   ...                                                ...      ...      ...   \n",
       "244  245  [-37.727799999999995, -30.9555, -19.8626999999... -37.7278 -30.9555   \n",
       "245  246  [-37.7335, -30.977999999999998, -19.9116, -5.2... -37.7335 -30.9780   \n",
       "246  247  [-37.73909999999999, -31.0003, -19.9602, -5.29... -37.7391 -31.0003   \n",
       "247  248  [-37.744699999999995, -31.0224, -20.0086, -5.3... -37.7447 -31.0224   \n",
       "248  249  [-37.750299999999996, -31.0444, -20.0566, -5.4... -37.7503 -31.0444   \n",
       "\n",
       "           2       3  \n",
       "0        NaN     NaN  \n",
       "1        NaN     NaN  \n",
       "2        NaN     NaN  \n",
       "3        NaN     NaN  \n",
       "4        NaN     NaN  \n",
       "..       ...     ...  \n",
       "244 -19.8627 -5.1414  \n",
       "245 -19.9116 -5.2183  \n",
       "246 -19.9602 -5.2950  \n",
       "247 -20.0086 -5.3712  \n",
       "248 -20.0566 -5.4472  \n",
       "\n",
       "[249 rows x 6 columns]"
      ]
     },
     "execution_count": 47,
     "metadata": {},
     "output_type": "execute_result"
    }
   ],
   "source": [
    "df_e"
   ]
  },
  {
   "cell_type": "code",
   "execution_count": 20,
   "id": "8b035a51",
   "metadata": {},
   "outputs": [
    {
     "data": {
      "text/html": [
       "<div>\n",
       "<style scoped>\n",
       "    .dataframe tbody tr th:only-of-type {\n",
       "        vertical-align: middle;\n",
       "    }\n",
       "\n",
       "    .dataframe tbody tr th {\n",
       "        vertical-align: top;\n",
       "    }\n",
       "\n",
       "    .dataframe thead th {\n",
       "        text-align: right;\n",
       "    }\n",
       "</style>\n",
       "<table border=\"1\" class=\"dataframe\">\n",
       "  <thead>\n",
       "    <tr style=\"text-align: right;\">\n",
       "      <th></th>\n",
       "      <th>A</th>\n",
       "      <th>Energylevels</th>\n",
       "      <th>0</th>\n",
       "      <th>1</th>\n",
       "      <th>2</th>\n",
       "      <th>3</th>\n",
       "    </tr>\n",
       "  </thead>\n",
       "  <tbody>\n",
       "    <tr>\n",
       "      <th>14</th>\n",
       "      <td>15</td>\n",
       "      <td>[-28.474899999999998, -0.20830000000000426]</td>\n",
       "      <td>-28.4749</td>\n",
       "      <td>-0.2083</td>\n",
       "      <td>NaN</td>\n",
       "      <td>NaN</td>\n",
       "    </tr>\n",
       "  </tbody>\n",
       "</table>\n",
       "</div>"
      ],
      "text/plain": [
       "     A                                 Energylevels        0       1   2   3\n",
       "14  15  [-28.474899999999998, -0.20830000000000426] -28.4749 -0.2083 NaN NaN"
      ]
     },
     "execution_count": 20,
     "metadata": {},
     "output_type": "execute_result"
    }
   ],
   "source": [
    "df_e.loc[df_e[1] > -0.5]"
   ]
  },
  {
   "cell_type": "code",
   "execution_count": 21,
   "id": "bf53cce4",
   "metadata": {},
   "outputs": [
    {
     "data": {
      "text/html": [
       "<div>\n",
       "<style scoped>\n",
       "    .dataframe tbody tr th:only-of-type {\n",
       "        vertical-align: middle;\n",
       "    }\n",
       "\n",
       "    .dataframe tbody tr th {\n",
       "        vertical-align: top;\n",
       "    }\n",
       "\n",
       "    .dataframe thead th {\n",
       "        text-align: right;\n",
       "    }\n",
       "</style>\n",
       "<table border=\"1\" class=\"dataframe\">\n",
       "  <thead>\n",
       "    <tr style=\"text-align: right;\">\n",
       "      <th></th>\n",
       "      <th>A</th>\n",
       "      <th>Energylevels</th>\n",
       "      <th>0</th>\n",
       "      <th>1</th>\n",
       "      <th>2</th>\n",
       "      <th>3</th>\n",
       "    </tr>\n",
       "  </thead>\n",
       "  <tbody>\n",
       "    <tr>\n",
       "      <th>67</th>\n",
       "      <td>68</td>\n",
       "      <td>[-35.0837, -20.697499999999998, -0.18140000000...</td>\n",
       "      <td>-35.0837</td>\n",
       "      <td>-20.6975</td>\n",
       "      <td>-0.1814</td>\n",
       "      <td>NaN</td>\n",
       "    </tr>\n",
       "  </tbody>\n",
       "</table>\n",
       "</div>"
      ],
      "text/plain": [
       "     A                                       Energylevels        0        1  \\\n",
       "67  68  [-35.0837, -20.697499999999998, -0.18140000000... -35.0837 -20.6975   \n",
       "\n",
       "         2   3  \n",
       "67 -0.1814 NaN  "
      ]
     },
     "execution_count": 21,
     "metadata": {},
     "output_type": "execute_result"
    }
   ],
   "source": [
    "df_e.loc[df_e[2] > -0.2]"
   ]
  },
  {
   "cell_type": "code",
   "execution_count": 22,
   "id": "3403eb13",
   "metadata": {},
   "outputs": [
    {
     "data": {
      "text/html": [
       "<div>\n",
       "<style scoped>\n",
       "    .dataframe tbody tr th:only-of-type {\n",
       "        vertical-align: middle;\n",
       "    }\n",
       "\n",
       "    .dataframe tbody tr th {\n",
       "        vertical-align: top;\n",
       "    }\n",
       "\n",
       "    .dataframe thead th {\n",
       "        text-align: right;\n",
       "    }\n",
       "</style>\n",
       "<table border=\"1\" class=\"dataframe\">\n",
       "  <thead>\n",
       "    <tr style=\"text-align: right;\">\n",
       "      <th></th>\n",
       "      <th>A</th>\n",
       "      <th>Energylevels</th>\n",
       "      <th>0</th>\n",
       "      <th>1</th>\n",
       "      <th>2</th>\n",
       "      <th>3</th>\n",
       "    </tr>\n",
       "  </thead>\n",
       "  <tbody>\n",
       "    <tr>\n",
       "      <th>183</th>\n",
       "      <td>184</td>\n",
       "      <td>[-37.2925, -29.240599999999997, -16.1516999999...</td>\n",
       "      <td>-37.2925</td>\n",
       "      <td>-29.2406</td>\n",
       "      <td>-16.1517</td>\n",
       "      <td>-0.1105</td>\n",
       "    </tr>\n",
       "  </tbody>\n",
       "</table>\n",
       "</div>"
      ],
      "text/plain": [
       "       A                                       Energylevels        0        1  \\\n",
       "183  184  [-37.2925, -29.240599999999997, -16.1516999999... -37.2925 -29.2406   \n",
       "\n",
       "           2       3  \n",
       "183 -16.1517 -0.1105  "
      ]
     },
     "execution_count": 22,
     "metadata": {},
     "output_type": "execute_result"
    }
   ],
   "source": [
    "df_e.loc[df_e[3] > -0.15]"
   ]
  },
  {
   "cell_type": "code",
   "execution_count": 23,
   "id": "1012f9b2",
   "metadata": {},
   "outputs": [
    {
     "data": {
      "image/png": "[encoded data removed]",
      "text/plain": [
       "<Figure size 640x480 with 1 Axes>"
      ]
     },
     "metadata": {},
     "output_type": "display_data"
    }
   ],
   "source": [
    "U_0s = np.linspace(185,500, 100)\n",
    "plt.plot(U_0s, func(U_0s, 25))\n",
    "#plt.xlim(40,50)\n",
    "plt.show()"
   ]
  },
  {
   "cell_type": "markdown",
   "id": "bcad7aad",
   "metadata": {},
   "source": [
    "# C"
   ]
  },
  {
   "cell_type": "code",
   "execution_count": 24,
   "id": "11d1a320",
   "metadata": {},
   "outputs": [],
   "source": [
    "def book_eq_3_47(R: float):\n",
    "    \"\"\"\n",
    "    kR = pi/2\n",
    "    and it then follows that\n",
    "    \"\"\"\n",
    "    m = 469.48968 \n",
    "    U_cr = np.pi**2 * hbarc**2 / (8 * m * R**2)\n",
    "    return U_cr"
   ]
  },
  {
   "cell_type": "code",
   "execution_count": 25,
   "id": "3436c629",
   "metadata": {},
   "outputs": [
    {
     "data": {
      "image/png": "[encoded data removed]",
      "text/plain": [
       "<Figure size 640x480 with 1 Axes>"
      ]
     },
     "metadata": {},
     "output_type": "display_data"
    }
   ],
   "source": [
    "# It can be seen on this graph that for a higher U_0 can support a large R such kR = pi /2 \n",
    "U_0s = np.linspace(10,4000, 100)\n",
    "plt.plot(U_0s, func(U_0s, 2))\n",
    "#plt.xlim(40,50)\n",
    "plt.show()\n",
    "# You can see this periodicy"
   ]
  },
  {
   "cell_type": "code",
   "execution_count": 26,
   "id": "38d29dae",
   "metadata": {},
   "outputs": [
    {
     "data": {
      "text/plain": [
       "35.404527153647386"
      ]
     },
     "execution_count": 26,
     "metadata": {},
     "output_type": "execute_result"
    }
   ],
   "source": [
    "book_eq_3_47(1.7)"
   ]
  },
  {
   "cell_type": "code",
   "execution_count": 27,
   "id": "cd74653b",
   "metadata": {},
   "outputs": [],
   "source": [
    "def get_A(n: int) -> float:\n",
    "    reduced_m_neutron = 940.6  # MeV / c²\n",
    "    hbarc = 197.327  # MeV * fm\n",
    "    U_0 = 40  # MeV\n",
    "    k1 = np.sqrt(2 * reduced_m_neutron * (U_0)) / hbarc\n",
    "    output = ((n * np.pi) / (k1 * 2 * 1.4))**3\n",
    "    return output"
   ]
  },
  {
   "cell_type": "code",
   "execution_count": 51,
   "id": "52f91517",
   "metadata": {},
   "outputs": [],
   "source": [
    "A_bessel = [df_e.loc[df_e[i] > -10, \"A\"].values[0] for i in range(4)]"
   ]
  },
  {
   "cell_type": "code",
   "execution_count": 52,
   "id": "5237b3ca",
   "metadata": {},
   "outputs": [
    {
     "data": {
      "text/plain": [
       "(array([3, 5, 7]), [1, 15, 68, 184])"
      ]
     },
     "execution_count": 52,
     "metadata": {},
     "output_type": "execute_result"
    }
   ],
   "source": [
    "ns[1:], A_bessel"
   ]
  },
  {
   "cell_type": "code",
   "execution_count": 54,
   "id": "b9a80250",
   "metadata": {},
   "outputs": [
    {
     "data": {
      "text/html": [
       "<div>\n",
       "<style scoped>\n",
       "    .dataframe tbody tr th:only-of-type {\n",
       "        vertical-align: middle;\n",
       "    }\n",
       "\n",
       "    .dataframe tbody tr th {\n",
       "        vertical-align: top;\n",
       "    }\n",
       "\n",
       "    .dataframe thead th {\n",
       "        text-align: right;\n",
       "    }\n",
       "</style>\n",
       "<table border=\"1\" class=\"dataframe\">\n",
       "  <thead>\n",
       "    <tr style=\"text-align: right;\">\n",
       "      <th></th>\n",
       "      <th>n</th>\n",
       "      <th>A (E = 0)</th>\n",
       "      <th>A (from bessel E closest to 0)</th>\n",
       "    </tr>\n",
       "  </thead>\n",
       "  <tbody>\n",
       "    <tr>\n",
       "      <th>0</th>\n",
       "      <td>1</td>\n",
       "      <td>0.525766</td>\n",
       "      <td>1</td>\n",
       "    </tr>\n",
       "    <tr>\n",
       "      <th>1</th>\n",
       "      <td>3</td>\n",
       "      <td>14.195686</td>\n",
       "      <td>15</td>\n",
       "    </tr>\n",
       "    <tr>\n",
       "      <th>2</th>\n",
       "      <td>5</td>\n",
       "      <td>65.720769</td>\n",
       "      <td>68</td>\n",
       "    </tr>\n",
       "    <tr>\n",
       "      <th>3</th>\n",
       "      <td>7</td>\n",
       "      <td>180.337789</td>\n",
       "      <td>184</td>\n",
       "    </tr>\n",
       "  </tbody>\n",
       "</table>\n",
       "</div>"
      ],
      "text/plain": [
       "   n   A (E = 0)  A (from bessel E closest to 0)\n",
       "0  1    0.525766                               1\n",
       "1  3   14.195686                              15\n",
       "2  5   65.720769                              68\n",
       "3  7  180.337789                             184"
      ]
     },
     "execution_count": 54,
     "metadata": {},
     "output_type": "execute_result"
    }
   ],
   "source": [
    "pd.DataFrame({\"n\": ns, \"A (E = 0)\": A_computed, \"A (from bessel E closest to 0)\": A_bessel})"
   ]
  },
  {
   "cell_type": "markdown",
   "id": "8b63c8d7",
   "metadata": {},
   "source": []
  },
  {
   "cell_type": "code",
   "execution_count": 31,
   "id": "51fcd2dc",
   "metadata": {},
   "outputs": [
    {
     "data": {
      "image/png": "[encoded data removed]",
      "text/plain": [
       "<Figure size 640x480 with 1 Axes>"
      ]
     },
     "metadata": {},
     "output_type": "display_data"
    }
   ],
   "source": [
    "plt.scatter(ns, A_computed)\n",
    "plt.scatter(ns[1:], A_bessel)\n",
    "for i in range(len(ns)):\n",
    "    plt.annotate(xy=[ns[i]+ 0.1, A_computed[i]], text=f\"{A_computed[i]:.4}\")\n",
    "    \n",
    "plt.grid()\n",
    "plt.show()"
   ]
  }
 ],
 "metadata": {
  "kernelspec": {
   "display_name": "Python 3",
   "language": "python",
   "name": "python3"
  },
  "language_info": {
   "codemirror_mode": {
    "name": "ipython",
    "version": 3
   },
   "file_extension": ".py",
   "mimetype": "text/x-python",
   "name": "python",
   "nbconvert_exporter": "python",
   "pygments_lexer": "ipython3",
   "version": "3.8.8"
  }
 },
 "nbformat": 4,
 "nbformat_minor": 5
}
