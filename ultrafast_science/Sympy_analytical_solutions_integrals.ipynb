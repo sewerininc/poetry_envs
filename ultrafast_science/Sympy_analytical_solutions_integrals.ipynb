{
 "cells": [
  {
   "cell_type": "code",
   "execution_count": 17,
   "id": "0d6f826a",
   "metadata": {},
   "outputs": [],
   "source": [
    "import sympy as smp\n",
    "import numpy as np\n",
    "from scipy.integrate import quad "
   ]
  },
  {
   "cell_type": "code",
   "execution_count": 18,
   "id": "5c748a17",
   "metadata": {},
   "outputs": [],
   "source": [
    "I = 5e13\n",
    "convertion_I_au = 3.51e16\n",
    "I_au = I / convertion_I_au\n",
    "F_0 = np.sqrt(I_au)\n",
    "\n",
    "conversion_ev_au = 27.21\n",
    "w_800 = 1.56 / conversion_ev_au\n",
    "w_400 = w_800 * 800 / 400\n",
    "w_s = w_400\n",
    "\n",
    "A_0_s = F_0 / w_400\n",
    "\n",
    "E_0_s = -13.6 / conversion_ev_au\n",
    "\n",
    "N_s = 3\n",
    "T_C_s = 2 * np.pi / w_s\n",
    "T_s = N_s * T_C_s\n",
    "\n",
    "phase_s = 0.5\n",
    "epsilon_s = 0.5"
   ]
  },
  {
   "cell_type": "markdown",
   "id": "13f4b027",
   "metadata": {},
   "source": [
    "### Calculate the two (three) tedious (easy) integrals "
   ]
  },
  {
   "cell_type": "code",
   "execution_count": 3,
   "id": "f7ac7596",
   "metadata": {},
   "outputs": [],
   "source": [
    "t, T, w, p = smp.symbols('t, T, w, p', real=True, positive=True)"
   ]
  },
  {
   "cell_type": "markdown",
   "id": "9701b74e",
   "metadata": {},
   "source": [
    "### A(t)**2"
   ]
  },
  {
   "cell_type": "code",
   "execution_count": 4,
   "id": "3d421d2b",
   "metadata": {},
   "outputs": [
    {
     "data": {
      "text/latex": [
       "$\\displaystyle \\sin^{4}{\\left(\\frac{\\pi t}{T} \\right)} \\sin^{2}{\\left(p + t w \\right)}$"
      ],
      "text/plain": [
       "sin(pi*t/T)**4*sin(p + t*w)**2"
      ]
     },
     "execution_count": 4,
     "metadata": {},
     "output_type": "execute_result"
    }
   ],
   "source": [
    "func_sin4sin2 = (smp.sin(smp.pi * t / T)**2 * smp.sin(w * t + p))**2\n",
    "func_sin4sin2"
   ]
  },
  {
   "cell_type": "code",
   "execution_count": 5,
   "id": "d0256398",
   "metadata": {
    "scrolled": true
   },
   "outputs": [],
   "source": [
    "int_sin4sin2 = smp.integrate(func_sin4sin2, (t, 0, t))"
   ]
  },
  {
   "cell_type": "code",
   "execution_count": 9,
   "id": "ad287257",
   "metadata": {},
   "outputs": [
    {
     "data": {
      "text/latex": [
       "$\\displaystyle \\begin{cases} \\frac{5 t \\sin^{4}{\\left(t w \\right)} \\sin^{2}{\\left(p + t w \\right)}}{16} + \\frac{t \\sin^{4}{\\left(t w \\right)} \\cos^{2}{\\left(p + t w \\right)}}{16} + \\frac{t \\sin^{3}{\\left(t w \\right)} \\sin{\\left(p + t w \\right)} \\cos{\\left(t w \\right)} \\cos{\\left(p + t w \\right)}}{2} + \\frac{3 t \\sin^{2}{\\left(t w \\right)} \\sin^{2}{\\left(p + t w \\right)} \\cos^{2}{\\left(t w \\right)}}{8} + \\frac{3 t \\sin^{2}{\\left(t w \\right)} \\cos^{2}{\\left(t w \\right)} \\cos^{2}{\\left(p + t w \\right)}}{8} + \\frac{t \\sin{\\left(t w \\right)} \\sin{\\left(p + t w \\right)} \\cos^{3}{\\left(t w \\right)} \\cos{\\left(p + t w \\right)}}{2} + \\frac{t \\sin^{2}{\\left(p + t w \\right)} \\cos^{4}{\\left(t w \\right)}}{16} + \\frac{5 t \\cos^{4}{\\left(t w \\right)} \\cos^{2}{\\left(p + t w \\right)}}{16} - \\frac{\\sin{\\left(p \\right)} \\cos{\\left(p \\right)}}{16 w} - \\frac{19 \\sin^{4}{\\left(t w \\right)} \\sin{\\left(p + t w \\right)} \\cos{\\left(p + t w \\right)}}{48 w} - \\frac{7 \\sin^{3}{\\left(t w \\right)} \\sin^{2}{\\left(p + t w \\right)} \\cos{\\left(t w \\right)}}{24 w} - \\frac{\\sin^{3}{\\left(t w \\right)} \\cos{\\left(t w \\right)} \\cos^{2}{\\left(p + t w \\right)}}{3 w} - \\frac{\\sin^{2}{\\left(t w \\right)} \\sin{\\left(p + t w \\right)} \\cos^{2}{\\left(t w \\right)} \\cos{\\left(p + t w \\right)}}{2 w} - \\frac{3 \\sin{\\left(t w \\right)} \\cos^{3}{\\left(t w \\right)} \\cos^{2}{\\left(p + t w \\right)}}{8 w} + \\frac{\\sin{\\left(p + t w \\right)} \\cos^{4}{\\left(t w \\right)} \\cos{\\left(p + t w \\right)}}{16 w} & \\text{for}\\: \\left(T = \\frac{\\pi}{w} \\wedge T = \\frac{2 \\pi}{w}\\right) \\vee T = \\frac{\\pi}{w} \\\\\\frac{7 t \\sin^{4}{\\left(\\frac{t w}{2} \\right)} \\sin^{2}{\\left(p + t w \\right)}}{32} + \\frac{5 t \\sin^{4}{\\left(\\frac{t w}{2} \\right)} \\cos^{2}{\\left(p + t w \\right)}}{32} + \\frac{t \\sin^{3}{\\left(\\frac{t w}{2} \\right)} \\sin{\\left(p + t w \\right)} \\cos{\\left(\\frac{t w}{2} \\right)} \\cos{\\left(p + t w \\right)}}{4} + \\frac{3 t \\sin^{2}{\\left(\\frac{t w}{2} \\right)} \\sin^{2}{\\left(p + t w \\right)} \\cos^{2}{\\left(\\frac{t w}{2} \\right)}}{16} + \\frac{9 t \\sin^{2}{\\left(\\frac{t w}{2} \\right)} \\cos^{2}{\\left(\\frac{t w}{2} \\right)} \\cos^{2}{\\left(p + t w \\right)}}{16} - \\frac{t \\sin{\\left(\\frac{t w}{2} \\right)} \\sin{\\left(p + t w \\right)} \\cos^{3}{\\left(\\frac{t w}{2} \\right)} \\cos{\\left(p + t w \\right)}}{4} + \\frac{7 t \\sin^{2}{\\left(p + t w \\right)} \\cos^{4}{\\left(\\frac{t w}{2} \\right)}}{32} + \\frac{5 t \\cos^{4}{\\left(\\frac{t w}{2} \\right)} \\cos^{2}{\\left(p + t w \\right)}}{32} - \\frac{\\sin{\\left(p \\right)} \\cos{\\left(p \\right)}}{12 w} - \\frac{7 \\sin^{4}{\\left(\\frac{t w}{2} \\right)} \\sin{\\left(p + t w \\right)} \\cos{\\left(p + t w \\right)}}{12 w} - \\frac{19 \\sin^{3}{\\left(\\frac{t w}{2} \\right)} \\sin^{2}{\\left(p + t w \\right)} \\cos{\\left(\\frac{t w}{2} \\right)}}{48 w} - \\frac{41 \\sin^{3}{\\left(\\frac{t w}{2} \\right)} \\cos{\\left(\\frac{t w}{2} \\right)} \\cos^{2}{\\left(p + t w \\right)}}{48 w} - \\frac{13 \\sin{\\left(\\frac{t w}{2} \\right)} \\sin^{2}{\\left(p + t w \\right)} \\cos^{3}{\\left(\\frac{t w}{2} \\right)}}{48 w} - \\frac{23 \\sin{\\left(\\frac{t w}{2} \\right)} \\cos^{3}{\\left(\\frac{t w}{2} \\right)} \\cos^{2}{\\left(p + t w \\right)}}{48 w} + \\frac{\\sin{\\left(p + t w \\right)} \\cos^{4}{\\left(\\frac{t w}{2} \\right)} \\cos{\\left(p + t w \\right)}}{12 w} & \\text{for}\\: T = \\frac{2 \\pi}{w} \\\\- \\frac{5 T^{5} w^{5} \\sin^{3}{\\left(\\frac{\\pi t}{T} \\right)} \\sin^{2}{\\left(p + t w \\right)} \\cos{\\left(\\frac{\\pi t}{T} \\right)}}{16 \\pi T^{4} w^{5} - 80 \\pi^{3} T^{2} w^{3} + 64 \\pi^{5} w} - \\frac{5 T^{5} w^{5} \\sin^{3}{\\left(\\frac{\\pi t}{T} \\right)} \\cos{\\left(\\frac{\\pi t}{T} \\right)} \\cos^{2}{\\left(p + t w \\right)}}{16 \\pi T^{4} w^{5} - 80 \\pi^{3} T^{2} w^{3} + 64 \\pi^{5} w} - \\frac{3 T^{5} w^{5} \\sin{\\left(\\frac{\\pi t}{T} \\right)} \\sin^{2}{\\left(p + t w \\right)} \\cos^{3}{\\left(\\frac{\\pi t}{T} \\right)}}{16 \\pi T^{4} w^{5} - 80 \\pi^{3} T^{2} w^{3} + 64 \\pi^{5} w} - \\frac{3 T^{5} w^{5} \\sin{\\left(\\frac{\\pi t}{T} \\right)} \\cos^{3}{\\left(\\frac{\\pi t}{T} \\right)} \\cos^{2}{\\left(p + t w \\right)}}{16 \\pi T^{4} w^{5} - 80 \\pi^{3} T^{2} w^{3} + 64 \\pi^{5} w} + \\frac{3 \\pi T^{4} t w^{5} \\sin^{4}{\\left(\\frac{\\pi t}{T} \\right)} \\sin^{2}{\\left(p + t w \\right)}}{16 \\pi T^{4} w^{5} - 80 \\pi^{3} T^{2} w^{3} + 64 \\pi^{5} w} + \\frac{3 \\pi T^{4} t w^{5} \\sin^{4}{\\left(\\frac{\\pi t}{T} \\right)} \\cos^{2}{\\left(p + t w \\right)}}{16 \\pi T^{4} w^{5} - 80 \\pi^{3} T^{2} w^{3} + 64 \\pi^{5} w} + \\frac{6 \\pi T^{4} t w^{5} \\sin^{2}{\\left(\\frac{\\pi t}{T} \\right)} \\sin^{2}{\\left(p + t w \\right)} \\cos^{2}{\\left(\\frac{\\pi t}{T} \\right)}}{16 \\pi T^{4} w^{5} - 80 \\pi^{3} T^{2} w^{3} + 64 \\pi^{5} w} + \\frac{6 \\pi T^{4} t w^{5} \\sin^{2}{\\left(\\frac{\\pi t}{T} \\right)} \\cos^{2}{\\left(\\frac{\\pi t}{T} \\right)} \\cos^{2}{\\left(p + t w \\right)}}{16 \\pi T^{4} w^{5} - 80 \\pi^{3} T^{2} w^{3} + 64 \\pi^{5} w} + \\frac{3 \\pi T^{4} t w^{5} \\sin^{2}{\\left(p + t w \\right)} \\cos^{4}{\\left(\\frac{\\pi t}{T} \\right)}}{16 \\pi T^{4} w^{5} - 80 \\pi^{3} T^{2} w^{3} + 64 \\pi^{5} w} + \\frac{3 \\pi T^{4} t w^{5} \\cos^{4}{\\left(\\frac{\\pi t}{T} \\right)} \\cos^{2}{\\left(p + t w \\right)}}{16 \\pi T^{4} w^{5} - 80 \\pi^{3} T^{2} w^{3} + 64 \\pi^{5} w} - \\frac{8 \\pi T^{4} w^{4} \\sin^{4}{\\left(\\frac{\\pi t}{T} \\right)} \\sin{\\left(p + t w \\right)} \\cos{\\left(p + t w \\right)}}{16 \\pi T^{4} w^{5} - 80 \\pi^{3} T^{2} w^{3} + 64 \\pi^{5} w} + \\frac{33 \\pi^{2} T^{3} w^{3} \\sin^{3}{\\left(\\frac{\\pi t}{T} \\right)} \\sin^{2}{\\left(p + t w \\right)} \\cos{\\left(\\frac{\\pi t}{T} \\right)}}{16 \\pi T^{4} w^{5} - 80 \\pi^{3} T^{2} w^{3} + 64 \\pi^{5} w} + \\frac{17 \\pi^{2} T^{3} w^{3} \\sin^{3}{\\left(\\frac{\\pi t}{T} \\right)} \\cos{\\left(\\frac{\\pi t}{T} \\right)} \\cos^{2}{\\left(p + t w \\right)}}{16 \\pi T^{4} w^{5} - 80 \\pi^{3} T^{2} w^{3} + 64 \\pi^{5} w} + \\frac{15 \\pi^{2} T^{3} w^{3} \\sin{\\left(\\frac{\\pi t}{T} \\right)} \\sin^{2}{\\left(p + t w \\right)} \\cos^{3}{\\left(\\frac{\\pi t}{T} \\right)}}{16 \\pi T^{4} w^{5} - 80 \\pi^{3} T^{2} w^{3} + 64 \\pi^{5} w} + \\frac{15 \\pi^{2} T^{3} w^{3} \\sin{\\left(\\frac{\\pi t}{T} \\right)} \\cos^{3}{\\left(\\frac{\\pi t}{T} \\right)} \\cos^{2}{\\left(p + t w \\right)}}{16 \\pi T^{4} w^{5} - 80 \\pi^{3} T^{2} w^{3} + 64 \\pi^{5} w} - \\frac{15 \\pi^{3} T^{2} t w^{3} \\sin^{4}{\\left(\\frac{\\pi t}{T} \\right)} \\sin^{2}{\\left(p + t w \\right)}}{16 \\pi T^{4} w^{5} - 80 \\pi^{3} T^{2} w^{3} + 64 \\pi^{5} w} - \\frac{15 \\pi^{3} T^{2} t w^{3} \\sin^{4}{\\left(\\frac{\\pi t}{T} \\right)} \\cos^{2}{\\left(p + t w \\right)}}{16 \\pi T^{4} w^{5} - 80 \\pi^{3} T^{2} w^{3} + 64 \\pi^{5} w} - \\frac{30 \\pi^{3} T^{2} t w^{3} \\sin^{2}{\\left(\\frac{\\pi t}{T} \\right)} \\sin^{2}{\\left(p + t w \\right)} \\cos^{2}{\\left(\\frac{\\pi t}{T} \\right)}}{16 \\pi T^{4} w^{5} - 80 \\pi^{3} T^{2} w^{3} + 64 \\pi^{5} w} - \\frac{30 \\pi^{3} T^{2} t w^{3} \\sin^{2}{\\left(\\frac{\\pi t}{T} \\right)} \\cos^{2}{\\left(\\frac{\\pi t}{T} \\right)} \\cos^{2}{\\left(p + t w \\right)}}{16 \\pi T^{4} w^{5} - 80 \\pi^{3} T^{2} w^{3} + 64 \\pi^{5} w} - \\frac{15 \\pi^{3} T^{2} t w^{3} \\sin^{2}{\\left(p + t w \\right)} \\cos^{4}{\\left(\\frac{\\pi t}{T} \\right)}}{16 \\pi T^{4} w^{5} - 80 \\pi^{3} T^{2} w^{3} + 64 \\pi^{5} w} - \\frac{15 \\pi^{3} T^{2} t w^{3} \\cos^{4}{\\left(\\frac{\\pi t}{T} \\right)} \\cos^{2}{\\left(p + t w \\right)}}{16 \\pi T^{4} w^{5} - 80 \\pi^{3} T^{2} w^{3} + 64 \\pi^{5} w} + \\frac{32 \\pi^{3} T^{2} w^{2} \\sin^{4}{\\left(\\frac{\\pi t}{T} \\right)} \\sin{\\left(p + t w \\right)} \\cos{\\left(p + t w \\right)}}{16 \\pi T^{4} w^{5} - 80 \\pi^{3} T^{2} w^{3} + 64 \\pi^{5} w} + \\frac{24 \\pi^{3} T^{2} w^{2} \\sin^{2}{\\left(\\frac{\\pi t}{T} \\right)} \\sin{\\left(p + t w \\right)} \\cos^{2}{\\left(\\frac{\\pi t}{T} \\right)} \\cos{\\left(p + t w \\right)}}{16 \\pi T^{4} w^{5} - 80 \\pi^{3} T^{2} w^{3} + 64 \\pi^{5} w} - \\frac{40 \\pi^{4} T w \\sin^{3}{\\left(\\frac{\\pi t}{T} \\right)} \\sin^{2}{\\left(p + t w \\right)} \\cos{\\left(\\frac{\\pi t}{T} \\right)}}{16 \\pi T^{4} w^{5} - 80 \\pi^{3} T^{2} w^{3} + 64 \\pi^{5} w} - \\frac{24 \\pi^{4} T w \\sin{\\left(\\frac{\\pi t}{T} \\right)} \\sin^{2}{\\left(p + t w \\right)} \\cos^{3}{\\left(\\frac{\\pi t}{T} \\right)}}{16 \\pi T^{4} w^{5} - 80 \\pi^{3} T^{2} w^{3} + 64 \\pi^{5} w} + \\frac{12 \\pi^{5} t w \\sin^{4}{\\left(\\frac{\\pi t}{T} \\right)} \\sin^{2}{\\left(p + t w \\right)}}{16 \\pi T^{4} w^{5} - 80 \\pi^{3} T^{2} w^{3} + 64 \\pi^{5} w} + \\frac{12 \\pi^{5} t w \\sin^{4}{\\left(\\frac{\\pi t}{T} \\right)} \\cos^{2}{\\left(p + t w \\right)}}{16 \\pi T^{4} w^{5} - 80 \\pi^{3} T^{2} w^{3} + 64 \\pi^{5} w} + \\frac{24 \\pi^{5} t w \\sin^{2}{\\left(\\frac{\\pi t}{T} \\right)} \\sin^{2}{\\left(p + t w \\right)} \\cos^{2}{\\left(\\frac{\\pi t}{T} \\right)}}{16 \\pi T^{4} w^{5} - 80 \\pi^{3} T^{2} w^{3} + 64 \\pi^{5} w} + \\frac{24 \\pi^{5} t w \\sin^{2}{\\left(\\frac{\\pi t}{T} \\right)} \\cos^{2}{\\left(\\frac{\\pi t}{T} \\right)} \\cos^{2}{\\left(p + t w \\right)}}{16 \\pi T^{4} w^{5} - 80 \\pi^{3} T^{2} w^{3} + 64 \\pi^{5} w} + \\frac{12 \\pi^{5} t w \\sin^{2}{\\left(p + t w \\right)} \\cos^{4}{\\left(\\frac{\\pi t}{T} \\right)}}{16 \\pi T^{4} w^{5} - 80 \\pi^{3} T^{2} w^{3} + 64 \\pi^{5} w} + \\frac{12 \\pi^{5} t w \\cos^{4}{\\left(\\frac{\\pi t}{T} \\right)} \\cos^{2}{\\left(p + t w \\right)}}{16 \\pi T^{4} w^{5} - 80 \\pi^{3} T^{2} w^{3} + 64 \\pi^{5} w} + \\frac{12 \\pi^{5} \\sin{\\left(p \\right)} \\cos{\\left(p \\right)}}{16 \\pi T^{4} w^{5} - 80 \\pi^{3} T^{2} w^{3} + 64 \\pi^{5} w} - \\frac{12 \\pi^{5} \\sin^{4}{\\left(\\frac{\\pi t}{T} \\right)} \\sin{\\left(p + t w \\right)} \\cos{\\left(p + t w \\right)}}{16 \\pi T^{4} w^{5} - 80 \\pi^{3} T^{2} w^{3} + 64 \\pi^{5} w} - \\frac{24 \\pi^{5} \\sin^{2}{\\left(\\frac{\\pi t}{T} \\right)} \\sin{\\left(p + t w \\right)} \\cos^{2}{\\left(\\frac{\\pi t}{T} \\right)} \\cos{\\left(p + t w \\right)}}{16 \\pi T^{4} w^{5} - 80 \\pi^{3} T^{2} w^{3} + 64 \\pi^{5} w} - \\frac{12 \\pi^{5} \\sin{\\left(p + t w \\right)} \\cos^{4}{\\left(\\frac{\\pi t}{T} \\right)} \\cos{\\left(p + t w \\right)}}{16 \\pi T^{4} w^{5} - 80 \\pi^{3} T^{2} w^{3} + 64 \\pi^{5} w} & \\text{otherwise} \\end{cases}$"
      ],
      "text/plain": [
       "Piecewise((5*t*sin(t*w)**4*sin(p + t*w)**2/16 + t*sin(t*w)**4*cos(p + t*w)**2/16 + t*sin(t*w)**3*sin(p + t*w)*cos(t*w)*cos(p + t*w)/2 + 3*t*sin(t*w)**2*sin(p + t*w)**2*cos(t*w)**2/8 + 3*t*sin(t*w)**2*cos(t*w)**2*cos(p + t*w)**2/8 + t*sin(t*w)*sin(p + t*w)*cos(t*w)**3*cos(p + t*w)/2 + t*sin(p + t*w)**2*cos(t*w)**4/16 + 5*t*cos(t*w)**4*cos(p + t*w)**2/16 - sin(p)*cos(p)/(16*w) - 19*sin(t*w)**4*sin(p + t*w)*cos(p + t*w)/(48*w) - 7*sin(t*w)**3*sin(p + t*w)**2*cos(t*w)/(24*w) - sin(t*w)**3*cos(t*w)*cos(p + t*w)**2/(3*w) - sin(t*w)**2*sin(p + t*w)*cos(t*w)**2*cos(p + t*w)/(2*w) - 3*sin(t*w)*cos(t*w)**3*cos(p + t*w)**2/(8*w) + sin(p + t*w)*cos(t*w)**4*cos(p + t*w)/(16*w), Eq(T, pi/w) | (Eq(T, pi/w) & Eq(T, 2*pi/w))), (7*t*sin(t*w/2)**4*sin(p + t*w)**2/32 + 5*t*sin(t*w/2)**4*cos(p + t*w)**2/32 + t*sin(t*w/2)**3*sin(p + t*w)*cos(t*w/2)*cos(p + t*w)/4 + 3*t*sin(t*w/2)**2*sin(p + t*w)**2*cos(t*w/2)**2/16 + 9*t*sin(t*w/2)**2*cos(t*w/2)**2*cos(p + t*w)**2/16 - t*sin(t*w/2)*sin(p + t*w)*cos(t*w/2)**3*cos(p + t*w)/4 + 7*t*sin(p + t*w)**2*cos(t*w/2)**4/32 + 5*t*cos(t*w/2)**4*cos(p + t*w)**2/32 - sin(p)*cos(p)/(12*w) - 7*sin(t*w/2)**4*sin(p + t*w)*cos(p + t*w)/(12*w) - 19*sin(t*w/2)**3*sin(p + t*w)**2*cos(t*w/2)/(48*w) - 41*sin(t*w/2)**3*cos(t*w/2)*cos(p + t*w)**2/(48*w) - 13*sin(t*w/2)*sin(p + t*w)**2*cos(t*w/2)**3/(48*w) - 23*sin(t*w/2)*cos(t*w/2)**3*cos(p + t*w)**2/(48*w) + sin(p + t*w)*cos(t*w/2)**4*cos(p + t*w)/(12*w), Eq(T, 2*pi/w)), (-5*T**5*w**5*sin(pi*t/T)**3*sin(p + t*w)**2*cos(pi*t/T)/(16*pi*T**4*w**5 - 80*pi**3*T**2*w**3 + 64*pi**5*w) - 5*T**5*w**5*sin(pi*t/T)**3*cos(pi*t/T)*cos(p + t*w)**2/(16*pi*T**4*w**5 - 80*pi**3*T**2*w**3 + 64*pi**5*w) - 3*T**5*w**5*sin(pi*t/T)*sin(p + t*w)**2*cos(pi*t/T)**3/(16*pi*T**4*w**5 - 80*pi**3*T**2*w**3 + 64*pi**5*w) - 3*T**5*w**5*sin(pi*t/T)*cos(pi*t/T)**3*cos(p + t*w)**2/(16*pi*T**4*w**5 - 80*pi**3*T**2*w**3 + 64*pi**5*w) + 3*pi*T**4*t*w**5*sin(pi*t/T)**4*sin(p + t*w)**2/(16*pi*T**4*w**5 - 80*pi**3*T**2*w**3 + 64*pi**5*w) + 3*pi*T**4*t*w**5*sin(pi*t/T)**4*cos(p + t*w)**2/(16*pi*T**4*w**5 - 80*pi**3*T**2*w**3 + 64*pi**5*w) + 6*pi*T**4*t*w**5*sin(pi*t/T)**2*sin(p + t*w)**2*cos(pi*t/T)**2/(16*pi*T**4*w**5 - 80*pi**3*T**2*w**3 + 64*pi**5*w) + 6*pi*T**4*t*w**5*sin(pi*t/T)**2*cos(pi*t/T)**2*cos(p + t*w)**2/(16*pi*T**4*w**5 - 80*pi**3*T**2*w**3 + 64*pi**5*w) + 3*pi*T**4*t*w**5*sin(p + t*w)**2*cos(pi*t/T)**4/(16*pi*T**4*w**5 - 80*pi**3*T**2*w**3 + 64*pi**5*w) + 3*pi*T**4*t*w**5*cos(pi*t/T)**4*cos(p + t*w)**2/(16*pi*T**4*w**5 - 80*pi**3*T**2*w**3 + 64*pi**5*w) - 8*pi*T**4*w**4*sin(pi*t/T)**4*sin(p + t*w)*cos(p + t*w)/(16*pi*T**4*w**5 - 80*pi**3*T**2*w**3 + 64*pi**5*w) + 33*pi**2*T**3*w**3*sin(pi*t/T)**3*sin(p + t*w)**2*cos(pi*t/T)/(16*pi*T**4*w**5 - 80*pi**3*T**2*w**3 + 64*pi**5*w) + 17*pi**2*T**3*w**3*sin(pi*t/T)**3*cos(pi*t/T)*cos(p + t*w)**2/(16*pi*T**4*w**5 - 80*pi**3*T**2*w**3 + 64*pi**5*w) + 15*pi**2*T**3*w**3*sin(pi*t/T)*sin(p + t*w)**2*cos(pi*t/T)**3/(16*pi*T**4*w**5 - 80*pi**3*T**2*w**3 + 64*pi**5*w) + 15*pi**2*T**3*w**3*sin(pi*t/T)*cos(pi*t/T)**3*cos(p + t*w)**2/(16*pi*T**4*w**5 - 80*pi**3*T**2*w**3 + 64*pi**5*w) - 15*pi**3*T**2*t*w**3*sin(pi*t/T)**4*sin(p + t*w)**2/(16*pi*T**4*w**5 - 80*pi**3*T**2*w**3 + 64*pi**5*w) - 15*pi**3*T**2*t*w**3*sin(pi*t/T)**4*cos(p + t*w)**2/(16*pi*T**4*w**5 - 80*pi**3*T**2*w**3 + 64*pi**5*w) - 30*pi**3*T**2*t*w**3*sin(pi*t/T)**2*sin(p + t*w)**2*cos(pi*t/T)**2/(16*pi*T**4*w**5 - 80*pi**3*T**2*w**3 + 64*pi**5*w) - 30*pi**3*T**2*t*w**3*sin(pi*t/T)**2*cos(pi*t/T)**2*cos(p + t*w)**2/(16*pi*T**4*w**5 - 80*pi**3*T**2*w**3 + 64*pi**5*w) - 15*pi**3*T**2*t*w**3*sin(p + t*w)**2*cos(pi*t/T)**4/(16*pi*T**4*w**5 - 80*pi**3*T**2*w**3 + 64*pi**5*w) - 15*pi**3*T**2*t*w**3*cos(pi*t/T)**4*cos(p + t*w)**2/(16*pi*T**4*w**5 - 80*pi**3*T**2*w**3 + 64*pi**5*w) + 32*pi**3*T**2*w**2*sin(pi*t/T)**4*sin(p + t*w)*cos(p + t*w)/(16*pi*T**4*w**5 - 80*pi**3*T**2*w**3 + 64*pi**5*w) + 24*pi**3*T**2*w**2*sin(pi*t/T)**2*sin(p + t*w)*cos(pi*t/T)**2*cos(p + t*w)/(16*pi*T**4*w**5 - 80*pi**3*T**2*w**3 + 64*pi**5*w) - 40*pi**4*T*w*sin(pi*t/T)**3*sin(p + t*w)**2*cos(pi*t/T)/(16*pi*T**4*w**5 - 80*pi**3*T**2*w**3 + 64*pi**5*w) - 24*pi**4*T*w*sin(pi*t/T)*sin(p + t*w)**2*cos(pi*t/T)**3/(16*pi*T**4*w**5 - 80*pi**3*T**2*w**3 + 64*pi**5*w) + 12*pi**5*t*w*sin(pi*t/T)**4*sin(p + t*w)**2/(16*pi*T**4*w**5 - 80*pi**3*T**2*w**3 + 64*pi**5*w) + 12*pi**5*t*w*sin(pi*t/T)**4*cos(p + t*w)**2/(16*pi*T**4*w**5 - 80*pi**3*T**2*w**3 + 64*pi**5*w) + 24*pi**5*t*w*sin(pi*t/T)**2*sin(p + t*w)**2*cos(pi*t/T)**2/(16*pi*T**4*w**5 - 80*pi**3*T**2*w**3 + 64*pi**5*w) + 24*pi**5*t*w*sin(pi*t/T)**2*cos(pi*t/T)**2*cos(p + t*w)**2/(16*pi*T**4*w**5 - 80*pi**3*T**2*w**3 + 64*pi**5*w) + 12*pi**5*t*w*sin(p + t*w)**2*cos(pi*t/T)**4/(16*pi*T**4*w**5 - 80*pi**3*T**2*w**3 + 64*pi**5*w) + 12*pi**5*t*w*cos(pi*t/T)**4*cos(p + t*w)**2/(16*pi*T**4*w**5 - 80*pi**3*T**2*w**3 + 64*pi**5*w) + 12*pi**5*sin(p)*cos(p)/(16*pi*T**4*w**5 - 80*pi**3*T**2*w**3 + 64*pi**5*w) - 12*pi**5*sin(pi*t/T)**4*sin(p + t*w)*cos(p + t*w)/(16*pi*T**4*w**5 - 80*pi**3*T**2*w**3 + 64*pi**5*w) - 24*pi**5*sin(pi*t/T)**2*sin(p + t*w)*cos(pi*t/T)**2*cos(p + t*w)/(16*pi*T**4*w**5 - 80*pi**3*T**2*w**3 + 64*pi**5*w) - 12*pi**5*sin(p + t*w)*cos(pi*t/T)**4*cos(p + t*w)/(16*pi*T**4*w**5 - 80*pi**3*T**2*w**3 + 64*pi**5*w), True))"
      ]
     },
     "execution_count": 9,
     "metadata": {},
     "output_type": "execute_result"
    }
   ],
   "source": [
    "int_sin4sin2"
   ]
  },
  {
   "cell_type": "code",
   "execution_count": 6,
   "id": "a93628a7",
   "metadata": {},
   "outputs": [],
   "source": [
    "simple_int_sin4sin2 = int_sin4sin2.simplify()"
   ]
  },
  {
   "cell_type": "code",
   "execution_count": 8,
   "id": "d9bf3f15",
   "metadata": {},
   "outputs": [
    {
     "data": {
      "text/latex": [
       "$\\displaystyle \\begin{cases} \\frac{24 t w \\left(2 \\cos{\\left(2 p \\right)} + 3\\right) - 19 \\left(1 - \\cos{\\left(2 t w \\right)}\\right)^{2} \\sin{\\left(2 p + 2 t w \\right)} + 3 \\left(\\cos{\\left(2 t w \\right)} + 1\\right)^{2} \\sin{\\left(2 p + 2 t w \\right)} - 12 \\sin{\\left(2 p \\right)} - 112 \\sin^{3}{\\left(t w \\right)} \\sin^{2}{\\left(p + t w \\right)} \\cos{\\left(t w \\right)} - 128 \\sin^{3}{\\left(t w \\right)} \\cos{\\left(t w \\right)} \\cos^{2}{\\left(p + t w \\right)} - 144 \\sin{\\left(t w \\right)} \\cos^{3}{\\left(t w \\right)} \\cos^{2}{\\left(p + t w \\right)} + 6 \\sin{\\left(2 p - 2 t w \\right)} - 12 \\sin{\\left(2 p + 2 t w \\right)} + 6 \\sin{\\left(2 p + 6 t w \\right)}}{384 w} & \\text{for}\\: T = \\frac{\\pi}{w} \\\\\\frac{3 t w \\left(6 - \\cos{\\left(2 p \\right)}\\right) - 7 \\left(1 - \\cos{\\left(t w \\right)}\\right)^{2} \\sin{\\left(2 p + 2 t w \\right)} + \\left(\\cos{\\left(t w \\right)} + 1\\right)^{2} \\sin{\\left(2 p + 2 t w \\right)} - 4 \\sin{\\left(2 p \\right)} - 38 \\sin^{3}{\\left(\\frac{t w}{2} \\right)} \\sin^{2}{\\left(p + t w \\right)} \\cos{\\left(\\frac{t w}{2} \\right)} - 82 \\sin^{3}{\\left(\\frac{t w}{2} \\right)} \\cos{\\left(\\frac{t w}{2} \\right)} \\cos^{2}{\\left(p + t w \\right)} - 26 \\sin{\\left(\\frac{t w}{2} \\right)} \\sin^{2}{\\left(p + t w \\right)} \\cos^{3}{\\left(\\frac{t w}{2} \\right)} - 46 \\sin{\\left(\\frac{t w}{2} \\right)} \\cos^{3}{\\left(\\frac{t w}{2} \\right)} \\cos^{2}{\\left(p + t w \\right)}}{96 w} & \\text{for}\\: T = \\frac{2 \\pi}{w} \\\\\\frac{- 5 T^{5} w^{5} \\sin^{3}{\\left(\\frac{\\pi t}{T} \\right)} \\sin^{2}{\\left(p + t w \\right)} \\cos{\\left(\\frac{\\pi t}{T} \\right)} - 5 T^{5} w^{5} \\sin^{3}{\\left(\\frac{\\pi t}{T} \\right)} \\cos{\\left(\\frac{\\pi t}{T} \\right)} \\cos^{2}{\\left(p + t w \\right)} - 3 T^{5} w^{5} \\sin{\\left(\\frac{\\pi t}{T} \\right)} \\sin^{2}{\\left(p + t w \\right)} \\cos^{3}{\\left(\\frac{\\pi t}{T} \\right)} - 3 T^{5} w^{5} \\sin{\\left(\\frac{\\pi t}{T} \\right)} \\cos^{3}{\\left(\\frac{\\pi t}{T} \\right)} \\cos^{2}{\\left(p + t w \\right)} + 3 \\pi T^{4} t w^{5} \\sin^{4}{\\left(\\frac{\\pi t}{T} \\right)} \\sin^{2}{\\left(p + t w \\right)} + 3 \\pi T^{4} t w^{5} \\sin^{4}{\\left(\\frac{\\pi t}{T} \\right)} \\cos^{2}{\\left(p + t w \\right)} + 6 \\pi T^{4} t w^{5} \\sin^{2}{\\left(\\frac{\\pi t}{T} \\right)} \\sin^{2}{\\left(p + t w \\right)} \\cos^{2}{\\left(\\frac{\\pi t}{T} \\right)} + 6 \\pi T^{4} t w^{5} \\sin^{2}{\\left(\\frac{\\pi t}{T} \\right)} \\cos^{2}{\\left(\\frac{\\pi t}{T} \\right)} \\cos^{2}{\\left(p + t w \\right)} + 3 \\pi T^{4} t w^{5} \\sin^{2}{\\left(p + t w \\right)} \\cos^{4}{\\left(\\frac{\\pi t}{T} \\right)} + 3 \\pi T^{4} t w^{5} \\cos^{4}{\\left(\\frac{\\pi t}{T} \\right)} \\cos^{2}{\\left(p + t w \\right)} - \\pi T^{4} w^{4} \\left(1 - \\cos{\\left(\\frac{2 \\pi t}{T} \\right)}\\right)^{2} \\sin{\\left(2 p + 2 t w \\right)} + 33 \\pi^{2} T^{3} w^{3} \\sin^{3}{\\left(\\frac{\\pi t}{T} \\right)} \\sin^{2}{\\left(p + t w \\right)} \\cos{\\left(\\frac{\\pi t}{T} \\right)} + 17 \\pi^{2} T^{3} w^{3} \\sin^{3}{\\left(\\frac{\\pi t}{T} \\right)} \\cos{\\left(\\frac{\\pi t}{T} \\right)} \\cos^{2}{\\left(p + t w \\right)} + 15 \\pi^{2} T^{3} w^{3} \\sin{\\left(\\frac{\\pi t}{T} \\right)} \\sin^{2}{\\left(p + t w \\right)} \\cos^{3}{\\left(\\frac{\\pi t}{T} \\right)} + 15 \\pi^{2} T^{3} w^{3} \\sin{\\left(\\frac{\\pi t}{T} \\right)} \\cos^{3}{\\left(\\frac{\\pi t}{T} \\right)} \\cos^{2}{\\left(p + t w \\right)} - 15 \\pi^{3} T^{2} t w^{3} \\sin^{4}{\\left(\\frac{\\pi t}{T} \\right)} \\sin^{2}{\\left(p + t w \\right)} - 15 \\pi^{3} T^{2} t w^{3} \\sin^{4}{\\left(\\frac{\\pi t}{T} \\right)} \\cos^{2}{\\left(p + t w \\right)} - 30 \\pi^{3} T^{2} t w^{3} \\sin^{2}{\\left(\\frac{\\pi t}{T} \\right)} \\sin^{2}{\\left(p + t w \\right)} \\cos^{2}{\\left(\\frac{\\pi t}{T} \\right)} - 30 \\pi^{3} T^{2} t w^{3} \\sin^{2}{\\left(\\frac{\\pi t}{T} \\right)} \\cos^{2}{\\left(\\frac{\\pi t}{T} \\right)} \\cos^{2}{\\left(p + t w \\right)} - 15 \\pi^{3} T^{2} t w^{3} \\sin^{2}{\\left(p + t w \\right)} \\cos^{4}{\\left(\\frac{\\pi t}{T} \\right)} - 15 \\pi^{3} T^{2} t w^{3} \\cos^{4}{\\left(\\frac{\\pi t}{T} \\right)} \\cos^{2}{\\left(p + t w \\right)} + 4 \\pi^{3} T^{2} w^{2} \\left(1 - \\cos{\\left(\\frac{2 \\pi t}{T} \\right)}\\right)^{2} \\sin{\\left(2 p + 2 t w \\right)} + \\frac{3 \\pi^{3} T^{2} w^{2} \\left(2 \\sin{\\left(2 p + 2 t w \\right)} - \\sin{\\left(2 p + 2 t w - \\frac{4 \\pi t}{T} \\right)} - \\sin{\\left(2 p + 2 t w + \\frac{4 \\pi t}{T} \\right)}\\right)}{4} - 40 \\pi^{4} T w \\sin^{3}{\\left(\\frac{\\pi t}{T} \\right)} \\sin^{2}{\\left(p + t w \\right)} \\cos{\\left(\\frac{\\pi t}{T} \\right)} - 24 \\pi^{4} T w \\sin{\\left(\\frac{\\pi t}{T} \\right)} \\sin^{2}{\\left(p + t w \\right)} \\cos^{3}{\\left(\\frac{\\pi t}{T} \\right)} + 12 \\pi^{5} t w \\sin^{4}{\\left(\\frac{\\pi t}{T} \\right)} \\sin^{2}{\\left(p + t w \\right)} + 12 \\pi^{5} t w \\sin^{4}{\\left(\\frac{\\pi t}{T} \\right)} \\cos^{2}{\\left(p + t w \\right)} + 24 \\pi^{5} t w \\sin^{2}{\\left(\\frac{\\pi t}{T} \\right)} \\sin^{2}{\\left(p + t w \\right)} \\cos^{2}{\\left(\\frac{\\pi t}{T} \\right)} + 24 \\pi^{5} t w \\sin^{2}{\\left(\\frac{\\pi t}{T} \\right)} \\cos^{2}{\\left(\\frac{\\pi t}{T} \\right)} \\cos^{2}{\\left(p + t w \\right)} + 12 \\pi^{5} t w \\sin^{2}{\\left(p + t w \\right)} \\cos^{4}{\\left(\\frac{\\pi t}{T} \\right)} + 12 \\pi^{5} t w \\cos^{4}{\\left(\\frac{\\pi t}{T} \\right)} \\cos^{2}{\\left(p + t w \\right)} - \\frac{3 \\pi^{5} \\left(1 - \\cos{\\left(\\frac{2 \\pi t}{T} \\right)}\\right)^{2} \\sin{\\left(2 p + 2 t w \\right)}}{2} - \\frac{3 \\pi^{5} \\left(\\cos{\\left(\\frac{2 \\pi t}{T} \\right)} + 1\\right)^{2} \\sin{\\left(2 p + 2 t w \\right)}}{2} - \\frac{3 \\pi^{5} \\left(2 \\sin{\\left(2 p + 2 t w \\right)} - \\sin{\\left(2 p + 2 t w - \\frac{4 \\pi t}{T} \\right)} - \\sin{\\left(2 p + 2 t w + \\frac{4 \\pi t}{T} \\right)}\\right)}{4} + 6 \\pi^{5} \\sin{\\left(2 p \\right)}}{16 \\pi w \\left(T^{4} w^{4} - 5 \\pi^{2} T^{2} w^{2} + 4 \\pi^{4}\\right)} & \\text{otherwise} \\end{cases}$"
      ],
      "text/plain": [
       "Piecewise(((24*t*w*(2*cos(2*p) + 3) - 19*(1 - cos(2*t*w))**2*sin(2*p + 2*t*w) + 3*(cos(2*t*w) + 1)**2*sin(2*p + 2*t*w) - 12*sin(2*p) - 112*sin(t*w)**3*sin(p + t*w)**2*cos(t*w) - 128*sin(t*w)**3*cos(t*w)*cos(p + t*w)**2 - 144*sin(t*w)*cos(t*w)**3*cos(p + t*w)**2 + 6*sin(2*p - 2*t*w) - 12*sin(2*p + 2*t*w) + 6*sin(2*p + 6*t*w))/(384*w), Eq(T, pi/w)), ((3*t*w*(6 - cos(2*p)) - 7*(1 - cos(t*w))**2*sin(2*p + 2*t*w) + (cos(t*w) + 1)**2*sin(2*p + 2*t*w) - 4*sin(2*p) - 38*sin(t*w/2)**3*sin(p + t*w)**2*cos(t*w/2) - 82*sin(t*w/2)**3*cos(t*w/2)*cos(p + t*w)**2 - 26*sin(t*w/2)*sin(p + t*w)**2*cos(t*w/2)**3 - 46*sin(t*w/2)*cos(t*w/2)**3*cos(p + t*w)**2)/(96*w), Eq(T, 2*pi/w)), ((-5*T**5*w**5*sin(pi*t/T)**3*sin(p + t*w)**2*cos(pi*t/T) - 5*T**5*w**5*sin(pi*t/T)**3*cos(pi*t/T)*cos(p + t*w)**2 - 3*T**5*w**5*sin(pi*t/T)*sin(p + t*w)**2*cos(pi*t/T)**3 - 3*T**5*w**5*sin(pi*t/T)*cos(pi*t/T)**3*cos(p + t*w)**2 + 3*pi*T**4*t*w**5*sin(pi*t/T)**4*sin(p + t*w)**2 + 3*pi*T**4*t*w**5*sin(pi*t/T)**4*cos(p + t*w)**2 + 6*pi*T**4*t*w**5*sin(pi*t/T)**2*sin(p + t*w)**2*cos(pi*t/T)**2 + 6*pi*T**4*t*w**5*sin(pi*t/T)**2*cos(pi*t/T)**2*cos(p + t*w)**2 + 3*pi*T**4*t*w**5*sin(p + t*w)**2*cos(pi*t/T)**4 + 3*pi*T**4*t*w**5*cos(pi*t/T)**4*cos(p + t*w)**2 - pi*T**4*w**4*(1 - cos(2*pi*t/T))**2*sin(2*p + 2*t*w) + 33*pi**2*T**3*w**3*sin(pi*t/T)**3*sin(p + t*w)**2*cos(pi*t/T) + 17*pi**2*T**3*w**3*sin(pi*t/T)**3*cos(pi*t/T)*cos(p + t*w)**2 + 15*pi**2*T**3*w**3*sin(pi*t/T)*sin(p + t*w)**2*cos(pi*t/T)**3 + 15*pi**2*T**3*w**3*sin(pi*t/T)*cos(pi*t/T)**3*cos(p + t*w)**2 - 15*pi**3*T**2*t*w**3*sin(pi*t/T)**4*sin(p + t*w)**2 - 15*pi**3*T**2*t*w**3*sin(pi*t/T)**4*cos(p + t*w)**2 - 30*pi**3*T**2*t*w**3*sin(pi*t/T)**2*sin(p + t*w)**2*cos(pi*t/T)**2 - 30*pi**3*T**2*t*w**3*sin(pi*t/T)**2*cos(pi*t/T)**2*cos(p + t*w)**2 - 15*pi**3*T**2*t*w**3*sin(p + t*w)**2*cos(pi*t/T)**4 - 15*pi**3*T**2*t*w**3*cos(pi*t/T)**4*cos(p + t*w)**2 + 4*pi**3*T**2*w**2*(1 - cos(2*pi*t/T))**2*sin(2*p + 2*t*w) + 3*pi**3*T**2*w**2*(2*sin(2*p + 2*t*w) - sin(2*p + 2*t*w - 4*pi*t/T) - sin(2*p + 2*t*w + 4*pi*t/T))/4 - 40*pi**4*T*w*sin(pi*t/T)**3*sin(p + t*w)**2*cos(pi*t/T) - 24*pi**4*T*w*sin(pi*t/T)*sin(p + t*w)**2*cos(pi*t/T)**3 + 12*pi**5*t*w*sin(pi*t/T)**4*sin(p + t*w)**2 + 12*pi**5*t*w*sin(pi*t/T)**4*cos(p + t*w)**2 + 24*pi**5*t*w*sin(pi*t/T)**2*sin(p + t*w)**2*cos(pi*t/T)**2 + 24*pi**5*t*w*sin(pi*t/T)**2*cos(pi*t/T)**2*cos(p + t*w)**2 + 12*pi**5*t*w*sin(p + t*w)**2*cos(pi*t/T)**4 + 12*pi**5*t*w*cos(pi*t/T)**4*cos(p + t*w)**2 - 3*pi**5*(1 - cos(2*pi*t/T))**2*sin(2*p + 2*t*w)/2 - 3*pi**5*(cos(2*pi*t/T) + 1)**2*sin(2*p + 2*t*w)/2 - 3*pi**5*(2*sin(2*p + 2*t*w) - sin(2*p + 2*t*w - 4*pi*t/T) - sin(2*p + 2*t*w + 4*pi*t/T))/4 + 6*pi**5*sin(2*p))/(16*pi*w*(T**4*w**4 - 5*pi**2*T**2*w**2 + 4*pi**4)), True))"
      ]
     },
     "execution_count": 8,
     "metadata": {},
     "output_type": "execute_result"
    }
   ],
   "source": [
    "simple_int_sin4sin2"
   ]
  },
  {
   "cell_type": "markdown",
   "id": "8b3d899c",
   "metadata": {},
   "source": [
    "### To showcase that simplifying saves time "
   ]
  },
  {
   "cell_type": "code",
   "execution_count": 17,
   "id": "8fe19cf1",
   "metadata": {},
   "outputs": [],
   "source": [
    "test_time = 50"
   ]
  },
  {
   "cell_type": "code",
   "execution_count": 18,
   "id": "4f999624",
   "metadata": {},
   "outputs": [
    {
     "name": "stdout",
     "output_type": "stream",
     "text": [
      "CPU times: user 4 µs, sys: 1 µs, total: 5 µs\n",
      "Wall time: 7.87 µs\n"
     ]
    },
    {
     "data": {
      "text/latex": [
       "$\\displaystyle 2.55308153253609$"
      ],
      "text/plain": [
       "2.55308153253609"
      ]
     },
     "execution_count": 18,
     "metadata": {},
     "output_type": "execute_result"
    }
   ],
   "source": [
    "%time\n",
    "simple_int_sin4sin2.subs({t: test_time, w: w_s, p: phase_s, T: T_s}).evalf()"
   ]
  },
  {
   "cell_type": "code",
   "execution_count": 19,
   "id": "08d2b5e9",
   "metadata": {},
   "outputs": [
    {
     "name": "stdout",
     "output_type": "stream",
     "text": [
      "CPU times: user 3 µs, sys: 1 µs, total: 4 µs\n",
      "Wall time: 8.11 µs\n"
     ]
    },
    {
     "data": {
      "text/latex": [
       "$\\displaystyle 2.55308153253609$"
      ],
      "text/plain": [
       "2.55308153253609"
      ]
     },
     "execution_count": 19,
     "metadata": {},
     "output_type": "execute_result"
    }
   ],
   "source": [
    "%time\n",
    "int_sin4sin2.subs({t: test_time, w: w_s, p: phase_s, T: T_s}).evalf()"
   ]
  },
  {
   "cell_type": "markdown",
   "id": "311b1b37",
   "metadata": {},
   "source": [
    "## Which results is correct ? "
   ]
  },
  {
   "cell_type": "code",
   "execution_count": 24,
   "id": "c5b3364c",
   "metadata": {},
   "outputs": [],
   "source": [
    "test_sin4sin2 = lambda time: np.sin(np.pi * time / T_s)**4 * np.sin(w_s * time + phase_s)**2"
   ]
  },
  {
   "cell_type": "code",
   "execution_count": 30,
   "id": "95bb6dc5",
   "metadata": {},
   "outputs": [
    {
     "name": "stdout",
     "output_type": "stream",
     "text": [
      "CPU times: user 3 µs, sys: 1 µs, total: 4 µs\n",
      "Wall time: 7.87 µs\n"
     ]
    },
    {
     "data": {
      "text/plain": [
       "(2.5530815325360954, 1.0946288991965562e-07)"
      ]
     },
     "execution_count": 30,
     "metadata": {},
     "output_type": "execute_result"
    }
   ],
   "source": [
    "%time\n",
    "num_sin4sin2 = quad(test_sin4sin2, 0, test_time, epsabs=1e-3, full_output=False)\n",
    "num_sin4sin2"
   ]
  },
  {
   "cell_type": "code",
   "execution_count": 31,
   "id": "b1fdf8f7",
   "metadata": {},
   "outputs": [
    {
     "data": {
      "text/latex": [
       "$\\displaystyle \\sin^{4}{\\left(\\frac{\\pi t}{T} \\right)} \\cos^{2}{\\left(p + t w \\right)}$"
      ],
      "text/plain": [
       "sin(pi*t/T)**4*cos(p + t*w)**2"
      ]
     },
     "execution_count": 31,
     "metadata": {},
     "output_type": "execute_result"
    }
   ],
   "source": [
    "func_sin4cos2 = (smp.sin(smp.pi * t / T)**2 * smp.cos(w * t + p))**2\n",
    "func_sin4cos2"
   ]
  },
  {
   "cell_type": "code",
   "execution_count": 32,
   "id": "bc9b4038",
   "metadata": {},
   "outputs": [],
   "source": [
    "int_sin4cos2 = smp.integrate(func_sin4cos2, (t, 0, t))"
   ]
  },
  {
   "cell_type": "code",
   "execution_count": 33,
   "id": "2366dc2d",
   "metadata": {},
   "outputs": [],
   "source": [
    "simple_int_sin4cos2 = int_sin4cos2.simplify()"
   ]
  },
  {
   "cell_type": "code",
   "execution_count": 44,
   "id": "f69c972e",
   "metadata": {},
   "outputs": [
    {
     "data": {
      "text/latex": [
       "$\\displaystyle \\begin{cases} \\frac{t \\sin^{4}{\\left(t w \\right)} \\sin^{2}{\\left(p + t w \\right)}}{16} + \\frac{5 t \\sin^{4}{\\left(t w \\right)} \\cos^{2}{\\left(p + t w \\right)}}{16} - \\frac{t \\sin^{3}{\\left(t w \\right)} \\sin{\\left(p + t w \\right)} \\cos{\\left(t w \\right)} \\cos{\\left(p + t w \\right)}}{2} + \\frac{3 t \\sin^{2}{\\left(t w \\right)} \\sin^{2}{\\left(p + t w \\right)} \\cos^{2}{\\left(t w \\right)}}{8} + \\frac{3 t \\sin^{2}{\\left(t w \\right)} \\cos^{2}{\\left(t w \\right)} \\cos^{2}{\\left(p + t w \\right)}}{8} - \\frac{t \\sin{\\left(t w \\right)} \\sin{\\left(p + t w \\right)} \\cos^{3}{\\left(t w \\right)} \\cos{\\left(p + t w \\right)}}{2} + \\frac{5 t \\sin^{2}{\\left(p + t w \\right)} \\cos^{4}{\\left(t w \\right)}}{16} + \\frac{t \\cos^{4}{\\left(t w \\right)} \\cos^{2}{\\left(p + t w \\right)}}{16} - \\frac{13 \\sin{\\left(p \\right)} \\cos{\\left(p \\right)}}{48 w} + \\frac{\\sin^{4}{\\left(t w \\right)} \\sin{\\left(p + t w \\right)} \\cos{\\left(p + t w \\right)}}{16 w} - \\frac{5 \\sin^{3}{\\left(t w \\right)} \\cos{\\left(t w \\right)} \\cos^{2}{\\left(p + t w \\right)}}{8 w} + \\frac{\\sin^{2}{\\left(t w \\right)} \\sin{\\left(p + t w \\right)} \\cos^{2}{\\left(t w \\right)} \\cos{\\left(p + t w \\right)}}{2 w} - \\frac{\\sin{\\left(t w \\right)} \\sin^{2}{\\left(p + t w \\right)} \\cos^{3}{\\left(t w \\right)}}{24 w} - \\frac{\\sin{\\left(t w \\right)} \\cos^{3}{\\left(t w \\right)} \\cos^{2}{\\left(p + t w \\right)}}{3 w} + \\frac{13 \\sin{\\left(p + t w \\right)} \\cos^{4}{\\left(t w \\right)} \\cos{\\left(p + t w \\right)}}{48 w} & \\text{for}\\: \\left(T = \\frac{\\pi}{w} \\wedge T = \\frac{2 \\pi}{w}\\right) \\vee T = \\frac{\\pi}{w} \\\\\\frac{5 t \\sin^{4}{\\left(\\frac{t w}{2} \\right)} \\sin^{2}{\\left(p + t w \\right)}}{32} + \\frac{7 t \\sin^{4}{\\left(\\frac{t w}{2} \\right)} \\cos^{2}{\\left(p + t w \\right)}}{32} - \\frac{t \\sin^{3}{\\left(\\frac{t w}{2} \\right)} \\sin{\\left(p + t w \\right)} \\cos{\\left(\\frac{t w}{2} \\right)} \\cos{\\left(p + t w \\right)}}{4} + \\frac{9 t \\sin^{2}{\\left(\\frac{t w}{2} \\right)} \\sin^{2}{\\left(p + t w \\right)} \\cos^{2}{\\left(\\frac{t w}{2} \\right)}}{16} + \\frac{3 t \\sin^{2}{\\left(\\frac{t w}{2} \\right)} \\cos^{2}{\\left(\\frac{t w}{2} \\right)} \\cos^{2}{\\left(p + t w \\right)}}{16} + \\frac{t \\sin{\\left(\\frac{t w}{2} \\right)} \\sin{\\left(p + t w \\right)} \\cos^{3}{\\left(\\frac{t w}{2} \\right)} \\cos{\\left(p + t w \\right)}}{4} + \\frac{5 t \\sin^{2}{\\left(p + t w \\right)} \\cos^{4}{\\left(\\frac{t w}{2} \\right)}}{32} + \\frac{7 t \\cos^{4}{\\left(\\frac{t w}{2} \\right)} \\cos^{2}{\\left(p + t w \\right)}}{32} + \\frac{\\sin{\\left(p \\right)} \\cos{\\left(p \\right)}}{12 w} + \\frac{7 \\sin^{4}{\\left(\\frac{t w}{2} \\right)} \\sin{\\left(p + t w \\right)} \\cos{\\left(p + t w \\right)}}{12 w} - \\frac{41 \\sin^{3}{\\left(\\frac{t w}{2} \\right)} \\sin^{2}{\\left(p + t w \\right)} \\cos{\\left(\\frac{t w}{2} \\right)}}{48 w} - \\frac{19 \\sin^{3}{\\left(\\frac{t w}{2} \\right)} \\cos{\\left(\\frac{t w}{2} \\right)} \\cos^{2}{\\left(p + t w \\right)}}{48 w} - \\frac{23 \\sin{\\left(\\frac{t w}{2} \\right)} \\sin^{2}{\\left(p + t w \\right)} \\cos^{3}{\\left(\\frac{t w}{2} \\right)}}{48 w} - \\frac{13 \\sin{\\left(\\frac{t w}{2} \\right)} \\cos^{3}{\\left(\\frac{t w}{2} \\right)} \\cos^{2}{\\left(p + t w \\right)}}{48 w} - \\frac{\\sin{\\left(p + t w \\right)} \\cos^{4}{\\left(\\frac{t w}{2} \\right)} \\cos{\\left(p + t w \\right)}}{12 w} & \\text{for}\\: T = \\frac{2 \\pi}{w} \\\\- \\frac{5 T^{5} w^{5} \\sin^{3}{\\left(\\frac{\\pi t}{T} \\right)} \\sin^{2}{\\left(p + t w \\right)} \\cos{\\left(\\frac{\\pi t}{T} \\right)}}{16 \\pi T^{4} w^{5} - 80 \\pi^{3} T^{2} w^{3} + 64 \\pi^{5} w} - \\frac{5 T^{5} w^{5} \\sin^{3}{\\left(\\frac{\\pi t}{T} \\right)} \\cos{\\left(\\frac{\\pi t}{T} \\right)} \\cos^{2}{\\left(p + t w \\right)}}{16 \\pi T^{4} w^{5} - 80 \\pi^{3} T^{2} w^{3} + 64 \\pi^{5} w} - \\frac{3 T^{5} w^{5} \\sin{\\left(\\frac{\\pi t}{T} \\right)} \\sin^{2}{\\left(p + t w \\right)} \\cos^{3}{\\left(\\frac{\\pi t}{T} \\right)}}{16 \\pi T^{4} w^{5} - 80 \\pi^{3} T^{2} w^{3} + 64 \\pi^{5} w} - \\frac{3 T^{5} w^{5} \\sin{\\left(\\frac{\\pi t}{T} \\right)} \\cos^{3}{\\left(\\frac{\\pi t}{T} \\right)} \\cos^{2}{\\left(p + t w \\right)}}{16 \\pi T^{4} w^{5} - 80 \\pi^{3} T^{2} w^{3} + 64 \\pi^{5} w} + \\frac{3 \\pi T^{4} t w^{5} \\sin^{4}{\\left(\\frac{\\pi t}{T} \\right)} \\sin^{2}{\\left(p + t w \\right)}}{16 \\pi T^{4} w^{5} - 80 \\pi^{3} T^{2} w^{3} + 64 \\pi^{5} w} + \\frac{3 \\pi T^{4} t w^{5} \\sin^{4}{\\left(\\frac{\\pi t}{T} \\right)} \\cos^{2}{\\left(p + t w \\right)}}{16 \\pi T^{4} w^{5} - 80 \\pi^{3} T^{2} w^{3} + 64 \\pi^{5} w} + \\frac{6 \\pi T^{4} t w^{5} \\sin^{2}{\\left(\\frac{\\pi t}{T} \\right)} \\sin^{2}{\\left(p + t w \\right)} \\cos^{2}{\\left(\\frac{\\pi t}{T} \\right)}}{16 \\pi T^{4} w^{5} - 80 \\pi^{3} T^{2} w^{3} + 64 \\pi^{5} w} + \\frac{6 \\pi T^{4} t w^{5} \\sin^{2}{\\left(\\frac{\\pi t}{T} \\right)} \\cos^{2}{\\left(\\frac{\\pi t}{T} \\right)} \\cos^{2}{\\left(p + t w \\right)}}{16 \\pi T^{4} w^{5} - 80 \\pi^{3} T^{2} w^{3} + 64 \\pi^{5} w} + \\frac{3 \\pi T^{4} t w^{5} \\sin^{2}{\\left(p + t w \\right)} \\cos^{4}{\\left(\\frac{\\pi t}{T} \\right)}}{16 \\pi T^{4} w^{5} - 80 \\pi^{3} T^{2} w^{3} + 64 \\pi^{5} w} + \\frac{3 \\pi T^{4} t w^{5} \\cos^{4}{\\left(\\frac{\\pi t}{T} \\right)} \\cos^{2}{\\left(p + t w \\right)}}{16 \\pi T^{4} w^{5} - 80 \\pi^{3} T^{2} w^{3} + 64 \\pi^{5} w} + \\frac{8 \\pi T^{4} w^{4} \\sin^{4}{\\left(\\frac{\\pi t}{T} \\right)} \\sin{\\left(p + t w \\right)} \\cos{\\left(p + t w \\right)}}{16 \\pi T^{4} w^{5} - 80 \\pi^{3} T^{2} w^{3} + 64 \\pi^{5} w} + \\frac{17 \\pi^{2} T^{3} w^{3} \\sin^{3}{\\left(\\frac{\\pi t}{T} \\right)} \\sin^{2}{\\left(p + t w \\right)} \\cos{\\left(\\frac{\\pi t}{T} \\right)}}{16 \\pi T^{4} w^{5} - 80 \\pi^{3} T^{2} w^{3} + 64 \\pi^{5} w} + \\frac{33 \\pi^{2} T^{3} w^{3} \\sin^{3}{\\left(\\frac{\\pi t}{T} \\right)} \\cos{\\left(\\frac{\\pi t}{T} \\right)} \\cos^{2}{\\left(p + t w \\right)}}{16 \\pi T^{4} w^{5} - 80 \\pi^{3} T^{2} w^{3} + 64 \\pi^{5} w} + \\frac{15 \\pi^{2} T^{3} w^{3} \\sin{\\left(\\frac{\\pi t}{T} \\right)} \\sin^{2}{\\left(p + t w \\right)} \\cos^{3}{\\left(\\frac{\\pi t}{T} \\right)}}{16 \\pi T^{4} w^{5} - 80 \\pi^{3} T^{2} w^{3} + 64 \\pi^{5} w} + \\frac{15 \\pi^{2} T^{3} w^{3} \\sin{\\left(\\frac{\\pi t}{T} \\right)} \\cos^{3}{\\left(\\frac{\\pi t}{T} \\right)} \\cos^{2}{\\left(p + t w \\right)}}{16 \\pi T^{4} w^{5} - 80 \\pi^{3} T^{2} w^{3} + 64 \\pi^{5} w} - \\frac{15 \\pi^{3} T^{2} t w^{3} \\sin^{4}{\\left(\\frac{\\pi t}{T} \\right)} \\sin^{2}{\\left(p + t w \\right)}}{16 \\pi T^{4} w^{5} - 80 \\pi^{3} T^{2} w^{3} + 64 \\pi^{5} w} - \\frac{15 \\pi^{3} T^{2} t w^{3} \\sin^{4}{\\left(\\frac{\\pi t}{T} \\right)} \\cos^{2}{\\left(p + t w \\right)}}{16 \\pi T^{4} w^{5} - 80 \\pi^{3} T^{2} w^{3} + 64 \\pi^{5} w} - \\frac{30 \\pi^{3} T^{2} t w^{3} \\sin^{2}{\\left(\\frac{\\pi t}{T} \\right)} \\sin^{2}{\\left(p + t w \\right)} \\cos^{2}{\\left(\\frac{\\pi t}{T} \\right)}}{16 \\pi T^{4} w^{5} - 80 \\pi^{3} T^{2} w^{3} + 64 \\pi^{5} w} - \\frac{30 \\pi^{3} T^{2} t w^{3} \\sin^{2}{\\left(\\frac{\\pi t}{T} \\right)} \\cos^{2}{\\left(\\frac{\\pi t}{T} \\right)} \\cos^{2}{\\left(p + t w \\right)}}{16 \\pi T^{4} w^{5} - 80 \\pi^{3} T^{2} w^{3} + 64 \\pi^{5} w} - \\frac{15 \\pi^{3} T^{2} t w^{3} \\sin^{2}{\\left(p + t w \\right)} \\cos^{4}{\\left(\\frac{\\pi t}{T} \\right)}}{16 \\pi T^{4} w^{5} - 80 \\pi^{3} T^{2} w^{3} + 64 \\pi^{5} w} - \\frac{15 \\pi^{3} T^{2} t w^{3} \\cos^{4}{\\left(\\frac{\\pi t}{T} \\right)} \\cos^{2}{\\left(p + t w \\right)}}{16 \\pi T^{4} w^{5} - 80 \\pi^{3} T^{2} w^{3} + 64 \\pi^{5} w} - \\frac{32 \\pi^{3} T^{2} w^{2} \\sin^{4}{\\left(\\frac{\\pi t}{T} \\right)} \\sin{\\left(p + t w \\right)} \\cos{\\left(p + t w \\right)}}{16 \\pi T^{4} w^{5} - 80 \\pi^{3} T^{2} w^{3} + 64 \\pi^{5} w} - \\frac{24 \\pi^{3} T^{2} w^{2} \\sin^{2}{\\left(\\frac{\\pi t}{T} \\right)} \\sin{\\left(p + t w \\right)} \\cos^{2}{\\left(\\frac{\\pi t}{T} \\right)} \\cos{\\left(p + t w \\right)}}{16 \\pi T^{4} w^{5} - 80 \\pi^{3} T^{2} w^{3} + 64 \\pi^{5} w} - \\frac{40 \\pi^{4} T w \\sin^{3}{\\left(\\frac{\\pi t}{T} \\right)} \\cos{\\left(\\frac{\\pi t}{T} \\right)} \\cos^{2}{\\left(p + t w \\right)}}{16 \\pi T^{4} w^{5} - 80 \\pi^{3} T^{2} w^{3} + 64 \\pi^{5} w} - \\frac{24 \\pi^{4} T w \\sin{\\left(\\frac{\\pi t}{T} \\right)} \\cos^{3}{\\left(\\frac{\\pi t}{T} \\right)} \\cos^{2}{\\left(p + t w \\right)}}{16 \\pi T^{4} w^{5} - 80 \\pi^{3} T^{2} w^{3} + 64 \\pi^{5} w} + \\frac{12 \\pi^{5} t w \\sin^{4}{\\left(\\frac{\\pi t}{T} \\right)} \\sin^{2}{\\left(p + t w \\right)}}{16 \\pi T^{4} w^{5} - 80 \\pi^{3} T^{2} w^{3} + 64 \\pi^{5} w} + \\frac{12 \\pi^{5} t w \\sin^{4}{\\left(\\frac{\\pi t}{T} \\right)} \\cos^{2}{\\left(p + t w \\right)}}{16 \\pi T^{4} w^{5} - 80 \\pi^{3} T^{2} w^{3} + 64 \\pi^{5} w} + \\frac{24 \\pi^{5} t w \\sin^{2}{\\left(\\frac{\\pi t}{T} \\right)} \\sin^{2}{\\left(p + t w \\right)} \\cos^{2}{\\left(\\frac{\\pi t}{T} \\right)}}{16 \\pi T^{4} w^{5} - 80 \\pi^{3} T^{2} w^{3} + 64 \\pi^{5} w} + \\frac{24 \\pi^{5} t w \\sin^{2}{\\left(\\frac{\\pi t}{T} \\right)} \\cos^{2}{\\left(\\frac{\\pi t}{T} \\right)} \\cos^{2}{\\left(p + t w \\right)}}{16 \\pi T^{4} w^{5} - 80 \\pi^{3} T^{2} w^{3} + 64 \\pi^{5} w} + \\frac{12 \\pi^{5} t w \\sin^{2}{\\left(p + t w \\right)} \\cos^{4}{\\left(\\frac{\\pi t}{T} \\right)}}{16 \\pi T^{4} w^{5} - 80 \\pi^{3} T^{2} w^{3} + 64 \\pi^{5} w} + \\frac{12 \\pi^{5} t w \\cos^{4}{\\left(\\frac{\\pi t}{T} \\right)} \\cos^{2}{\\left(p + t w \\right)}}{16 \\pi T^{4} w^{5} - 80 \\pi^{3} T^{2} w^{3} + 64 \\pi^{5} w} - \\frac{12 \\pi^{5} \\sin{\\left(p \\right)} \\cos{\\left(p \\right)}}{16 \\pi T^{4} w^{5} - 80 \\pi^{3} T^{2} w^{3} + 64 \\pi^{5} w} + \\frac{12 \\pi^{5} \\sin^{4}{\\left(\\frac{\\pi t}{T} \\right)} \\sin{\\left(p + t w \\right)} \\cos{\\left(p + t w \\right)}}{16 \\pi T^{4} w^{5} - 80 \\pi^{3} T^{2} w^{3} + 64 \\pi^{5} w} + \\frac{24 \\pi^{5} \\sin^{2}{\\left(\\frac{\\pi t}{T} \\right)} \\sin{\\left(p + t w \\right)} \\cos^{2}{\\left(\\frac{\\pi t}{T} \\right)} \\cos{\\left(p + t w \\right)}}{16 \\pi T^{4} w^{5} - 80 \\pi^{3} T^{2} w^{3} + 64 \\pi^{5} w} + \\frac{12 \\pi^{5} \\sin{\\left(p + t w \\right)} \\cos^{4}{\\left(\\frac{\\pi t}{T} \\right)} \\cos{\\left(p + t w \\right)}}{16 \\pi T^{4} w^{5} - 80 \\pi^{3} T^{2} w^{3} + 64 \\pi^{5} w} & \\text{otherwise} \\end{cases}$"
      ],
      "text/plain": [
       "Piecewise((t*sin(t*w)**4*sin(p + t*w)**2/16 + 5*t*sin(t*w)**4*cos(p + t*w)**2/16 - t*sin(t*w)**3*sin(p + t*w)*cos(t*w)*cos(p + t*w)/2 + 3*t*sin(t*w)**2*sin(p + t*w)**2*cos(t*w)**2/8 + 3*t*sin(t*w)**2*cos(t*w)**2*cos(p + t*w)**2/8 - t*sin(t*w)*sin(p + t*w)*cos(t*w)**3*cos(p + t*w)/2 + 5*t*sin(p + t*w)**2*cos(t*w)**4/16 + t*cos(t*w)**4*cos(p + t*w)**2/16 - 13*sin(p)*cos(p)/(48*w) + sin(t*w)**4*sin(p + t*w)*cos(p + t*w)/(16*w) - 5*sin(t*w)**3*cos(t*w)*cos(p + t*w)**2/(8*w) + sin(t*w)**2*sin(p + t*w)*cos(t*w)**2*cos(p + t*w)/(2*w) - sin(t*w)*sin(p + t*w)**2*cos(t*w)**3/(24*w) - sin(t*w)*cos(t*w)**3*cos(p + t*w)**2/(3*w) + 13*sin(p + t*w)*cos(t*w)**4*cos(p + t*w)/(48*w), Eq(T, pi/w) | (Eq(T, pi/w) & Eq(T, 2*pi/w))), (5*t*sin(t*w/2)**4*sin(p + t*w)**2/32 + 7*t*sin(t*w/2)**4*cos(p + t*w)**2/32 - t*sin(t*w/2)**3*sin(p + t*w)*cos(t*w/2)*cos(p + t*w)/4 + 9*t*sin(t*w/2)**2*sin(p + t*w)**2*cos(t*w/2)**2/16 + 3*t*sin(t*w/2)**2*cos(t*w/2)**2*cos(p + t*w)**2/16 + t*sin(t*w/2)*sin(p + t*w)*cos(t*w/2)**3*cos(p + t*w)/4 + 5*t*sin(p + t*w)**2*cos(t*w/2)**4/32 + 7*t*cos(t*w/2)**4*cos(p + t*w)**2/32 + sin(p)*cos(p)/(12*w) + 7*sin(t*w/2)**4*sin(p + t*w)*cos(p + t*w)/(12*w) - 41*sin(t*w/2)**3*sin(p + t*w)**2*cos(t*w/2)/(48*w) - 19*sin(t*w/2)**3*cos(t*w/2)*cos(p + t*w)**2/(48*w) - 23*sin(t*w/2)*sin(p + t*w)**2*cos(t*w/2)**3/(48*w) - 13*sin(t*w/2)*cos(t*w/2)**3*cos(p + t*w)**2/(48*w) - sin(p + t*w)*cos(t*w/2)**4*cos(p + t*w)/(12*w), Eq(T, 2*pi/w)), (-5*T**5*w**5*sin(pi*t/T)**3*sin(p + t*w)**2*cos(pi*t/T)/(16*pi*T**4*w**5 - 80*pi**3*T**2*w**3 + 64*pi**5*w) - 5*T**5*w**5*sin(pi*t/T)**3*cos(pi*t/T)*cos(p + t*w)**2/(16*pi*T**4*w**5 - 80*pi**3*T**2*w**3 + 64*pi**5*w) - 3*T**5*w**5*sin(pi*t/T)*sin(p + t*w)**2*cos(pi*t/T)**3/(16*pi*T**4*w**5 - 80*pi**3*T**2*w**3 + 64*pi**5*w) - 3*T**5*w**5*sin(pi*t/T)*cos(pi*t/T)**3*cos(p + t*w)**2/(16*pi*T**4*w**5 - 80*pi**3*T**2*w**3 + 64*pi**5*w) + 3*pi*T**4*t*w**5*sin(pi*t/T)**4*sin(p + t*w)**2/(16*pi*T**4*w**5 - 80*pi**3*T**2*w**3 + 64*pi**5*w) + 3*pi*T**4*t*w**5*sin(pi*t/T)**4*cos(p + t*w)**2/(16*pi*T**4*w**5 - 80*pi**3*T**2*w**3 + 64*pi**5*w) + 6*pi*T**4*t*w**5*sin(pi*t/T)**2*sin(p + t*w)**2*cos(pi*t/T)**2/(16*pi*T**4*w**5 - 80*pi**3*T**2*w**3 + 64*pi**5*w) + 6*pi*T**4*t*w**5*sin(pi*t/T)**2*cos(pi*t/T)**2*cos(p + t*w)**2/(16*pi*T**4*w**5 - 80*pi**3*T**2*w**3 + 64*pi**5*w) + 3*pi*T**4*t*w**5*sin(p + t*w)**2*cos(pi*t/T)**4/(16*pi*T**4*w**5 - 80*pi**3*T**2*w**3 + 64*pi**5*w) + 3*pi*T**4*t*w**5*cos(pi*t/T)**4*cos(p + t*w)**2/(16*pi*T**4*w**5 - 80*pi**3*T**2*w**3 + 64*pi**5*w) + 8*pi*T**4*w**4*sin(pi*t/T)**4*sin(p + t*w)*cos(p + t*w)/(16*pi*T**4*w**5 - 80*pi**3*T**2*w**3 + 64*pi**5*w) + 17*pi**2*T**3*w**3*sin(pi*t/T)**3*sin(p + t*w)**2*cos(pi*t/T)/(16*pi*T**4*w**5 - 80*pi**3*T**2*w**3 + 64*pi**5*w) + 33*pi**2*T**3*w**3*sin(pi*t/T)**3*cos(pi*t/T)*cos(p + t*w)**2/(16*pi*T**4*w**5 - 80*pi**3*T**2*w**3 + 64*pi**5*w) + 15*pi**2*T**3*w**3*sin(pi*t/T)*sin(p + t*w)**2*cos(pi*t/T)**3/(16*pi*T**4*w**5 - 80*pi**3*T**2*w**3 + 64*pi**5*w) + 15*pi**2*T**3*w**3*sin(pi*t/T)*cos(pi*t/T)**3*cos(p + t*w)**2/(16*pi*T**4*w**5 - 80*pi**3*T**2*w**3 + 64*pi**5*w) - 15*pi**3*T**2*t*w**3*sin(pi*t/T)**4*sin(p + t*w)**2/(16*pi*T**4*w**5 - 80*pi**3*T**2*w**3 + 64*pi**5*w) - 15*pi**3*T**2*t*w**3*sin(pi*t/T)**4*cos(p + t*w)**2/(16*pi*T**4*w**5 - 80*pi**3*T**2*w**3 + 64*pi**5*w) - 30*pi**3*T**2*t*w**3*sin(pi*t/T)**2*sin(p + t*w)**2*cos(pi*t/T)**2/(16*pi*T**4*w**5 - 80*pi**3*T**2*w**3 + 64*pi**5*w) - 30*pi**3*T**2*t*w**3*sin(pi*t/T)**2*cos(pi*t/T)**2*cos(p + t*w)**2/(16*pi*T**4*w**5 - 80*pi**3*T**2*w**3 + 64*pi**5*w) - 15*pi**3*T**2*t*w**3*sin(p + t*w)**2*cos(pi*t/T)**4/(16*pi*T**4*w**5 - 80*pi**3*T**2*w**3 + 64*pi**5*w) - 15*pi**3*T**2*t*w**3*cos(pi*t/T)**4*cos(p + t*w)**2/(16*pi*T**4*w**5 - 80*pi**3*T**2*w**3 + 64*pi**5*w) - 32*pi**3*T**2*w**2*sin(pi*t/T)**4*sin(p + t*w)*cos(p + t*w)/(16*pi*T**4*w**5 - 80*pi**3*T**2*w**3 + 64*pi**5*w) - 24*pi**3*T**2*w**2*sin(pi*t/T)**2*sin(p + t*w)*cos(pi*t/T)**2*cos(p + t*w)/(16*pi*T**4*w**5 - 80*pi**3*T**2*w**3 + 64*pi**5*w) - 40*pi**4*T*w*sin(pi*t/T)**3*cos(pi*t/T)*cos(p + t*w)**2/(16*pi*T**4*w**5 - 80*pi**3*T**2*w**3 + 64*pi**5*w) - 24*pi**4*T*w*sin(pi*t/T)*cos(pi*t/T)**3*cos(p + t*w)**2/(16*pi*T**4*w**5 - 80*pi**3*T**2*w**3 + 64*pi**5*w) + 12*pi**5*t*w*sin(pi*t/T)**4*sin(p + t*w)**2/(16*pi*T**4*w**5 - 80*pi**3*T**2*w**3 + 64*pi**5*w) + 12*pi**5*t*w*sin(pi*t/T)**4*cos(p + t*w)**2/(16*pi*T**4*w**5 - 80*pi**3*T**2*w**3 + 64*pi**5*w) + 24*pi**5*t*w*sin(pi*t/T)**2*sin(p + t*w)**2*cos(pi*t/T)**2/(16*pi*T**4*w**5 - 80*pi**3*T**2*w**3 + 64*pi**5*w) + 24*pi**5*t*w*sin(pi*t/T)**2*cos(pi*t/T)**2*cos(p + t*w)**2/(16*pi*T**4*w**5 - 80*pi**3*T**2*w**3 + 64*pi**5*w) + 12*pi**5*t*w*sin(p + t*w)**2*cos(pi*t/T)**4/(16*pi*T**4*w**5 - 80*pi**3*T**2*w**3 + 64*pi**5*w) + 12*pi**5*t*w*cos(pi*t/T)**4*cos(p + t*w)**2/(16*pi*T**4*w**5 - 80*pi**3*T**2*w**3 + 64*pi**5*w) - 12*pi**5*sin(p)*cos(p)/(16*pi*T**4*w**5 - 80*pi**3*T**2*w**3 + 64*pi**5*w) + 12*pi**5*sin(pi*t/T)**4*sin(p + t*w)*cos(p + t*w)/(16*pi*T**4*w**5 - 80*pi**3*T**2*w**3 + 64*pi**5*w) + 24*pi**5*sin(pi*t/T)**2*sin(p + t*w)*cos(pi*t/T)**2*cos(p + t*w)/(16*pi*T**4*w**5 - 80*pi**3*T**2*w**3 + 64*pi**5*w) + 12*pi**5*sin(p + t*w)*cos(pi*t/T)**4*cos(p + t*w)/(16*pi*T**4*w**5 - 80*pi**3*T**2*w**3 + 64*pi**5*w), True))"
      ]
     },
     "execution_count": 44,
     "metadata": {},
     "output_type": "execute_result"
    }
   ],
   "source": [
    "int_sin4cos2"
   ]
  },
  {
   "cell_type": "code",
   "execution_count": 34,
   "id": "88ef50ad",
   "metadata": {},
   "outputs": [
    {
     "data": {
      "text/latex": [
       "$\\displaystyle \\begin{cases} \\frac{24 t w \\left(3 - 2 \\cos{\\left(2 p \\right)}\\right) + 3 \\left(1 - \\cos{\\left(2 t w \\right)}\\right)^{2} \\sin{\\left(2 p + 2 t w \\right)} + 13 \\left(\\cos{\\left(2 t w \\right)} + 1\\right)^{2} \\sin{\\left(2 p + 2 t w \\right)} - 52 \\sin{\\left(2 p \\right)} - 240 \\sin^{3}{\\left(t w \\right)} \\cos{\\left(t w \\right)} \\cos^{2}{\\left(p + t w \\right)} - 16 \\sin{\\left(t w \\right)} \\sin^{2}{\\left(p + t w \\right)} \\cos^{3}{\\left(t w \\right)} - 128 \\sin{\\left(t w \\right)} \\cos^{3}{\\left(t w \\right)} \\cos^{2}{\\left(p + t w \\right)} - 6 \\sin{\\left(2 p - 2 t w \\right)} + 12 \\sin{\\left(2 p + 2 t w \\right)} - 6 \\sin{\\left(2 p + 6 t w \\right)}}{384 w} & \\text{for}\\: T = \\frac{\\pi}{w} \\\\\\frac{3 t w \\left(\\cos{\\left(2 p \\right)} + 6\\right) + 7 \\left(1 - \\cos{\\left(t w \\right)}\\right)^{2} \\sin{\\left(2 p + 2 t w \\right)} - \\left(\\cos{\\left(t w \\right)} + 1\\right)^{2} \\sin{\\left(2 p + 2 t w \\right)} + 4 \\sin{\\left(2 p \\right)} - 82 \\sin^{3}{\\left(\\frac{t w}{2} \\right)} \\sin^{2}{\\left(p + t w \\right)} \\cos{\\left(\\frac{t w}{2} \\right)} - 38 \\sin^{3}{\\left(\\frac{t w}{2} \\right)} \\cos{\\left(\\frac{t w}{2} \\right)} \\cos^{2}{\\left(p + t w \\right)} - 46 \\sin{\\left(\\frac{t w}{2} \\right)} \\sin^{2}{\\left(p + t w \\right)} \\cos^{3}{\\left(\\frac{t w}{2} \\right)} - 26 \\sin{\\left(\\frac{t w}{2} \\right)} \\cos^{3}{\\left(\\frac{t w}{2} \\right)} \\cos^{2}{\\left(p + t w \\right)}}{96 w} & \\text{for}\\: T = \\frac{2 \\pi}{w} \\\\\\frac{- 5 T^{5} w^{5} \\sin^{3}{\\left(\\frac{\\pi t}{T} \\right)} \\cos{\\left(\\frac{\\pi t}{T} \\right)} - 3 T^{5} w^{5} \\sin{\\left(\\frac{\\pi t}{T} \\right)} \\cos^{3}{\\left(\\frac{\\pi t}{T} \\right)} + 3 \\pi T^{4} t w^{5} - 16 \\pi T^{4} w^{4} \\sin{\\left(p \\right)} \\sin{\\left(t w \\right)} \\sin^{4}{\\left(\\frac{\\pi t}{T} \\right)} \\sin{\\left(p + t w \\right)} + 8 \\pi T^{4} w^{4} \\sin{\\left(p \\right)} \\sin^{4}{\\left(\\frac{\\pi t}{T} \\right)} \\cos{\\left(p \\right)} + 8 \\pi T^{4} w^{4} \\sin{\\left(t w \\right)} \\sin^{4}{\\left(\\frac{\\pi t}{T} \\right)} \\cos{\\left(t w \\right)} - 16 \\pi^{2} T^{3} w^{3} \\sin^{2}{\\left(p \\right)} \\sin^{3}{\\left(\\frac{\\pi t}{T} \\right)} \\cos{\\left(\\frac{\\pi t}{T} \\right)} - 32 \\pi^{2} T^{3} w^{3} \\sin{\\left(p \\right)} \\sin{\\left(t w \\right)} \\sin^{3}{\\left(\\frac{\\pi t}{T} \\right)} \\cos{\\left(\\frac{\\pi t}{T} \\right)} \\cos{\\left(p + t w \\right)} - 16 \\pi^{2} T^{3} w^{3} \\sin^{2}{\\left(t w \\right)} \\sin^{3}{\\left(\\frac{\\pi t}{T} \\right)} \\cos{\\left(\\frac{\\pi t}{T} \\right)} + 33 \\pi^{2} T^{3} w^{3} \\sin^{3}{\\left(\\frac{\\pi t}{T} \\right)} \\cos{\\left(\\frac{\\pi t}{T} \\right)} + 15 \\pi^{2} T^{3} w^{3} \\sin{\\left(\\frac{\\pi t}{T} \\right)} \\cos^{3}{\\left(\\frac{\\pi t}{T} \\right)} - 15 \\pi^{3} T^{2} t w^{3} + 16 \\pi^{3} T^{2} w^{2} \\sin{\\left(p \\right)} \\sin{\\left(t w \\right)} \\sin^{4}{\\left(\\frac{\\pi t}{T} \\right)} \\sin{\\left(p + t w \\right)} + 48 \\pi^{3} T^{2} w^{2} \\sin{\\left(p \\right)} \\sin{\\left(t w \\right)} \\sin^{2}{\\left(\\frac{\\pi t}{T} \\right)} \\sin{\\left(p + t w \\right)} - 8 \\pi^{3} T^{2} w^{2} \\sin{\\left(p \\right)} \\sin^{4}{\\left(\\frac{\\pi t}{T} \\right)} \\cos{\\left(p \\right)} - 24 \\pi^{3} T^{2} w^{2} \\sin{\\left(p \\right)} \\sin^{2}{\\left(\\frac{\\pi t}{T} \\right)} \\cos{\\left(p \\right)} - 8 \\pi^{3} T^{2} w^{2} \\sin{\\left(t w \\right)} \\sin^{4}{\\left(\\frac{\\pi t}{T} \\right)} \\cos{\\left(t w \\right)} - 24 \\pi^{3} T^{2} w^{2} \\sin{\\left(t w \\right)} \\sin^{2}{\\left(\\frac{\\pi t}{T} \\right)} \\cos{\\left(t w \\right)} + 40 \\pi^{4} T w \\sin^{2}{\\left(p \\right)} \\sin^{3}{\\left(\\frac{\\pi t}{T} \\right)} \\cos{\\left(\\frac{\\pi t}{T} \\right)} + 24 \\pi^{4} T w \\sin^{2}{\\left(p \\right)} \\sin{\\left(\\frac{\\pi t}{T} \\right)} \\cos^{3}{\\left(\\frac{\\pi t}{T} \\right)} + 80 \\pi^{4} T w \\sin{\\left(p \\right)} \\sin{\\left(t w \\right)} \\sin^{3}{\\left(\\frac{\\pi t}{T} \\right)} \\cos{\\left(\\frac{\\pi t}{T} \\right)} \\cos{\\left(p + t w \\right)} + 48 \\pi^{4} T w \\sin{\\left(p \\right)} \\sin{\\left(t w \\right)} \\sin{\\left(\\frac{\\pi t}{T} \\right)} \\cos^{3}{\\left(\\frac{\\pi t}{T} \\right)} \\cos{\\left(p + t w \\right)} + 40 \\pi^{4} T w \\sin^{2}{\\left(t w \\right)} \\sin^{3}{\\left(\\frac{\\pi t}{T} \\right)} \\cos{\\left(\\frac{\\pi t}{T} \\right)} + 24 \\pi^{4} T w \\sin^{2}{\\left(t w \\right)} \\sin{\\left(\\frac{\\pi t}{T} \\right)} \\cos^{3}{\\left(\\frac{\\pi t}{T} \\right)} - 40 \\pi^{4} T w \\sin^{3}{\\left(\\frac{\\pi t}{T} \\right)} \\cos{\\left(\\frac{\\pi t}{T} \\right)} - 24 \\pi^{4} T w \\sin{\\left(\\frac{\\pi t}{T} \\right)} \\cos^{3}{\\left(\\frac{\\pi t}{T} \\right)} + 12 \\pi^{5} t w - 24 \\pi^{5} \\sin{\\left(p \\right)} \\sin{\\left(t w \\right)} \\sin{\\left(p + t w \\right)} + 12 \\pi^{5} \\sin{\\left(t w \\right)} \\cos{\\left(t w \\right)}}{16 \\pi w \\left(T^{4} w^{4} - 5 \\pi^{2} T^{2} w^{2} + 4 \\pi^{4}\\right)} & \\text{otherwise} \\end{cases}$"
      ],
      "text/plain": [
       "Piecewise(((24*t*w*(3 - 2*cos(2*p)) + 3*(1 - cos(2*t*w))**2*sin(2*p + 2*t*w) + 13*(cos(2*t*w) + 1)**2*sin(2*p + 2*t*w) - 52*sin(2*p) - 240*sin(t*w)**3*cos(t*w)*cos(p + t*w)**2 - 16*sin(t*w)*sin(p + t*w)**2*cos(t*w)**3 - 128*sin(t*w)*cos(t*w)**3*cos(p + t*w)**2 - 6*sin(2*p - 2*t*w) + 12*sin(2*p + 2*t*w) - 6*sin(2*p + 6*t*w))/(384*w), Eq(T, pi/w)), ((3*t*w*(cos(2*p) + 6) + 7*(1 - cos(t*w))**2*sin(2*p + 2*t*w) - (cos(t*w) + 1)**2*sin(2*p + 2*t*w) + 4*sin(2*p) - 82*sin(t*w/2)**3*sin(p + t*w)**2*cos(t*w/2) - 38*sin(t*w/2)**3*cos(t*w/2)*cos(p + t*w)**2 - 46*sin(t*w/2)*sin(p + t*w)**2*cos(t*w/2)**3 - 26*sin(t*w/2)*cos(t*w/2)**3*cos(p + t*w)**2)/(96*w), Eq(T, 2*pi/w)), ((-5*T**5*w**5*sin(pi*t/T)**3*cos(pi*t/T) - 3*T**5*w**5*sin(pi*t/T)*cos(pi*t/T)**3 + 3*pi*T**4*t*w**5 - 16*pi*T**4*w**4*sin(p)*sin(t*w)*sin(pi*t/T)**4*sin(p + t*w) + 8*pi*T**4*w**4*sin(p)*sin(pi*t/T)**4*cos(p) + 8*pi*T**4*w**4*sin(t*w)*sin(pi*t/T)**4*cos(t*w) - 16*pi**2*T**3*w**3*sin(p)**2*sin(pi*t/T)**3*cos(pi*t/T) - 32*pi**2*T**3*w**3*sin(p)*sin(t*w)*sin(pi*t/T)**3*cos(pi*t/T)*cos(p + t*w) - 16*pi**2*T**3*w**3*sin(t*w)**2*sin(pi*t/T)**3*cos(pi*t/T) + 33*pi**2*T**3*w**3*sin(pi*t/T)**3*cos(pi*t/T) + 15*pi**2*T**3*w**3*sin(pi*t/T)*cos(pi*t/T)**3 - 15*pi**3*T**2*t*w**3 + 16*pi**3*T**2*w**2*sin(p)*sin(t*w)*sin(pi*t/T)**4*sin(p + t*w) + 48*pi**3*T**2*w**2*sin(p)*sin(t*w)*sin(pi*t/T)**2*sin(p + t*w) - 8*pi**3*T**2*w**2*sin(p)*sin(pi*t/T)**4*cos(p) - 24*pi**3*T**2*w**2*sin(p)*sin(pi*t/T)**2*cos(p) - 8*pi**3*T**2*w**2*sin(t*w)*sin(pi*t/T)**4*cos(t*w) - 24*pi**3*T**2*w**2*sin(t*w)*sin(pi*t/T)**2*cos(t*w) + 40*pi**4*T*w*sin(p)**2*sin(pi*t/T)**3*cos(pi*t/T) + 24*pi**4*T*w*sin(p)**2*sin(pi*t/T)*cos(pi*t/T)**3 + 80*pi**4*T*w*sin(p)*sin(t*w)*sin(pi*t/T)**3*cos(pi*t/T)*cos(p + t*w) + 48*pi**4*T*w*sin(p)*sin(t*w)*sin(pi*t/T)*cos(pi*t/T)**3*cos(p + t*w) + 40*pi**4*T*w*sin(t*w)**2*sin(pi*t/T)**3*cos(pi*t/T) + 24*pi**4*T*w*sin(t*w)**2*sin(pi*t/T)*cos(pi*t/T)**3 - 40*pi**4*T*w*sin(pi*t/T)**3*cos(pi*t/T) - 24*pi**4*T*w*sin(pi*t/T)*cos(pi*t/T)**3 + 12*pi**5*t*w - 24*pi**5*sin(p)*sin(t*w)*sin(p + t*w) + 12*pi**5*sin(t*w)*cos(t*w))/(16*pi*w*(T**4*w**4 - 5*pi**2*T**2*w**2 + 4*pi**4)), True))"
      ]
     },
     "execution_count": 34,
     "metadata": {},
     "output_type": "execute_result"
    }
   ],
   "source": [
    "simple_int_sin4cos2"
   ]
  },
  {
   "cell_type": "markdown",
   "id": "2bba6083",
   "metadata": {},
   "source": [
    "### kA(t)"
   ]
  },
  {
   "cell_type": "code",
   "execution_count": 35,
   "id": "50d3167a",
   "metadata": {},
   "outputs": [
    {
     "data": {
      "text/latex": [
       "$\\displaystyle \\sin^{2}{\\left(\\frac{\\pi t}{T} \\right)} \\cos{\\left(p + t w \\right)}$"
      ],
      "text/plain": [
       "sin(pi*t/T)**2*cos(p + t*w)"
      ]
     },
     "execution_count": 35,
     "metadata": {},
     "output_type": "execute_result"
    }
   ],
   "source": [
    "func_sin2cos = smp.sin(smp.pi * t / T)**2 * smp.cos(w * t + p)\n",
    "func_sin2cos"
   ]
  },
  {
   "cell_type": "code",
   "execution_count": 36,
   "id": "aa1ee880",
   "metadata": {},
   "outputs": [],
   "source": [
    "int_sin2cos = smp.integrate(func_sin2cos, (t, 0, t))"
   ]
  },
  {
   "cell_type": "code",
   "execution_count": 37,
   "id": "6e574c45",
   "metadata": {},
   "outputs": [],
   "source": [
    "simple_int_sin2cos = int_sin2cos.simplify()"
   ]
  },
  {
   "cell_type": "code",
   "execution_count": 38,
   "id": "704f0602",
   "metadata": {},
   "outputs": [
    {
     "data": {
      "text/latex": [
       "$\\displaystyle \\begin{cases} \\frac{T^{2} w^{2} \\sin^{2}{\\left(\\frac{\\pi t}{T} \\right)} \\sin{\\left(p + t w \\right)} + 2 \\pi T w \\sin{\\left(\\frac{\\pi t}{T} \\right)} \\cos{\\left(\\frac{\\pi t}{T} \\right)} \\cos{\\left(p + t w \\right)} + 2 \\pi^{2} \\sin{\\left(p \\right)} - 2 \\pi^{2} \\sin{\\left(p + t w \\right)}}{w \\left(T^{2} w^{2} - 4 \\pi^{2}\\right)} & \\text{for}\\: T \\neq \\frac{2 \\pi}{w} \\\\\\frac{- 2 t w \\cos{\\left(p \\right)} - 3 \\sin{\\left(p \\right)} + 4 \\sin{\\left(p + t w \\right)} - \\sin{\\left(p + 2 t w \\right)}}{8 w} & \\text{otherwise} \\end{cases}$"
      ],
      "text/plain": [
       "Piecewise(((T**2*w**2*sin(pi*t/T)**2*sin(p + t*w) + 2*pi*T*w*sin(pi*t/T)*cos(pi*t/T)*cos(p + t*w) + 2*pi**2*sin(p) - 2*pi**2*sin(p + t*w))/(w*(T**2*w**2 - 4*pi**2)), Ne(T, 2*pi/w)), ((-2*t*w*cos(p) - 3*sin(p) + 4*sin(p + t*w) - sin(p + 2*t*w))/(8*w), True))"
      ]
     },
     "execution_count": 38,
     "metadata": {},
     "output_type": "execute_result"
    }
   ],
   "source": [
    "simple_int_sin2cos"
   ]
  },
  {
   "cell_type": "code",
   "execution_count": 19,
   "id": "cc05c470",
   "metadata": {},
   "outputs": [
    {
     "data": {
      "text/latex": [
       "$\\displaystyle \\sin^{2}{\\left(\\frac{\\pi t}{T} \\right)} \\sin{\\left(p + t w \\right)}$"
      ],
      "text/plain": [
       "sin(pi*t/T)**2*sin(p + t*w)"
      ]
     },
     "execution_count": 19,
     "metadata": {},
     "output_type": "execute_result"
    }
   ],
   "source": [
    "func_sin2sin = smp.sin(smp.pi * t / T)**2 * smp.sin(w * t + p)\n",
    "func_sin2sin"
   ]
  },
  {
   "cell_type": "code",
   "execution_count": 20,
   "id": "ae9987dc",
   "metadata": {},
   "outputs": [],
   "source": [
    "int_sin2sin = smp.integrate(func_sin2sin, (t, 0, t))"
   ]
  },
  {
   "cell_type": "code",
   "execution_count": 23,
   "id": "20267113",
   "metadata": {},
   "outputs": [
    {
     "data": {
      "text/latex": [
       "$\\displaystyle \\begin{cases} \\frac{- T^{2} w^{2} \\sin^{2}{\\left(\\frac{\\pi t}{T} \\right)} \\cos{\\left(p + t w \\right)} + 2 \\pi T w \\sin{\\left(\\frac{\\pi t}{T} \\right)} \\sin{\\left(p + t w \\right)} \\cos{\\left(\\frac{\\pi t}{T} \\right)} - 2 \\pi^{2} \\cos{\\left(p \\right)} + 2 \\pi^{2} \\cos{\\left(p + t w \\right)}}{w \\left(T^{2} w^{2} - 4 \\pi^{2}\\right)} & \\text{for}\\: T \\neq \\frac{2 \\pi}{w} \\\\\\frac{- 2 t w \\sin{\\left(p \\right)} + 3 \\cos{\\left(p \\right)} - 4 \\cos{\\left(p + t w \\right)} + \\cos{\\left(p + 2 t w \\right)}}{8 w} & \\text{otherwise} \\end{cases}$"
      ],
      "text/plain": [
       "Piecewise(((-T**2*w**2*sin(pi*t/T)**2*cos(p + t*w) + 2*pi*T*w*sin(pi*t/T)*sin(p + t*w)*cos(pi*t/T) - 2*pi**2*cos(p) + 2*pi**2*cos(p + t*w))/(w*(T**2*w**2 - 4*pi**2)), Ne(T, 2*pi/w)), ((-2*t*w*sin(p) + 3*cos(p) - 4*cos(p + t*w) + cos(p + 2*t*w))/(8*w), True))"
      ]
     },
     "execution_count": 23,
     "metadata": {},
     "output_type": "execute_result"
    }
   ],
   "source": [
    "int_sin2sin.simplify()"
   ]
  },
  {
   "cell_type": "code",
   "execution_count": 22,
   "id": "52803c0c",
   "metadata": {},
   "outputs": [
    {
     "ename": "NameError",
     "evalue": "name 'simple_int_sin2sin' is not defined",
     "output_type": "error",
     "traceback": [
      "\u001b[0;31m---------------------------------------------------------------------------\u001b[0m",
      "\u001b[0;31mNameError\u001b[0m                                 Traceback (most recent call last)",
      "\u001b[0;32m<ipython-input-22-bb0d97a335b1>\u001b[0m in \u001b[0;36m<module>\u001b[0;34m\u001b[0m\n\u001b[0;32m----> 1\u001b[0;31m \u001b[0msimple_int_sin2sin\u001b[0m\u001b[0;34m\u001b[0m\u001b[0;34m\u001b[0m\u001b[0m\n\u001b[0m",
      "\u001b[0;31mNameError\u001b[0m: name 'simple_int_sin2sin' is not defined"
     ]
    }
   ],
   "source": [
    "simple_int_sin2sin"
   ]
  },
  {
   "cell_type": "code",
   "execution_count": 41,
   "id": "be2a8a7d",
   "metadata": {},
   "outputs": [],
   "source": [
    "simple_int_sin2sin = int_sin2sin.simplify()"
   ]
  },
  {
   "cell_type": "code",
   "execution_count": 42,
   "id": "cda3c7d5",
   "metadata": {},
   "outputs": [
    {
     "data": {
      "text/latex": [
       "$\\displaystyle \\begin{cases} \\frac{- T^{2} w^{2} \\sin^{2}{\\left(\\frac{\\pi t}{T} \\right)} \\cos{\\left(p + t w \\right)} + 2 \\pi T w \\sin{\\left(\\frac{\\pi t}{T} \\right)} \\sin{\\left(p + t w \\right)} \\cos{\\left(\\frac{\\pi t}{T} \\right)} - 2 \\pi^{2} \\cos{\\left(p \\right)} + 2 \\pi^{2} \\cos{\\left(p + t w \\right)}}{w \\left(T^{2} w^{2} - 4 \\pi^{2}\\right)} & \\text{for}\\: T \\neq \\frac{2 \\pi}{w} \\\\\\frac{- 2 t w \\sin{\\left(p \\right)} + 3 \\cos{\\left(p \\right)} - 4 \\cos{\\left(p + t w \\right)} + \\cos{\\left(p + 2 t w \\right)}}{8 w} & \\text{otherwise} \\end{cases}$"
      ],
      "text/plain": [
       "Piecewise(((-T**2*w**2*sin(pi*t/T)**2*cos(p + t*w) + 2*pi*T*w*sin(pi*t/T)*sin(p + t*w)*cos(pi*t/T) - 2*pi**2*cos(p) + 2*pi**2*cos(p + t*w))/(w*(T**2*w**2 - 4*pi**2)), Ne(T, 2*pi/w)), ((-2*t*w*sin(p) + 3*cos(p) - 4*cos(p + t*w) + cos(p + 2*t*w))/(8*w), True))"
      ]
     },
     "execution_count": 42,
     "metadata": {},
     "output_type": "execute_result"
    }
   ],
   "source": [
    "simple_int_sin2sin"
   ]
  },
  {
   "cell_type": "markdown",
   "id": "14babaa7",
   "metadata": {},
   "source": [
    "### Testing "
   ]
  },
  {
   "cell_type": "code",
   "execution_count": 43,
   "id": "a97076b8",
   "metadata": {},
   "outputs": [],
   "source": [
    "# Evaluate all funcs before running \n",
    "test_e_sin4sin2 = simple_int_sin4sin2.subs({w: w_s, p: phase_s, T: T_s}).evalf()\n",
    "test_e_sin4cos2 = simple_int_sin4cos2.subs({w: w_s, p: phase_s, T: T_s}).evalf()\n",
    "test_e_sin2sin = simple_int_sin2sin.subs({w: w_s, p: phase_s, T: T_s}).evalf()\n",
    "test_e_sin2cos = simple_int_sin2cos.subs({w: w_s, p: phase_s, T: T_s}).evalf()"
   ]
  },
  {
   "cell_type": "code",
   "execution_count": null,
   "id": "74d66c88",
   "metadata": {},
   "outputs": [],
   "source": [
    "from scipy.integrate import quad \n",
    "import sympy as smp\n",
    "full_integral = lambda ts: big_integral * Phse_integral(sin4sin2(ts) + sin4cos2(ts) \n",
    "                                                        + sin2sin(ts) + sin2cos(ts))\n",
    "quad(full_integral, 0, t_f, complex_func=True, limit=10)"
   ]
  },
  {
   "cell_type": "markdown",
   "id": "b0b7d427",
   "metadata": {},
   "source": [
    "### The idea is to input it here to the M function but it cant speak with scipy\n",
    "k_test = np.array([1, 1, 0])\n",
    "\n",
    "M_SFA_VG(t_f=T_s, t_0=0, k=k_test, w_sim=w_s, A_0=A_0_s, E_0=E_0_s, phase=phase_s,\n",
    "         epsilon=epsilon_s, T_f=T_s)"
   ]
  }
 ],
 "metadata": {
  "kernelspec": {
   "display_name": "Python 3",
   "language": "python",
   "name": "python3"
  },
  "language_info": {
   "codemirror_mode": {
    "name": "ipython",
    "version": 3
   },
   "file_extension": ".py",
   "mimetype": "text/x-python",
   "name": "python",
   "nbconvert_exporter": "python",
   "pygments_lexer": "ipython3",
   "version": "3.8.8"
  }
 },
 "nbformat": 4,
 "nbformat_minor": 5
}
