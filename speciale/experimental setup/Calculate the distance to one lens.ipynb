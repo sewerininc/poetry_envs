{
 "cells": [
  {
   "cell_type": "code",
   "execution_count": 1,
   "id": "b996a387",
   "metadata": {},
   "outputs": [],
   "source": [
    "import numpy as np\n",
    "import matplotlib.pyplot as plt \n",
    "from sympy import symbols, Eq, solve"
   ]
  },
  {
   "cell_type": "code",
   "execution_count": 11,
   "id": "2678b228",
   "metadata": {},
   "outputs": [
    {
     "name": "stdout",
     "output_type": "stream",
     "text": [
      "d = 0.0562589031519695 m\n"
     ]
    }
   ],
   "source": [
    "# Define variables for f1 and f2\n",
    "d = symbols('d')\n",
    "\n",
    "# Distances (we are calculating the final propagation the total needs to be )\n",
    "z1 = 2.0 - d  # m (distance to the first lens)\n",
    "f1 = 500 * 1e-3  # m focal length focus mirror \n",
    "z2 = 0.5 + d # m (distance to the interaction point)\n",
    "\n",
    "# Propagation matrices\n",
    "M1 = np.array([[1, z1], [0, 1]])  # Propagation to the first lens\n",
    "M2 = np.array([[1, z2], [0, 1]])  # Final propagation\n",
    "\n",
    "# Thin lens matrices (symbolic for f1 and f2)\n",
    "L2 = np.array([[1, 0], [-1/f1, 1]])  # Focusing lens\n",
    "\n",
    "# Total matrix = M3 * L2 * M2 * L1 * M1\n",
    "total_matrix = M2 @ L2 @ M1\n",
    "\n",
    "# Extract matrix elements A, B, C, D\n",
    "A, B, C, D = total_matrix[0, 0], total_matrix[0, 1], total_matrix[1, 0], total_matrix[1, 1]\n",
    "\n",
    "# Starting parameters\n",
    "starting_beam_width = 3 * 1e-3  # m\n",
    "divergence_beam = 1 * 1e-3  # radians\n",
    "\n",
    "startin_parameters = np.array([starting_beam_width, divergence_beam])\n",
    "\n",
    "equation = Eq(total_matrix.dot(startin_parameters)[0], 0)\n",
    "solutions = solve(equation, (d))\n",
    "\n",
    "d_cal = solutions[0]\n",
    "print(f\"d = {d_cal} m\")"
   ]
  },
  {
   "cell_type": "code",
   "execution_count": 12,
   "id": "a371132a",
   "metadata": {},
   "outputs": [],
   "source": [
    "# Matrixes for plotting\n",
    "\n",
    "def get_propagating_air(z_length: float) -> np.array:\n",
    "    return np.array([[1, z_length], [0, 1]])\n",
    "\n",
    "def get_lens_matrix(focal_length: float) -> np.array:\n",
    "    return np.array([[1, 0], [-1/focal_length, 1]])\n",
    "\n",
    "startin_parameters = np.array([starting_beam_width, divergence_beam])\n",
    "focus_lens = get_lens_matrix(focal_length=f1)"
   ]
  },
  {
   "cell_type": "code",
   "execution_count": 13,
   "id": "9349e161",
   "metadata": {},
   "outputs": [
    {
     "data": {
      "image/png": "[encoded data removed]",
      "text/plain": [
       "<Figure size 640x480 with 1 Axes>"
      ]
     },
     "metadata": {},
     "output_type": "display_data"
    }
   ],
   "source": [
    "vector_focus = get_propagating_air(z1.subs({d: d_cal})).dot(startin_parameters)\n",
    "interaction_point = get_propagating_air(z2.subs({d: d_cal})).dot(focus_lens.dot(vector_focus))\n",
    "\n",
    "\n",
    "starting_z = 0\n",
    "starting_y = starting_beam_width\n",
    "i = 1\n",
    "\n",
    "new_z1 = float(z1.subs({d: d_cal}))\n",
    "new_z2 = float(z2.subs({d: d_cal}))\n",
    "\n",
    "\n",
    "for x, y in zip(\n",
    "    [new_z1, new_z2],\n",
    "    [vector_focus, interaction_point]\n",
    "):\n",
    "    end_z = float(starting_z + x)\n",
    "    end_y = float(y[0])\n",
    "    \n",
    "    xs = np.linspace(starting_z, end_z, 100)\n",
    "    ys = np.linspace(starting_y, end_y, 100)\n",
    "    \n",
    "    plt.fill_between(x=xs, y1=ys * 1e3, y2=-ys * 1e3, color=\"Red\", label=\"Infrared Laser\" if i == 1 else None)\n",
    "    \n",
    "    i += 1\n",
    "    starting_z = end_z\n",
    "    starting_y = end_y\n",
    "\n",
    "    \n",
    "lens_radius = 0.0135 * 1e3 # m\n",
    "\n",
    "plt.plot([new_z1, new_z1], [-lens_radius, lens_radius], color=\"black\", label=\"Lens 1\")\n",
    "\n",
    "plt.ylabel('Beam width [mm]')\n",
    "plt.legend()\n",
    "plt.xlabel('z [m]')    \n",
    "plt.grid()\n",
    "plt.show()"
   ]
  },
  {
   "cell_type": "code",
   "execution_count": null,
   "id": "b737bfba",
   "metadata": {},
   "outputs": [],
   "source": []
  }
 ],
 "metadata": {
  "kernelspec": {
   "display_name": "Python 3",
   "language": "python",
   "name": "python3"
  },
  "language_info": {
   "codemirror_mode": {
    "name": "ipython",
    "version": 3
   },
   "file_extension": ".py",
   "mimetype": "text/x-python",
   "name": "python",
   "nbconvert_exporter": "python",
   "pygments_lexer": "ipython3",
   "version": "3.8.8"
  }
 },
 "nbformat": 4,
 "nbformat_minor": 5
}
