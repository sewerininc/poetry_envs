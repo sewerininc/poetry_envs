{
 "cells": [
  {
   "cell_type": "code",
   "execution_count": 1,
   "id": "2fc77d4c",
   "metadata": {},
   "outputs": [
    {
     "name": "stderr",
     "output_type": "stream",
     "text": [
      "/tmp/ipykernel_84091/1492400551.py:1: DeprecationWarning: \n",
      "Pyarrow will become a required dependency of pandas in the next major release of pandas (pandas 3.0),\n",
      "(to allow more performant data types, such as the Arrow string type, and better interoperability with other libraries)\n",
      "but was not found to be installed on your system.\n",
      "If this would cause problems for you,\n",
      "please provide us feedback at https://github.com/pandas-dev/pandas/issues/54466\n",
      "        \n",
      "  import pandas as pd\n"
     ]
    }
   ],
   "source": [
    "import pandas as pd\n",
    "import matplotlib.pyplot as plt"
   ]
  },
  {
   "cell_type": "code",
   "execution_count": 2,
   "id": "75aaf63c",
   "metadata": {},
   "outputs": [],
   "source": [
    "def correct_string(line: str, A_before: int) -> (list, int):\n",
    "    \"\"\"\n",
    "    Turns one line of the string into a list with values for all these cols (15)\n",
    "    'N', 'Z', 'A', 'El', 'Orig', 'Mass Excess (keV)', 'ME Unc',\n",
    "       'Binding Energy/A (keV)', 'BE/A Unc', 'Beta-decay Type',\n",
    "       'Beta-decay Energy (keV)', 'BE Unc', 'N Protons',\n",
    "       'Atomic Mass (micro-u)', 'AM Unc'\n",
    "    \"\"\"\n",
    "    N = int(line[2:9].strip())\n",
    "    Z = int(line[10:14].strip())\n",
    "    \n",
    "    A_test = line[15:19].strip()\n",
    "    if A_test == \"\":  # Can be empty\n",
    "        A = A_before\n",
    "    else:\n",
    "        A = int(A_test)\n",
    "    \n",
    "    El = line[20:22].strip()\n",
    "    Orig = line[23:27].strip()\n",
    "    mass_excess = line[28:41].strip()  # missing convertion for # is str for now\n",
    "    mass_excess_unc = line[42:52].strip() # missing convertion for # is str for now\n",
    "    b_energya = line[53:63].strip() # missing convertion for # is str for now\n",
    "    b_energya_unc = line[63:72].strip() # missing convertion for # is str for now\n",
    "    b_type = line[72:75].strip()\n",
    "    b_energy = line[75:86].strip() # missing convertion for # and * is str for now\n",
    "    b_energy_unc = line[87:95].strip() # missing convertion for # and * is str for now\n",
    "    n_protons = int(line[96:99].strip())\n",
    "    a_mass = line[99:112].strip() # missing convertion for # and * is str for now\n",
    "    am_unc = line[112:].strip() # missing convertion for # and * is str for now\n",
    "    \n",
    "    output_values = [\n",
    "        N, Z, A, El, Orig, mass_excess, mass_excess_unc, b_energya, b_energya_unc,\n",
    "        b_type, b_energy, b_energy_unc, n_protons, a_mass, am_unc\n",
    "    ]\n",
    "    return output_values, A\n",
    "    "
   ]
  },
  {
   "cell_type": "code",
   "execution_count": 3,
   "id": "61fda6a2",
   "metadata": {},
   "outputs": [],
   "source": [
    "file1 = open('massround.mas20.txt', 'r')\n",
    "Lines = file1.readlines()"
   ]
  },
  {
   "cell_type": "code",
   "execution_count": 4,
   "id": "088a1dab",
   "metadata": {},
   "outputs": [],
   "source": [
    "pd_cols = Lines[32].rsplit()[1:]\n",
    "df = pd.DataFrame(columns=pd_cols)\n",
    "df = df.rename(columns={\"Mass\": \"Mass Excess (keV)\", \"Excess\": \"ME Unc\", \"Binding\": \"Binding Energy/A (keV)\",\n",
    "                  \"Energy/A\": \"BE/A Unc\", \"Beta-decay\": \"Beta-decay Type\",\n",
    "                   \"Energy\": \"Beta-decay Energy (keV)\", \"Atomic\": \"BE Unc\"})\n",
    "df = df.iloc[:,:-1]\n",
    "df[\"N Protons\"] = None\n",
    "df[\"Atomic Mass (micro-u)\"] = None\n",
    "df[\"AM Unc\"] = None"
   ]
  },
  {
   "cell_type": "code",
   "execution_count": 5,
   "id": "9c2ab258",
   "metadata": {},
   "outputs": [],
   "source": [
    "line_number = 34\n",
    "a_before = 0\n",
    "\n",
    "for i in range(len(Lines[34:])):\n",
    "    try:\n",
    "        value_list, a_temp = correct_string(Lines[line_number + i], a_before)\n",
    "        a_before = a_temp  # This values sometimes does not change so it is saved between loops\n",
    "        df.loc[i] = value_list\n",
    "    except Exception as e:\n",
    "        print(i, e)"
   ]
  },
  {
   "cell_type": "code",
   "execution_count": 6,
   "id": "f0b6e059",
   "metadata": {},
   "outputs": [
    {
     "name": "stdout",
     "output_type": "stream",
     "text": [
      "Now you have the file massround.mas20.txt in the pd.DataFrame() -> df\n"
     ]
    }
   ],
   "source": [
    "print(\"Now you have the file massround.mas20.txt in the pd.DataFrame() -> df\")"
   ]
  },
  {
   "cell_type": "code",
   "execution_count": 11,
   "id": "63d973ee",
   "metadata": {},
   "outputs": [
    {
     "data": {
      "text/html": [
       "<div>\n",
       "<style scoped>\n",
       "    .dataframe tbody tr th:only-of-type {\n",
       "        vertical-align: middle;\n",
       "    }\n",
       "\n",
       "    .dataframe tbody tr th {\n",
       "        vertical-align: top;\n",
       "    }\n",
       "\n",
       "    .dataframe thead th {\n",
       "        text-align: right;\n",
       "    }\n",
       "</style>\n",
       "<table border=\"1\" class=\"dataframe\">\n",
       "  <thead>\n",
       "    <tr style=\"text-align: right;\">\n",
       "      <th></th>\n",
       "      <th>N</th>\n",
       "      <th>Z</th>\n",
       "      <th>A</th>\n",
       "      <th>El</th>\n",
       "      <th>Orig</th>\n",
       "      <th>Mass Excess (keV)</th>\n",
       "      <th>ME Unc</th>\n",
       "      <th>Binding Energy/A (keV)</th>\n",
       "      <th>BE/A Unc</th>\n",
       "      <th>Beta-decay Type</th>\n",
       "      <th>Beta-decay Energy (keV)</th>\n",
       "      <th>BE Unc</th>\n",
       "      <th>N Protons</th>\n",
       "      <th>Atomic Mass (micro-u)</th>\n",
       "      <th>AM Unc</th>\n",
       "    </tr>\n",
       "  </thead>\n",
       "  <tbody>\n",
       "    <tr>\n",
       "      <th>2841</th>\n",
       "      <td>126</td>\n",
       "      <td>82</td>\n",
       "      <td>208</td>\n",
       "      <td>Pb</td>\n",
       "      <td></td>\n",
       "      <td>-21748.5</td>\n",
       "      <td>1.1</td>\n",
       "      <td>7867.453</td>\n",
       "      <td>0.006</td>\n",
       "      <td></td>\n",
       "      <td>*</td>\n",
       "      <td></td>\n",
       "      <td>207</td>\n",
       "      <td>976652.0</td>\n",
       "      <td>1.2</td>\n",
       "    </tr>\n",
       "  </tbody>\n",
       "</table>\n",
       "</div>"
      ],
      "text/plain": [
       "        N   Z    A  El Orig Mass Excess (keV) ME Unc Binding Energy/A (keV)  \\\n",
       "2841  126  82  208  Pb               -21748.5    1.1               7867.453   \n",
       "\n",
       "     BE/A Unc Beta-decay Type Beta-decay Energy (keV) BE Unc  N Protons  \\\n",
       "2841    0.006                                       *               207   \n",
       "\n",
       "     Atomic Mass (micro-u) AM Unc  \n",
       "2841              976652.0    1.2  "
      ]
     },
     "execution_count": 11,
     "metadata": {},
     "output_type": "execute_result"
    }
   ],
   "source": [
    "df.loc[(df[\"Z\"] == 82) & (df[\"A\"] == 208)]"
   ]
  }
 ],
 "metadata": {
  "kernelspec": {
   "display_name": "kernefysik_env",
   "language": "python",
   "name": "kernefysik_env"
  },
  "language_info": {
   "codemirror_mode": {
    "name": "ipython",
    "version": 3
   },
   "file_extension": ".py",
   "mimetype": "text/x-python",
   "name": "python",
   "nbconvert_exporter": "python",
   "pygments_lexer": "ipython3",
   "version": "3.12.1"
  }
 },
 "nbformat": 4,
 "nbformat_minor": 5
}
