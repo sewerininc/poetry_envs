{
 "cells": [
  {
   "cell_type": "code",
   "execution_count": 1,
   "id": "45dae452",
   "metadata": {},
   "outputs": [
    {
     "name": "stdout",
     "output_type": "stream",
     "text": [
      "Now you have the file massround.mas20.txt in the pd.DataFrame() -> df\n"
     ]
    }
   ],
   "source": [
    "# Get the df from before\n",
    "%run mass_df.ipynb"
   ]
  },
  {
   "cell_type": "code",
   "execution_count": 2,
   "id": "ec742a8c",
   "metadata": {},
   "outputs": [
    {
     "data": {
      "text/html": [
       "<div>\n",
       "<style scoped>\n",
       "    .dataframe tbody tr th:only-of-type {\n",
       "        vertical-align: middle;\n",
       "    }\n",
       "\n",
       "    .dataframe tbody tr th {\n",
       "        vertical-align: top;\n",
       "    }\n",
       "\n",
       "    .dataframe thead th {\n",
       "        text-align: right;\n",
       "    }\n",
       "</style>\n",
       "<table border=\"1\" class=\"dataframe\">\n",
       "  <thead>\n",
       "    <tr style=\"text-align: right;\">\n",
       "      <th></th>\n",
       "      <th>N</th>\n",
       "      <th>Z</th>\n",
       "      <th>A</th>\n",
       "      <th>El</th>\n",
       "      <th>Orig</th>\n",
       "      <th>Mass Excess (keV)</th>\n",
       "      <th>ME Unc</th>\n",
       "      <th>Binding Energy/A (keV)</th>\n",
       "      <th>BE/A Unc</th>\n",
       "      <th>Beta-decay Type</th>\n",
       "      <th>Beta-decay Energy (keV)</th>\n",
       "      <th>BE Unc</th>\n",
       "      <th>N Protons</th>\n",
       "      <th>Atomic Mass (micro-u)</th>\n",
       "      <th>AM Unc</th>\n",
       "    </tr>\n",
       "  </thead>\n",
       "  <tbody>\n",
       "    <tr>\n",
       "      <th>75</th>\n",
       "      <td>8</td>\n",
       "      <td>8</td>\n",
       "      <td>16</td>\n",
       "      <td>O</td>\n",
       "      <td></td>\n",
       "      <td>-4737.00217</td>\n",
       "      <td>0.00030</td>\n",
       "      <td>7976.207</td>\n",
       "      <td>a</td>\n",
       "      <td></td>\n",
       "      <td>*</td>\n",
       "      <td></td>\n",
       "      <td>15</td>\n",
       "      <td>994914.6193</td>\n",
       "      <td>0.0003</td>\n",
       "    </tr>\n",
       "  </tbody>\n",
       "</table>\n",
       "</div>"
      ],
      "text/plain": [
       "    N  Z   A El Orig Mass Excess (keV)   ME Unc Binding Energy/A (keV)  \\\n",
       "75  8  8  16  O            -4737.00217  0.00030               7976.207   \n",
       "\n",
       "   BE/A Unc Beta-decay Type Beta-decay Energy (keV) BE Unc N Protons  \\\n",
       "75        a                                       *               15   \n",
       "\n",
       "   Atomic Mass (micro-u)  AM Unc  \n",
       "75           994914.6193  0.0003  "
      ]
     },
     "execution_count": 2,
     "metadata": {},
     "output_type": "execute_result"
    }
   ],
   "source": [
    "df.loc[(df[\"Z\"] == 8) & (df[\"A\"] == 16)]"
   ]
  },
  {
   "cell_type": "markdown",
   "id": "d708e040",
   "metadata": {},
   "source": [
    "# a"
   ]
  },
  {
   "cell_type": "code",
   "execution_count": 3,
   "id": "78f24b24",
   "metadata": {},
   "outputs": [
    {
     "data": {
      "text/plain": [
       "4.729844000000001"
      ]
     },
     "execution_count": 3,
     "metadata": {},
     "output_type": "execute_result"
    }
   ],
   "source": [
    "M_O = float(df.loc[(df[\"Z\"] == 8) & (df[\"A\"] == 16), \"Binding Energy/A (keV)\"].values[0]) * 16\n",
    "M_Ne = float(df.loc[(df[\"Z\"] == 10) & (df[\"A\"] == 20), \"Binding Energy/A (keV)\"].values[0]) * 20\n",
    "M_alpha = float(df.loc[(df[\"Z\"] == 2) & (df[\"A\"] == 4), \"Binding Energy/A (keV)\"].values[0]) * 4\n",
    "\n",
    "Z_value = M_Ne - M_O - M_alpha\n",
    "Z_value / 1000 # MeV"
   ]
  },
  {
   "cell_type": "code",
   "execution_count": 4,
   "id": "50df1f75",
   "metadata": {},
   "outputs": [
    {
     "data": {
      "text/plain": [
       "-4.7298459"
      ]
     },
     "execution_count": 4,
     "metadata": {},
     "output_type": "execute_result"
    }
   ],
   "source": [
    "kilde = \"Mass Excess (keV)\"\n",
    "\n",
    "M_O = float(df.loc[(df[\"Z\"] == 8) & (df[\"A\"] == 16), kilde].values[0])\n",
    "M_Ne = float(df.loc[(df[\"Z\"] == 10) & (df[\"A\"] == 20), kilde].values[0])\n",
    "M_alpha = float(df.loc[(df[\"Z\"] == 2) & (df[\"A\"] == 4), kilde].values[0])\n",
    "\n",
    "Z_value = M_Ne - M_O - M_alpha\n",
    "Z_value / 1000  # MeV"
   ]
  },
  {
   "cell_type": "markdown",
   "id": "4fa67380",
   "metadata": {},
   "source": [
    "# b"
   ]
  },
  {
   "cell_type": "code",
   "execution_count": 5,
   "id": "2801e9c5",
   "metadata": {},
   "outputs": [
    {
     "data": {
      "text/plain": [
       "7.9762070000000005"
      ]
     },
     "execution_count": 5,
     "metadata": {},
     "output_type": "execute_result"
    }
   ],
   "source": [
    "float(df.loc[(df[\"Z\"] == 8) & (df[\"A\"] == 16), \"Binding Energy/A (keV)\"])/ 1000  # MeV"
   ]
  },
  {
   "cell_type": "code",
   "execution_count": 18,
   "id": "06416ce0",
   "metadata": {},
   "outputs": [
    {
     "name": "stdout",
     "output_type": "stream",
     "text": [
      "f(14.97 MeV) =  25101.1\n",
      "f(11.06 MeV) =  5518.79\n",
      "f(7.15 MeV) =  621.61\n"
     ]
    }
   ],
   "source": [
    "import numpy as np \n",
    "\n",
    "# Part with f\n",
    "\n",
    "E_cm = [1, 3, 5]  # MeV\n",
    "m_e = 0.511  # MeV / c^2\n",
    "\n",
    "Q_EC = 13.893 #  MeV\n",
    "E_alpha_min = 4.7298459 # MeV\n",
    "\n",
    "for i, Ecm in enumerate(E_cm):\n",
    "\n",
    "    E_plus = Q_EC - E_alpha_min - Ecm - m_e\n",
    "\n",
    "    Ee = E_plus / m_e\n",
    "\n",
    "    f = Ee**5 / 30\n",
    "\n",
    "    print(f\"f({round(Ee,2)} MeV) = \", round(f, 2))"
   ]
  },
  {
   "cell_type": "code",
   "execution_count": 10,
   "id": "33d73cc5",
   "metadata": {},
   "outputs": [
    {
     "name": "stdout",
     "output_type": "stream",
     "text": [
      "2.398909287924421e+37 eV(1/2) u(1/2) / (J s)\n",
      "7.410013321717078e+19 m u / (J s)\n"
     ]
    },
    {
     "ename": "UnitConversionError",
     "evalue": "Can only apply 'subtract' function to quantities with compatible dimensions",
     "output_type": "error",
     "traceback": [
      "\u001b[0;31m---------------------------------------------------------------------------\u001b[0m",
      "\u001b[0;31mUnitConversionError\u001b[0m                       Traceback (most recent call last)",
      "\u001b[0;32m/opt/anaconda3/lib/python3.8/site-packages/astropy/units/quantity_helper/helpers.py\u001b[0m in \u001b[0;36mget_converters_and_unit\u001b[0;34m(f, unit1, unit2)\u001b[0m\n\u001b[1;32m     67\u001b[0m         \u001b[0;32mtry\u001b[0m\u001b[0;34m:\u001b[0m\u001b[0;34m\u001b[0m\u001b[0;34m\u001b[0m\u001b[0m\n\u001b[0;32m---> 68\u001b[0;31m             \u001b[0mconverters\u001b[0m\u001b[0;34m[\u001b[0m\u001b[0mchangeable\u001b[0m\u001b[0;34m]\u001b[0m \u001b[0;34m=\u001b[0m \u001b[0mget_converter\u001b[0m\u001b[0;34m(\u001b[0m\u001b[0munit2\u001b[0m\u001b[0;34m,\u001b[0m \u001b[0munit1\u001b[0m\u001b[0;34m)\u001b[0m\u001b[0;34m\u001b[0m\u001b[0;34m\u001b[0m\u001b[0m\n\u001b[0m\u001b[1;32m     69\u001b[0m         \u001b[0;32mexcept\u001b[0m \u001b[0mUnitsError\u001b[0m\u001b[0;34m:\u001b[0m\u001b[0;34m\u001b[0m\u001b[0;34m\u001b[0m\u001b[0m\n",
      "\u001b[0;32m/opt/anaconda3/lib/python3.8/site-packages/astropy/units/quantity_helper/helpers.py\u001b[0m in \u001b[0;36mget_converter\u001b[0;34m(from_unit, to_unit)\u001b[0m\n\u001b[1;32m     31\u001b[0m     i.e., if the inferred scale is unity.\"\"\"\n\u001b[0;32m---> 32\u001b[0;31m     \u001b[0mconverter\u001b[0m \u001b[0;34m=\u001b[0m \u001b[0mfrom_unit\u001b[0m\u001b[0;34m.\u001b[0m\u001b[0m_get_converter\u001b[0m\u001b[0;34m(\u001b[0m\u001b[0mto_unit\u001b[0m\u001b[0;34m)\u001b[0m\u001b[0;34m\u001b[0m\u001b[0;34m\u001b[0m\u001b[0m\n\u001b[0m\u001b[1;32m     33\u001b[0m     \u001b[0;32mreturn\u001b[0m \u001b[0;32mNone\u001b[0m \u001b[0;32mif\u001b[0m \u001b[0mconverter\u001b[0m \u001b[0;32mis\u001b[0m \u001b[0munit_scale_converter\u001b[0m \u001b[0;32melse\u001b[0m \u001b[0mconverter\u001b[0m\u001b[0;34m\u001b[0m\u001b[0;34m\u001b[0m\u001b[0m\n",
      "\u001b[0;32m/opt/anaconda3/lib/python3.8/site-packages/astropy/units/core.py\u001b[0m in \u001b[0;36m_get_converter\u001b[0;34m(self, other, equivalencies)\u001b[0m\n\u001b[1;32m   1063\u001b[0m \u001b[0;34m\u001b[0m\u001b[0m\n\u001b[0;32m-> 1064\u001b[0;31m             \u001b[0;32mraise\u001b[0m \u001b[0mexc\u001b[0m\u001b[0;34m\u001b[0m\u001b[0;34m\u001b[0m\u001b[0m\n\u001b[0m\u001b[1;32m   1065\u001b[0m \u001b[0;34m\u001b[0m\u001b[0m\n",
      "\u001b[0;32m/opt/anaconda3/lib/python3.8/site-packages/astropy/units/core.py\u001b[0m in \u001b[0;36m_get_converter\u001b[0;34m(self, other, equivalencies)\u001b[0m\n\u001b[1;32m   1048\u001b[0m         \u001b[0;32mtry\u001b[0m\u001b[0;34m:\u001b[0m\u001b[0;34m\u001b[0m\u001b[0;34m\u001b[0m\u001b[0m\n\u001b[0;32m-> 1049\u001b[0;31m             return self._apply_equivalencies(\n\u001b[0m\u001b[1;32m   1050\u001b[0m                 self, other, self._normalize_equivalencies(equivalencies))\n",
      "\u001b[0;32m/opt/anaconda3/lib/python3.8/site-packages/astropy/units/core.py\u001b[0m in \u001b[0;36m_apply_equivalencies\u001b[0;34m(self, unit, other, equivalencies)\u001b[0m\n\u001b[1;32m   1024\u001b[0m \u001b[0;34m\u001b[0m\u001b[0m\n\u001b[0;32m-> 1025\u001b[0;31m         raise UnitConversionError(\n\u001b[0m\u001b[1;32m   1026\u001b[0m             f\"{unit_str} and {other_str} are not convertible\")\n",
      "\u001b[0;31mUnitConversionError\u001b[0m: 'm(1/2) u(1/2) / (J(1/2) s(1/2))' and 'u(1/2) / eV(1/2)' are not convertible",
      "\nDuring handling of the above exception, another exception occurred:\n",
      "\u001b[0;31mUnitConversionError\u001b[0m                       Traceback (most recent call last)",
      "\u001b[0;32m<ipython-input-10-ea2ec5160753>\u001b[0m in \u001b[0;36m<module>\u001b[0;34m\u001b[0m\n\u001b[1;32m     36\u001b[0m     \u001b[0mprint\u001b[0m\u001b[0;34m(\u001b[0m\u001b[0mn\u001b[0m \u001b[0;34m*\u001b[0m \u001b[0mk\u001b[0m \u001b[0;34m*\u001b[0m \u001b[0mR_tot\u001b[0m\u001b[0;34m)\u001b[0m\u001b[0;34m\u001b[0m\u001b[0;34m\u001b[0m\u001b[0m\n\u001b[1;32m     37\u001b[0m \u001b[0;34m\u001b[0m\u001b[0m\n\u001b[0;32m---> 38\u001b[0;31m     \u001b[0mgamma\u001b[0m \u001b[0;34m=\u001b[0m \u001b[0;36m2\u001b[0m \u001b[0;34m*\u001b[0m \u001b[0mnp\u001b[0m\u001b[0;34m.\u001b[0m\u001b[0mpi\u001b[0m \u001b[0;34m*\u001b[0m \u001b[0mn\u001b[0m \u001b[0;34m-\u001b[0m \u001b[0mnp\u001b[0m\u001b[0;34m.\u001b[0m\u001b[0msqrt\u001b[0m\u001b[0;34m(\u001b[0m\u001b[0;36m32\u001b[0m \u001b[0;34m*\u001b[0m \u001b[0mn\u001b[0m \u001b[0;34m*\u001b[0m \u001b[0mk\u001b[0m \u001b[0;34m*\u001b[0m \u001b[0mR_tot\u001b[0m\u001b[0;34m)\u001b[0m\u001b[0;34m\u001b[0m\u001b[0;34m\u001b[0m\u001b[0m\n\u001b[0m\u001b[1;32m     39\u001b[0m \u001b[0;34m\u001b[0m\u001b[0m\n\u001b[1;32m     40\u001b[0m     \u001b[0mdelta_gamma\u001b[0m \u001b[0;34m=\u001b[0m \u001b[0ml\u001b[0m \u001b[0;34m*\u001b[0m \u001b[0;34m(\u001b[0m\u001b[0ml\u001b[0m \u001b[0;34m+\u001b[0m \u001b[0;36m1\u001b[0m\u001b[0;34m)\u001b[0m \u001b[0;34m*\u001b[0m \u001b[0mnp\u001b[0m\u001b[0;34m.\u001b[0m\u001b[0msqrt\u001b[0m\u001b[0;34m(\u001b[0m\u001b[0;36m2\u001b[0m \u001b[0;34m/\u001b[0m \u001b[0;34m(\u001b[0m\u001b[0mn\u001b[0m \u001b[0;34m*\u001b[0m \u001b[0mk\u001b[0m \u001b[0;34m*\u001b[0m \u001b[0mR_tot\u001b[0m\u001b[0;34m)\u001b[0m\u001b[0;34m)\u001b[0m\u001b[0;34m\u001b[0m\u001b[0;34m\u001b[0m\u001b[0m\n",
      "\u001b[0;32m/opt/anaconda3/lib/python3.8/site-packages/astropy/units/quantity.py\u001b[0m in \u001b[0;36m__array_ufunc__\u001b[0;34m(self, function, method, *inputs, **kwargs)\u001b[0m\n\u001b[1;32m    464\u001b[0m         \u001b[0;31m# consistent units between two inputs (e.g., in np.add) --\u001b[0m\u001b[0;34m\u001b[0m\u001b[0;34m\u001b[0m\u001b[0;34m\u001b[0m\u001b[0m\n\u001b[1;32m    465\u001b[0m         \u001b[0;31m# and the unit of the result (or tuple of units for nout > 1).\u001b[0m\u001b[0;34m\u001b[0m\u001b[0;34m\u001b[0m\u001b[0;34m\u001b[0m\u001b[0m\n\u001b[0;32m--> 466\u001b[0;31m         \u001b[0mconverters\u001b[0m\u001b[0;34m,\u001b[0m \u001b[0munit\u001b[0m \u001b[0;34m=\u001b[0m \u001b[0mconverters_and_unit\u001b[0m\u001b[0;34m(\u001b[0m\u001b[0mfunction\u001b[0m\u001b[0;34m,\u001b[0m \u001b[0mmethod\u001b[0m\u001b[0;34m,\u001b[0m \u001b[0;34m*\u001b[0m\u001b[0minputs\u001b[0m\u001b[0;34m)\u001b[0m\u001b[0;34m\u001b[0m\u001b[0;34m\u001b[0m\u001b[0m\n\u001b[0m\u001b[1;32m    467\u001b[0m \u001b[0;34m\u001b[0m\u001b[0m\n\u001b[1;32m    468\u001b[0m         \u001b[0mout\u001b[0m \u001b[0;34m=\u001b[0m \u001b[0mkwargs\u001b[0m\u001b[0;34m.\u001b[0m\u001b[0mget\u001b[0m\u001b[0;34m(\u001b[0m\u001b[0;34m'out'\u001b[0m\u001b[0;34m,\u001b[0m \u001b[0;32mNone\u001b[0m\u001b[0;34m)\u001b[0m\u001b[0;34m\u001b[0m\u001b[0;34m\u001b[0m\u001b[0m\n",
      "\u001b[0;32m/opt/anaconda3/lib/python3.8/site-packages/astropy/units/quantity_helper/converters.py\u001b[0m in \u001b[0;36mconverters_and_unit\u001b[0;34m(function, method, *args)\u001b[0m\n\u001b[1;32m    172\u001b[0m \u001b[0;34m\u001b[0m\u001b[0m\n\u001b[1;32m    173\u001b[0m         \u001b[0;31m# Determine possible conversion functions, and the result unit.\u001b[0m\u001b[0;34m\u001b[0m\u001b[0;34m\u001b[0m\u001b[0;34m\u001b[0m\u001b[0m\n\u001b[0;32m--> 174\u001b[0;31m         \u001b[0mconverters\u001b[0m\u001b[0;34m,\u001b[0m \u001b[0mresult_unit\u001b[0m \u001b[0;34m=\u001b[0m \u001b[0mufunc_helper\u001b[0m\u001b[0;34m(\u001b[0m\u001b[0mfunction\u001b[0m\u001b[0;34m,\u001b[0m \u001b[0;34m*\u001b[0m\u001b[0munits\u001b[0m\u001b[0;34m)\u001b[0m\u001b[0;34m\u001b[0m\u001b[0;34m\u001b[0m\u001b[0m\n\u001b[0m\u001b[1;32m    175\u001b[0m \u001b[0;34m\u001b[0m\u001b[0m\n\u001b[1;32m    176\u001b[0m         \u001b[0;32mif\u001b[0m \u001b[0many\u001b[0m\u001b[0;34m(\u001b[0m\u001b[0mconverter\u001b[0m \u001b[0;32mis\u001b[0m \u001b[0;32mFalse\u001b[0m \u001b[0;32mfor\u001b[0m \u001b[0mconverter\u001b[0m \u001b[0;32min\u001b[0m \u001b[0mconverters\u001b[0m\u001b[0;34m)\u001b[0m\u001b[0;34m:\u001b[0m\u001b[0;34m\u001b[0m\u001b[0;34m\u001b[0m\u001b[0m\n",
      "\u001b[0;32m/opt/anaconda3/lib/python3.8/site-packages/astropy/units/quantity_helper/helpers.py\u001b[0m in \u001b[0;36mget_converters_and_unit\u001b[0;34m(f, unit1, unit2)\u001b[0m\n\u001b[1;32m     68\u001b[0m             \u001b[0mconverters\u001b[0m\u001b[0;34m[\u001b[0m\u001b[0mchangeable\u001b[0m\u001b[0;34m]\u001b[0m \u001b[0;34m=\u001b[0m \u001b[0mget_converter\u001b[0m\u001b[0;34m(\u001b[0m\u001b[0munit2\u001b[0m\u001b[0;34m,\u001b[0m \u001b[0munit1\u001b[0m\u001b[0;34m)\u001b[0m\u001b[0;34m\u001b[0m\u001b[0;34m\u001b[0m\u001b[0m\n\u001b[1;32m     69\u001b[0m         \u001b[0;32mexcept\u001b[0m \u001b[0mUnitsError\u001b[0m\u001b[0;34m:\u001b[0m\u001b[0;34m\u001b[0m\u001b[0;34m\u001b[0m\u001b[0m\n\u001b[0;32m---> 70\u001b[0;31m             raise UnitConversionError(\n\u001b[0m\u001b[1;32m     71\u001b[0m                 \u001b[0;34m\"Can only apply '{}' function to quantities \"\u001b[0m\u001b[0;34m\u001b[0m\u001b[0;34m\u001b[0m\u001b[0m\n\u001b[1;32m     72\u001b[0m                 \u001b[0;34m\"with compatible dimensions\"\u001b[0m\u001b[0;34m\u001b[0m\u001b[0;34m\u001b[0m\u001b[0m\n",
      "\u001b[0;31mUnitConversionError\u001b[0m: Can only apply 'subtract' function to quantities with compatible dimensions"
     ]
    }
   ],
   "source": [
    "# part with alpha penetrability \n",
    "from astropy import constants as c\n",
    "from astropy import units as u\n",
    "import numpy as np\n",
    "\n",
    "E_cm = [1, 3, 5]  # eV\n",
    "\n",
    "R_a = 1.4e-15 * 4 **(1/3) * u.m\n",
    "R_o = 1.4e-15 * 16 **(1/3) * u.m\n",
    "R_tot = (R_a + R_o) / 1.1\n",
    "\n",
    "\n",
    "hbar = c.hbar\n",
    "\n",
    "z = 4\n",
    "Z = 16\n",
    "fine = 1/137\n",
    "\n",
    "\n",
    "m1 = 4 * u.u\n",
    "m2 = 16 * u.u\n",
    "\n",
    "reduced_m = m1 * m2 / (m1 + m2) \n",
    "\n",
    "l = 2\n",
    "\n",
    "for i, Ecm in enumerate(E_cm):\n",
    "    Energy = Ecm * u.electronvolt * 1e6\n",
    "    \n",
    "    beta = np.sqrt(2 * Energy / reduced_m)\n",
    "\n",
    "    n = z * Z * fine / beta \n",
    "    \n",
    "    k = np.sqrt(2 * reduced_m * Energy) / hbar \n",
    "    print(k)\n",
    "    print(n * k * R_tot)\n",
    "    \n",
    "    gamma = 2 * np.pi * n - np.sqrt(32 * n * k * R_tot)\n",
    "    \n",
    "    delta_gamma = l * (l + 1) * np.sqrt(2 / (n * k * R_tot))\n",
    "    \n",
    "    v_0 = np.exp(-gamma)\n",
    "    v_2 = v_0 * np.exp(-delta_gamma)\n",
    "    \n",
    "    print(Ecm, v_2 * k * R_tot, v_2, v_0)\n",
    "\n",
    "\n"
   ]
  },
  {
   "cell_type": "code",
   "execution_count": 143,
   "id": "9196a2bc",
   "metadata": {},
   "outputs": [
    {
     "name": "stdout",
     "output_type": "stream",
     "text": [
      "α(1 MeV) = 1.21e-15\n",
      "α(3 MeV) = 4.08e-07\n",
      "α(5 MeV) = 1.88e-04\n"
     ]
    }
   ],
   "source": [
    "# part with alpha penetrability \n",
    "from astropy import constants as c\n",
    "from astropy import units as u\n",
    "\n",
    "z = 4\n",
    "Z = 16\n",
    "fine = 1/137\n",
    "\n",
    "R_a = 1.4 * 4 **(1/3)\n",
    "R_o = 1.4 * 16 **(1/3)\n",
    "\n",
    "m1 = 4 * 931.49 \n",
    "m2 = 16 * 931.5\n",
    "\n",
    "E_cm = np.array([1, 3, 5])  # MeV\n",
    "\n",
    "R_tot = (R_a + R_o) / 1.01  # m\n",
    "\n",
    "hbar = 197.327  #MeV⋅fm\n",
    "\n",
    "reduced_m = 473.39 #m1 * m2 / (m1 + m2) # 473.39 MeV / c^2\n",
    "\n",
    "l = 2\n",
    "\n",
    "for i, Ecm in enumerate(E_cm):\n",
    "    \n",
    "    beta = np.sqrt(2 * Ecm / reduced_m)\n",
    "    n = z * Z * fine / beta \n",
    "    \n",
    "    k = np.sqrt(2 * reduced_m * Ecm) / hbar\n",
    "    \n",
    "    gamma = 2 * np.pi * n - np.sqrt(32 * n * k * R_tot)\n",
    "    \n",
    "    delta_gamma = l * (l + 1) * np.sqrt(2 / (n * k * R_tot))\n",
    "    \n",
    "    v_0 = np.exp(-gamma)\n",
    "    v_2 = v_0 * np.exp(-delta_gamma)\n",
    "    \n",
    "    print(f\"α({Ecm} MeV) =\" , \"{:.2e}\".format(v_2 * k * R_tot))"
   ]
  },
  {
   "cell_type": "code",
   "execution_count": 133,
   "id": "9c4d3441",
   "metadata": {},
   "outputs": [
    {
     "data": {
      "text/plain": [
       "2980.774399945035"
      ]
     },
     "execution_count": 133,
     "metadata": {},
     "output_type": "execute_result"
    }
   ],
   "source": [
    "reduced_m"
   ]
  },
  {
   "cell_type": "markdown",
   "id": "b50bd408",
   "metadata": {},
   "source": [
    "# c"
   ]
  },
  {
   "cell_type": "code",
   "execution_count": 169,
   "id": "62d89a82",
   "metadata": {},
   "outputs": [],
   "source": [
    "def tot_cross(E, A5, E5, T5, A7, E7, T7):\n",
    "    sigma5 = A5 / (E - E5 + 1/2*T5)\n",
    "    sigma7 = A7 / (E - E7 + 1/2*T7)\n",
    "    return (sigma5 + sigma7)**2\n"
   ]
  },
  {
   "cell_type": "code",
   "execution_count": 208,
   "id": "936b24da",
   "metadata": {},
   "outputs": [
    {
     "data": {
      "image/png": "[encoded data removed]",
      "text/plain": [
       "<Figure size 640x480 with 1 Axes>"
      ]
     },
     "metadata": {},
     "output_type": "display_data"
    },
    {
     "data": {
      "text/plain": [
       "5.156363636363636"
      ]
     },
     "execution_count": 208,
     "metadata": {},
     "output_type": "execute_result"
    }
   ],
   "source": [
    "ratios = np.linspace(0.01, 10, 100)\n",
    "\n",
    "# All in MeV\n",
    "E5 = 2.2\n",
    "T5 = 0.05\n",
    "E7 = 3.3\n",
    "T7 = 0.4\n",
    "E_picked = 2.95 \n",
    "\n",
    "to_cros = [tot_cross(E_picked, ratio, E5, T5, 1, E7, T7) for ratio in ratios]\n",
    "\n",
    "plt.xlabel(r\"Ratio between amplitudes [A5 / A7]\")\n",
    "plt.title(r\"E$_\\alpha$ = 2.95 MeV\")\n",
    "plt.ylabel(r\"$\\sigma_{ 5+7} $\")\n",
    "plt.plot(ratios, to_cros)\n",
    "plt.scatter(lowest_cross, min(to_cros), color=\"black\", zorder=20)\n",
    "plt.annotate(round(lowest_cross, 2), [lowest_cross - 0.3, min(to_cros) + 1])\n",
    "plt.show()\n",
    "lowest_cross = ratios[to_cros.index(min(to_cros))]\n",
    "lowest_cross"
   ]
  },
  {
   "cell_type": "code",
   "execution_count": 185,
   "id": "89c3a8ea",
   "metadata": {},
   "outputs": [
    {
     "data": {
      "image/png": "[encoded data removed]",
      "text/plain": [
       "<Figure size 640x480 with 1 Axes>"
      ]
     },
     "metadata": {},
     "output_type": "display_data"
    }
   ],
   "source": [
    "energies = np.linspace(1.6, 3.8, 100)\n",
    "\n",
    "# All in MeV\n",
    "A7 = 1\n",
    "A5 = lowest_cross \n",
    "\n",
    "to_cros = [tot_cross(E, A5, E5, T5, A7, E7, T7) for E in energies]\n",
    "\n",
    "plt.plot(energies, to_cros)\n",
    "plt.xlabel(r\"E$_\\alpha$ [MeV]\")\n",
    "plt.ylabel(r\"$\\sigma_{ 5+7} $\")\n",
    "\n",
    "plt.yscale(\"log\")\n",
    "plt.show()\n"
   ]
  },
  {
   "cell_type": "markdown",
   "id": "79ca6c73",
   "metadata": {},
   "source": [
    "# d"
   ]
  },
  {
   "cell_type": "code",
   "execution_count": 52,
   "id": "f39da1c1",
   "metadata": {},
   "outputs": [
    {
     "data": {
      "text/plain": [
       "2980.768"
      ]
     },
     "execution_count": 52,
     "metadata": {},
     "output_type": "execute_result"
    }
   ],
   "source": [
    "m1 * m2 / (m1 + m2) / 1e6"
   ]
  },
  {
   "cell_type": "code",
   "execution_count": 157,
   "id": "6f5efb74",
   "metadata": {},
   "outputs": [
    {
     "data": {
      "text/plain": [
       "8.618011058e-11"
      ]
     },
     "execution_count": 157,
     "metadata": {},
     "output_type": "execute_result"
    }
   ],
   "source": [
    "c.k_B.value * 6.242e12"
   ]
  },
  {
   "cell_type": "code",
   "execution_count": 167,
   "id": "a630feb3",
   "metadata": {},
   "outputs": [
    {
     "data": {
      "text/plain": [
       "(224.72844216803637, 611347776.769717)"
      ]
     },
     "execution_count": 167,
     "metadata": {},
     "output_type": "execute_result"
    }
   ],
   "source": [
    "\n",
    "\n",
    "z = 4\n",
    "Z = 16\n",
    "fine = 1/137\n",
    "\n",
    "m1 = 16 * 931.49e6 # Mev/c^2\n",
    "m2 = 4 * 931.49e6 # Mev/c^2\n",
    "\n",
    "reduced_m = 473.39  # m1 * m2 / (m1 + m2)  # Mev/c^2\n",
    "\n",
    "E_G = 2 * (np.pi * z * Z * fine)**2 * reduced_m * c.c.value \n",
    "k_b = 8.617333262e-5 * 1e-6 # Mev / K\n",
    "T = 1e8  # K\n",
    "\n",
    "E_0 = (E_G * k_b**2 * T**2/4)**(1/3) \n",
    "E_0, E_G / 1000"
   ]
  },
  {
   "cell_type": "code",
   "execution_count": 168,
   "id": "605497ae",
   "metadata": {},
   "outputs": [
    {
     "data": {
      "text/plain": [
       "3.213770271492816"
      ]
     },
     "execution_count": 168,
     "metadata": {},
     "output_type": "execute_result"
    }
   ],
   "source": [
    "4/np.sqrt(3) * np.sqrt(E_0 * k_b * T)"
   ]
  },
  {
   "cell_type": "code",
   "execution_count": null,
   "id": "27d1cbd8",
   "metadata": {},
   "outputs": [],
   "source": []
  },
  {
   "cell_type": "code",
   "execution_count": null,
   "id": "a3829a27",
   "metadata": {},
   "outputs": [],
   "source": []
  }
 ],
 "metadata": {
  "kernelspec": {
   "display_name": "Python 3",
   "language": "python",
   "name": "python3"
  },
  "language_info": {
   "codemirror_mode": {
    "name": "ipython",
    "version": 3
   },
   "file_extension": ".py",
   "mimetype": "text/x-python",
   "name": "python",
   "nbconvert_exporter": "python",
   "pygments_lexer": "ipython3",
   "version": "3.8.8"
  }
 },
 "nbformat": 4,
 "nbformat_minor": 5
}
