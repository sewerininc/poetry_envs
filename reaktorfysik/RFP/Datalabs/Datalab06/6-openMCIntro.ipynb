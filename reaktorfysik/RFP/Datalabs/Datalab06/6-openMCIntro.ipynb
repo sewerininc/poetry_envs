{
 "cells": [
  {
   "cell_type": "markdown",
   "metadata": {},
   "source": [
    "# OpenMC introduction\n",
    "\n",
    "Please indicate your name below, since you will need to submit this notebook completed latest the day after the datalab.\n",
    "\n",
    "Don't forget to save your progress during the datalab to avoid any loss due to crashes."
   ]
  },
  {
   "cell_type": "code",
   "execution_count": 1,
   "metadata": {},
   "outputs": [],
   "source": [
    "name='MIIKKEL'"
   ]
  },
  {
   "cell_type": "markdown",
   "metadata": {},
   "source": [
    "In our previous endeavours we experienced that performing an accurate simulation of particle transport is not trivial. There are several softwares developed to solve this task, and for someone who is more interested in performing the analysis of a reactor core, it is often better to use an already verified and validated code instead of developing a new one from scratch. There are several such codes solving neutron transport either relying on deterministic or stochastic methods. During this datalab we will use a rather young code called OpenMC, which was originally developed at MIT.  \n",
    "\n",
    "OpenMC is a Monte Carlo neutron and photon transport simulation code. It can be used both for fixed source and for criticality calculations. The user can define complicated geometries with constructive solid geometries. OpenMC is written in C++, however it has a rich Python API, which will allow us to comminicate with the code through jupyter notebooks.\n",
    "\n",
    "OpenMC is not yet an industrial standard code, however our motivation to use it for this course was that it is \n",
    "\n",
    "1. freely available\n",
    "2. the important physics we could not tackle within this course ourselves (eg. thermal scattering and several reactions) are implemented in it\n",
    "3. since we can interact with the code through Python, we can deepen our programming skills\n",
    "4. for small problems it runs relatively fast on a single PC\n",
    "\n",
    "That said, today we are going to walk through a simple openMC input file. During this course we will only work with pincell models (ie. a single fuel pin infinite in the axial length with reflective boundaries, so neutrons are reflected back from the boundary in this way approximating an infinite core). This is of course a simplification of a complete reactor core, but it will still allow us to see a lot of cool physics. One could of course perform simulations at the assembly level or for a full-core, however such simulations would be more time consuming. There are several further examples at https://docs.openmc.org/.\n",
    "\n",
    "**Note that this notebook should be opened from an environment where openmc is available!**\n",
    "\n",
    "## The input file\n",
    "\n",
    "During the datalab we will define the following problem which roughly matches a typical western-type pressurized water reactor's conditions:\n",
    "\n",
    "- PWR pincell with reflective boundaries\n",
    "- Fuel radius: 0.41 cm\n",
    "- Fuel material: enriched UO2 with density 10.5 g/cm3\n",
    "- Cladding inner/outer radius: 0.42/0.45 cm\n",
    "- Cladding material: zirconium  with density 6.6 g/cm3\n",
    "- Coolant/moderator: pressurized water with density 0.75 g/cm3\n",
    "- Cell pitch: 1.26 cm\n",
    "\n",
    "Note that in practice, PWR fuel cladding is made of an alloy called Zircaloy, nevertheless it has little influence on the neutron economy, therefore we will approximate it as pure zirconium with its natural abundance of isotopes.\n",
    "\n",
    "So what do we need in order to define an openMC input?\n",
    "\n",
    "1. Materials: which materials are included in our geometry (nuclide content, temperature, density)?\n",
    "2. Geometry: how does the geometry look like? \n",
    "3. Tally: what are the quantities of interest? For example flux, or fission rate?\n",
    "4. Settings: how many neutrons we would like to include in the calculation?\n",
    "\n",
    "For each of these steps we will use the python API to export an xml file, which the code will use once we execute it. Note however that one could directly write xml files without using python, and run the code outside of Jupyter. For larger problems this is sometimes better. However we will want to analyse the output results in python, and sometimes we will script the input, so for us it is handy to use the python API.\n",
    "\n",
    "Let's get started!\n",
    "\n",
    "### Import\n",
    "\n",
    "We will need first to import openmc, and of course anything else we might need."
   ]
  },
  {
   "cell_type": "code",
   "execution_count": 2,
   "metadata": {},
   "outputs": [],
   "source": [
    "import openmc\n",
    "import numpy as np\n",
    "import matplotlib.pyplot as plt\n",
    "import os"
   ]
  },
  {
   "cell_type": "markdown",
   "metadata": {},
   "source": [
    "### Materials\n",
    "\n",
    "Do you remember the example `Material()` class we developed before? That is pretty similar to the `Material()` class of openMC. We create an instance of `Material()`, with a numeric id of the material, and then we can add nuclides, and set the density. We can also set the temperature (which can be 294 K, 600 K, 900 K, 1200 K, 2500 K, the temperatures at which the available cross sections are evaluated). There are other options as well (for example one can directly set the enrichment), what you can find in the documentation.\n",
    "\n",
    "If the nuclide inventory is not relevant for a material, we can add elements, in which case openMC will assume the natural abundance of isotopes.\n",
    "\n",
    "Notice that for water we will need to link to the $S(\\alpha,\\beta)$ laws, since we need to take into account the molecular bounds for scattering on hydrogen. \n",
    "\n",
    "Finally, we create an instance of `Materials()` (note, it is plural now!), and link the materials of the problem to this object. Then with the `export_to_xml()` method we export the information into an xml file. "
   ]
  },
  {
   "cell_type": "code",
   "execution_count": 3,
   "metadata": {},
   "outputs": [],
   "source": [
    "uo2 = openmc.Material(1, \"uo2\",temperature=1200)\n",
    "# Add nuclides to uo2\n",
    "uo2.add_nuclide('U235', 0.04)\n",
    "uo2.add_nuclide('U238', 0.96)\n",
    "uo2.add_nuclide('O16', 2.0)\n",
    "uo2.set_density('g/cm3', 10.5)\n",
    "\n",
    "\n",
    "#cladding\n",
    "zirconium = openmc.Material(2, \"zirconium\",temperature=900)\n",
    "zirconium.add_element('Zr', 1.0)\n",
    "zirconium.set_density('g/cm3', 6.6)\n",
    "\n",
    "#coolant\n",
    "water = openmc.Material(3, \"h2o\")\n",
    "water.add_nuclide('H1', 2.0)\n",
    "water.add_nuclide('O16', 1.0)\n",
    "water.set_density('g/cm3', 0.75)\n",
    "\n",
    "water.add_s_alpha_beta('c_H_in_H2O')\n",
    "\n",
    "#creating Materials() and exporting to xml\n",
    "mats = openmc.Materials([uo2, zirconium, water])\n",
    "mats.export_to_xml()"
   ]
  },
  {
   "cell_type": "markdown",
   "metadata": {},
   "source": [
    "We can print the content of the created xml file, with the linux command `cat`. (The `!` sign let's the python interpreter know that this is a command of the operating system.\n",
    "\n",
    "You can see how all the information was structured in an xml (which is probably familiar from the previous datalab).  "
   ]
  },
  {
   "cell_type": "code",
   "execution_count": 4,
   "metadata": {},
   "outputs": [
    {
     "name": "stdout",
     "output_type": "stream",
     "text": [
      "<?xml version='1.0' encoding='utf-8'?>\n",
      "<materials>\n",
      "  <material depletable=\"true\" id=\"1\" name=\"uo2\" temperature=\"1200\">\n",
      "    <density units=\"g/cm3\" value=\"10.5\"/>\n",
      "    <nuclide ao=\"0.04\" name=\"U235\"/>\n",
      "    <nuclide ao=\"0.96\" name=\"U238\"/>\n",
      "    <nuclide ao=\"2.0\" name=\"O16\"/>\n",
      "  </material>\n",
      "  <material id=\"2\" name=\"zirconium\" temperature=\"900\">\n",
      "    <density units=\"g/cm3\" value=\"6.6\"/>\n",
      "    <nuclide ao=\"0.5145\" name=\"Zr90\"/>\n",
      "    <nuclide ao=\"0.1122\" name=\"Zr91\"/>\n",
      "    <nuclide ao=\"0.1715\" name=\"Zr92\"/>\n",
      "    <nuclide ao=\"0.1738\" name=\"Zr94\"/>\n",
      "    <nuclide ao=\"0.028\" name=\"Zr96\"/>\n",
      "  </material>\n",
      "  <material id=\"3\" name=\"h2o\">\n",
      "    <density units=\"g/cm3\" value=\"0.75\"/>\n",
      "    <nuclide ao=\"2.0\" name=\"H1\"/>\n",
      "    <nuclide ao=\"1.0\" name=\"O16\"/>\n",
      "    <sab name=\"c_H_in_H2O\"/>\n",
      "  </material>\n",
      "</materials>\n"
     ]
    }
   ],
   "source": [
    "!cat materials.xml"
   ]
  },
  {
   "cell_type": "markdown",
   "metadata": {},
   "source": [
    "### Geometry\n",
    "\n",
    "Defining the geometry is only marginally more complicated. We will need to define surfaces (eg. `ZCylinder()`, `XPlane()`, and `YPlane()`), and regions bounded by the surfaces. Then we link the regions and the filling material to `Cell()` objects, which all have a numeric ID.  \n",
    "\n",
    "Our geometry is infinite in the axial dimension. First we define three cylinders (the bounding surfaces of the fuel, and the cladding). Then we use constuctive solid geometry rules to define the regions between the surfaces, and create the fuel pin. Finally we will define the water region around the fuel.\n",
    "\n",
    "We will then need to define a `Universe()` (the usefulness of this is not apparent in our simple exercise, but when defining reactor cores with repetitive patterns of various types of fuel assemblies, then \"universes\" are the way to handle this in most neutron transport code. You do not need to worry about this in this course). And finally we create a `Geometry()`, and link the universe. We will then export the information into an xml file. \n",
    "\n",
    "We further commented the lines to explain them"
   ]
  },
  {
   "cell_type": "code",
   "execution_count": 5,
   "metadata": {},
   "outputs": [],
   "source": [
    "fuel_or = openmc.ZCylinder(r=0.41) #fuel cylinder with outer radius\n",
    "clad_ir = openmc.ZCylinder(r=0.42) #clad inner cylinder with inner radius\n",
    "clad_or = openmc.ZCylinder(r=0.45) #clad outer cylinder with outer radius\n",
    "\n",
    "\n",
    "fuel_region = -fuel_or                #inside the fuel cylinder\n",
    "gap_region = +fuel_or & -clad_ir      #outside of fuel cylinder and inside of clad inner cylinder\n",
    "clad_region = +clad_ir & -clad_or     #outside of clad inner cylinder and inside of clad outer cylinder\n",
    "\n",
    "fuel = openmc.Cell(1, 'fuel')\n",
    "fuel.fill = uo2\n",
    "fuel.region = fuel_region\n",
    "\n",
    "#notice that for the gap between the fuel and the clad we do not need to link a material\n",
    "# we consider that there is void there \n",
    "# (considering the low density of the filling gas this is a fair approximation)\n",
    "gap = openmc.Cell(2, 'air gap')\n",
    "gap.region = gap_region\n",
    "\n",
    "clad = openmc.Cell(3, 'clad')\n",
    "clad.fill = zirconium\n",
    "clad.region = clad_region\n",
    "\n",
    "\n",
    "\n",
    "pitch = 1.26\n",
    "#we define the x and y planes with boundary condition\n",
    "left = openmc.XPlane(x0=-pitch/2, boundary_type='reflective')\n",
    "right = openmc.XPlane(x0=pitch/2, boundary_type='reflective')\n",
    "bottom = openmc.YPlane(y0=-pitch/2, boundary_type='reflective')\n",
    "top = openmc.YPlane(y0=pitch/2, boundary_type='reflective')\n",
    "\n",
    "#outside of left and inside of right, outside of bottom, and inside of top and outside of clad outer cylinder\n",
    "water_region = +left & -right & +bottom & -top & +clad_or\n",
    "\n",
    "moderator = openmc.Cell(4, 'moderator')\n",
    "moderator.fill = water\n",
    "moderator.region = water_region\n",
    "\n",
    "root = openmc.Universe(cells=[fuel, gap, clad, moderator])\n",
    "\n",
    "geom = openmc.Geometry()\n",
    "geom.root_universe = root\n",
    "geom.export_to_xml()"
   ]
  },
  {
   "cell_type": "markdown",
   "metadata": {},
   "source": [
    "We can again inspect the xml file."
   ]
  },
  {
   "cell_type": "code",
   "execution_count": 6,
   "metadata": {},
   "outputs": [
    {
     "name": "stdout",
     "output_type": "stream",
     "text": [
      "<?xml version='1.0' encoding='UTF-8'?>\n",
      "<geometry>\n",
      "  <cell id=\"1\" material=\"1\" name=\"fuel\" region=\"-1\" universe=\"1\"/>\n",
      "  <cell id=\"2\" material=\"void\" name=\"air gap\" region=\"1 -2\" universe=\"1\"/>\n",
      "  <cell id=\"3\" material=\"2\" name=\"clad\" region=\"2 -3\" universe=\"1\"/>\n",
      "  <cell id=\"4\" material=\"3\" name=\"moderator\" region=\"4 -5 6 -7 3\" universe=\"1\"/>\n",
      "  <surface coeffs=\"0.0 0.0 0.41\" id=\"1\" type=\"z-cylinder\"/>\n",
      "  <surface coeffs=\"0.0 0.0 0.42\" id=\"2\" type=\"z-cylinder\"/>\n",
      "  <surface coeffs=\"0.0 0.0 0.45\" id=\"3\" type=\"z-cylinder\"/>\n",
      "  <surface boundary=\"reflective\" coeffs=\"-0.63\" id=\"4\" type=\"x-plane\"/>\n",
      "  <surface boundary=\"reflective\" coeffs=\"0.63\" id=\"5\" type=\"x-plane\"/>\n",
      "  <surface boundary=\"reflective\" coeffs=\"-0.63\" id=\"6\" type=\"y-plane\"/>\n",
      "  <surface boundary=\"reflective\" coeffs=\"0.63\" id=\"7\" type=\"y-plane\"/>\n",
      "</geometry>\n"
     ]
    }
   ],
   "source": [
    "!cat geometry.xml"
   ]
  },
  {
   "cell_type": "markdown",
   "metadata": {},
   "source": [
    "### Tally\n",
    "\n",
    "We can describe the physical quantities of interest with tallies. If no tally is defined the code will only calculate the k-effective.\n",
    "\n",
    "As we can see in the openMC documentation (in the user's guide) a tally is a quantity defined as\n",
    "\n",
    "\\begin{equation}\n",
    "X = \\underbrace{\\int d\\mathbf{r} \\int d\\mathbf{\\Omega} \\int\n",
    "dE}_{\\text{filters}} \\underbrace{f(\\mathbf{r}, \\mathbf{\\Omega},\n",
    "E)}_{\\text{scores}} \\psi (\\mathbf{r}, \\mathbf{\\Omega}, E)\n",
    "\\end{equation}\n",
    "\n",
    "For example if function $f()$ would be unity, we would score the flux in a certain part of the phase space. If function $f()$ is a macroscopic cross section, we would score reaction rates.\n",
    "\n",
    "Therefore we have to specify two things for a tally, which is created with a `Tally()` object:\n",
    "\n",
    "1. *filters*: which part of the phase space we would like score at (for example only a certain part of the geometry is of interest, or certain energy bins)?\n",
    "2. *scores*: what is the physical quantity of interest (for example flux, fission rate etc)\n",
    "\n",
    "You can find a detailed description of the available scores and filters in the documentation.\n",
    "\n",
    "Once the tallies are defined, we will need to link them into a `Tallies()` object, and export an xml file.\n",
    "\n",
    "In the following code block we define three tallies.\n",
    "\n",
    "1. tally for the neutron spectrum and the fission rate vs energy in the fuel\n",
    "2. tally for the neutron spectrum in the moderator\n",
    "3. a Mesh tally along the x-axis to tally the spatial dependence of the flux with three energy groups (thermal: 0-1eV, epithermal: 1eV-100keV, fast: 100keV-20MeV). Note, that we have to define 2 dimensions even if only 1 dimension is discretized spatially.\n",
    "\n",
    "The reason why we tally the fission rate as well in the 1st tally is to see how openMC will store the results. "
   ]
  },
  {
   "cell_type": "code",
   "execution_count": 7,
   "metadata": {},
   "outputs": [],
   "source": [
    "# Tally 1: energy spectrum in fuel\n",
    "cell_filter1 = openmc.CellFilter(fuel)\n",
    "energybins=np.logspace(-2,7,1001) #1000 bins between 1e-2 eV and 1e7 eV\n",
    "energy_filter = openmc.EnergyFilter(energybins)\n",
    "\n",
    "t1 = openmc.Tally(1)\n",
    "t1.filters = [cell_filter1,energy_filter]\n",
    "t1.scores = ['flux','fission']\n",
    "\n",
    "# Tally 2: energy spectrum in moderator\n",
    "# we can use the same energy_filter as before\n",
    "cell_filter2 = openmc.CellFilter(moderator)\n",
    "\n",
    "t2 = openmc.Tally(2)\n",
    "t2.filters = [cell_filter2,energy_filter]\n",
    "t2.scores = ['flux']\n",
    "\n",
    "# Tally 3: mesh tally in dimension x in three energy groups\n",
    "energy_filter2 = openmc.EnergyFilter([0., 1, 100e3, 20.0e6])\n",
    "myMesh=openmc.RegularMesh(name='xmesh')\n",
    "myMesh.dimension=[100,1] #number of spatial bins along x axis and y axis\n",
    "myMesh.lower_left=[-pitch/2,-pitch/2]\n",
    "myMesh.upper_right=[pitch/2,pitch/2]\n",
    "mesh_filter = openmc.MeshFilter(myMesh)\n",
    "\n",
    "t3 = openmc.Tally(3)\n",
    "t3.filters = [mesh_filter,energy_filter2]\n",
    "t3.scores = ['flux']\n",
    "\n",
    "\n",
    "\n",
    "tallies = openmc.Tallies([t1,t2,t3])\n",
    "tallies.export_to_xml()"
   ]
  },
  {
   "cell_type": "markdown",
   "metadata": {},
   "source": [
    "We can inspect the xml file."
   ]
  },
  {
   "cell_type": "code",
   "execution_count": 8,
   "metadata": {},
   "outputs": [
    {
     "name": "stdout",
     "output_type": "stream",
     "text": [
      "<?xml version='1.0' encoding='UTF-8'?>\n",
      "<tallies>\n",
      "  <!--xmesh-->\n",
      "  <mesh id=\"1\">\n",
      "    <dimension>100 1</dimension>\n",
      "    <lower_left>-0.63 -0.63</lower_left>\n",
      "    <upper_right>0.63 0.63</upper_right>\n",
      "  </mesh>\n",
      "  <filter id=\"1\" type=\"cell\">\n",
      "    <bins>1</bins>\n",
      "  </filter>\n",
      "  <filter id=\"2\" type=\"energy\">\n",
      "    <bins>0.01 0.010209394837076797 0.010423174293933041 0.010641430182243158 0.010864256236170655 0.01109174815262401 0.011324003632355572 0.011561122421920988 0.011803206356517298 0.012050359403717974 0.012302687708123818 0.012560299636948748 0.012823305826560218 0.01309181922999407 0.013365955165464419 0.013645831365889245 0.013931568029453029 0.014223287871228198 0.01452111617587742 0.014825180851459537 0.01513561248436208 0.01545254439538414 0.015776112696993486 0.016106456351782705 0.016443717232149314 0.016788040181225608 0.017139573075084253 0.017498466886246566 0.01786487574852051 0.018238957023196375 0.018620871366628676 0.019010782799232996 0.01940885877592778 0.01981527025805098 0.020230191786782717 0.02065380155810529 0.021086281499332886 0.021527817347243728 0.021978598727848252 0.022438819237827663 0.022908676527677724 0.02338837238659355 0.02387811282913177 0.024378108183687526 0.024888573182823902 0.02540972705549305 0.025941793621188137 0.02648500138606701 0.027039583641088435 0.027605778562203448 0.028183829312644536 0.028773984147356695 0.029376496519615308 0.0299916251898765 0.030619634336906773 0.03126079367123954 0.031915378551007616 0.03258367010020087 0.03326595532940044 0.03396252725904084 0.034673685045253165 0.03539973410834346 0.03614098626396132 0.03689775985701503 0.03767037989839089 0.03845917820453535 0.03926449353995997 0.04008667176273028 0.040926065973001094 0.041783036664662175 0.04265795188015926 0.043551187368556836 0.04446312674691086 0.04539416166502032 0.046344691973628796 0.04731512589614803 0.04830588020397726 0.0493173803954936 0.05035006087879047 0.05140436515824259 0.05248074602497726 0.053579665751334174 0.05470159628939716 0.05584701947368306 0.05701642722807472 0.058210321777087126 0.05942921586155727 0.060673632958850525 0.06194410750767812 0.06324118513762193 0.06456542290346556 0.06591738952443213 0.06729766562843176 0.06870684400142321 0.07014552984199714 0.0716143410212902 0.07311390834834172 0.07464487584100661 0.07620790100254118 0.07780365510398041 0.07943282347242814 0.08109610578538404 0.08279421637123341 0.084527884516029 0.08629785477669702 0.08810488730080138 0.0899497581530035 0.0918332596483581 0.09375620069258803 0.09571940712948442 0.09772372209558101 0.0997700063822553 0.1018591388054117 0.1039920165829059 0.10616955571987247 0.10839269140212034 0.11066237839776659 0.11297959146727976 0.11534532578210918 0.11776059735208072 0.12022644346174124 0.12274392311584072 0.12531411749414156 0.12793813041575247 0.13061708881318412 0.1333521432163324 0.13614446824659496 0.13899526312133534 0.1419057521689092 0.1448771853544761 0.1479108388168207 0.1510080154164148 0.15417004529495593 0.1573982864466219 0.1606941253012877 0.16405897731995386 0.16749428760264373 0.17100153150902872 0.17458221529205037 0.1782378767448089 0.18197008586099836 0.1857804455091698 0.18967059212111453 0.19364219639466068 0.197696964011186 0.20183663636815607 0.20606299132699996 0.21037784397664752 0.21478304741305332 0.21928049353504486 0.2238721138568339 0.228559880337543 0.2333458062281002 0.23823194693586902 0.24322040090738148 0.2483133105295569 0.2535128630497907 0.258821291515309 0.2642408757321946 0.26977394324449194 0.2754228703338166 0.28119008303989396 0.28707805820246907 0.293089324525032 0.2992264636608189 0.30549211132155124 0.3118889584093937 0.31841975217261237 0.32508729738543424 0.3318944575526103 0.3388441561392024 0.3459393778261219 0.3531831697919568 0.36057864302164233 0.3681289736425313 0.37583740428844414 0.38370724549227864 0.3917418771077831 0.39994474976109734 0.4083193863326921 0.4168693834703353 0.42559841313374286 0.4345102241715714 0.4436086439314323 0.4528975799036207 0.4623810213992601 0.47206304126359044 0.48194779762512713 0.49203953568145087 0.5023425895223869 0.5128613839913648 0.5236004365857501 0.5345643593969713 0.5457578610912708 0.5571857489319295 0.5688529308438414 0.5807644175213118 0.5929253245799997 0.6053408747539133 0.6180164001384157 0.630957344480193 0.6441692655151772 0.6576578373554203 0.6714288529259522 0.6854882264526614 0.6998419960022731 0.7144963260755132 0.7294575102545683 0.7447319739059889 0.7603262769401815 0.7762471166286916 0.7925013304804714 0.8090958991783821 0.8260379495771784 0.8433347577642752 0.8609937521846003 0.8790225168308843 0.8974287945007482 0.9162204901219992 0.9354056741475516 0.9549925860214354 0.9749896377173867 0.9954054173515264 1.0162486928706949 1.0375284158180127 1.0592537251772887 1.0814339512979376 1.1040786199020725 1.1271974561755105 1.1508003889444356 1.174897554939529 1.1994993031493781 1.2246161992650477 1.2502590302177201 1.2764388088113434 1.3031667784522987 1.3304544179780902 1.3583134465871542 1.3867558288718882 1.415793779957081 1.4454397707459266 1.4757065332758947 1.5066070661867417 1.5381546403030342 1.5703628043335516 1.6032453906900401 1.6368165214278085 1.6710906143107072 1.7060823890031227 1.7418068733916128 1.7782794100389228 1.815515662773135 1.8535316234148105 1.892343618644974 1.9319683170169242 1.9724227361148534 2.0137242498623875 2.0558905959841405 2.0989398836235225 2.1428906011200586 2.1877616239495516 2.2335722228305306 2.2803420720004164 2.328091257665008 2.376840286624876 2.4266100950824145 2.4774220576332837 2.529297996446145 2.582260190634596 2.636331385825379 2.691534803926914 2.7478941531023944 2.805433637951713 2.8641779699065797 2.924152377843334 2.9853826189179573 3.047894989627983 3.111716337106017 3.176874070649769 3.24339617349349 3.311311214825911 3.3806483620598153 3.451437393358561 3.523708710424869 3.5974933515574197 3.672823004980846 3.749730022454834 3.828247433168224 3.908408957924017 3.9902490236214203 4.073802778041126 4.159106104940219 4.246195639463125 4.335108783875289 4.4258837236262645 4.518559443749222 4.613175745603791 4.709773263969525 4.808393484497285 4.909078761526029 5.011872336272719 5.116818355403073 5.223961889991197 5.333348954876208 5.445026528424209 5.559042572704032 5.675446054085471 5.794286964268809 5.9156163417547365 6.039486293763794 6.165950018614816 6.295061828571975 6.426877173170194 6.5614526630290495 6.698846094165258 6.839116472814292 6.9823240407717115 7.128530301265191 7.277798045368235 7.430191378967014 7.585775750291836 7.744617978025183 7.906786279998245 8.072350302488374 8.241381150130021 8.413951416451948 8.590135215053952 8.77000821143634 8.953647655495937 9.141132414702499 9.332543007969905 9.52796164023651 9.727472237769652 9.931160484209336 10.13911385736679 10.351421666793431 10.568175092136574 10.789467222298287 11.015393095414145 11.246049739669257 11.481536214968818 11.721953655481304 11.967405313072431 12.21799660164871 12.47383514242942 12.735030810166617 13.001695780332899 13.273944577297389 13.551894123510351 13.835663789717795 14.12537544622754 14.421153515248681 14.723125024327178 15.031419660900209 15.346169827992941 15.667510701081484 15.995580286146678 16.33051947894333 16.672472125510627 17.0215850839495 17.378008287493746 17.741894808901645 18.113400926196007 18.492686189780777 18.879913490962927 19.275249131909348 19.67886289706843 20.090928126087277 20.511621788255646 20.941124558508914 21.379620895022303 21.827299118430012 22.28435149270303 22.750974307720693 23.22736796357105 23.713737056616527 24.210290467361776 24.717241450161293 25.23480772480573 25.763211570025728 26.302679918953814 26.853444456585063 27.415741719278806 27.9898131963436 28.575905433749437 29.17427014001166 29.78516429429188 30.40885025676277 31.045595881283525 31.6956746304349 32.35936569296281 33.03695410368145 33.72873086588685 34.43499307633384 35.1560440528298 35.8921934645005 36.64375746478329 37.41105882720529 38.194427084004644 38.99419866765432 39.81071705534969 40.644332916521236 41.495404263436285 42.36429660495409 43.251383103500835 44.157044735331205 45.08167045414601 46.02565735813558 46.98941086052151 47.97334486366887 48.97788193684456 50.00345349769783 51.0504999975406 52.119471110508 53.21082592667937 54.3250331492433 55.462571295791044 56.62392890382529 57.80960474057175 59.02010801718442 60.255958607435744 61.51768727098677 62.80583588133173 64.12095765851609 65.46361740672747 66.83439175686142 68.2338694141669 69.6626514110768 71.12135136533288 72.61059574351543 74.13102413009169 75.68328950209737 77.26805850957021 78.8860117618554 80.53784411990661 82.22426499470704 83.94599865193965 85.70378452303693 87.49837752274355 89.33054837332945 91.20108393559087 93.110787546783 95.0604793656281 97.05099672454888 99.08319448927665 101.15794542598982 103.2761405761396 105.43868963912581 107.64652136298349 109.90058394325197 112.2018454301963 114.55129414455337 116.949939101987 119.3988104464273 121.89895989248649 124.45146117713844 127.05741052085419 129.71792709839545 132.43415351946643 135.2072563194275 138.03842646028838 140.92887984218748 143.87985782558437 146.89262776438662 149.9684835502371 153.10874616820288 156.3147642640954 159.58791472367304 162.92960326397215 166.34126503701697 169.82436524617427 173.38039977541374 177.01089583174183 180.71741260109258 184.50154191794738 188.36490894897983 192.30917289101575 196.33602768360433 200.44720273651592 204.6444636724674 208.92961308540364 213.30449131465753 217.7709772353159 222.33098906514007 226.98648518838212 231.7394649968475 236.59196974857565 241.54608344449403 246.6039337234336 251.76769277588545 257.03957827688595 262.42185433844395 267.91683248190316 273.5268726306708 279.25438412373364 285.10182675039096 291.07171180666023 297.1666031738025 303.38911841942655 309.7419299216578 316.22776601683796 322.8494121712631 329.6097121774576 336.5115693754901 343.5579478998743 350.75187395256796 358.0964371026355 365.59479161312464 373.2501577957206 381.06582339377263 389.04514499428046 397.1915494694397 405.5085354483835 413.9996748197304 422.6686142656024 431.519076827765 440.5548635065525 449.7798548932875 459.19801283686854 468.81338214526454 478.630092322638 488.6523593428336 498.88448746001166 509.3308710571952 519.9959965335152 530.8844442309879 542.0008904016238 553.350109215736 564.9369748123022 576.7664633922498 588.8436553555883 601.1737374832779 613.7620051647933 626.613864672335 639.7348354826482 653.1305526474716 666.8067692136219 680.7693586937404 695.0243175887962 709.5777679633887 724.4359600749891 739.6052750582375 755.0922276654326 770.9034690644293 787.0457896950985 803.526122185616 820.3515443298177 837.5292821268827 855.0667128846823 872.9713683881113 891.2509381337441 909.9132726322508 928.9663867799363 948.4184633008958 968.2778562612486 988.5530946569371 1009.2528860766834 1030.386120441616 1051.9618738232214 1073.989412341244 1096.4781961431852 1119.4378834671502 1142.8783347897713 1166.8096170609606 1191.2420080273737 1216.1860006463678 1241.6523075924094 1267.6518658578448 1294.1958414499836 1321.2956341865738 1348.9628825916532 1377.2094688939444 1406.047524129913 1435.489433353656 1465.5478409559098 1496.235656094433 1527.5660582380701 1559.5525028269521 1592.20872705117 1625.5487557504816 1659.5869074375596 1694.3378004473252 1729.8163592150997 1766.037820686164 1803.0177408595662 1840.7720014689544 1879.3168168032685 1918.6687406702872 1958.844673505989 1999.8618696327408 2041.7379446695275 2084.4908830972886 2128.139045982709 2172.7011788637433 2218.1964198002147 2264.6443075930574 2312.064790175594 2360.478233180573 2409.905428686593 2460.3676041476274 2511.886431509577 2564.484036517716 2618.183008218981 2673.006408663309 2728.9777828080405 2786.1211686297665 2844.461107447914 2904.022654464445 2964.831389524339 3026.913428101305 3090.2954325135856 3155.0046233746243 3221.0687912834346 3288.516308759826 3357.3761424295453 3427.6778654644977 3499.4516702835695 3572.7283815192886 3647.5394692560726 3723.9170625456827 3801.893963205605 3881.5036599064783 3962.7803425543934 4045.75891697442 4130.475019901611 4216.965034285822 4305.266104917101 4395.416154378243 4487.453899331314 4581.41886714533 4677.351412871981 4775.292736576902 4875.2849010338605 4977.37084978935 5081.5944256056 5188.000389289609 5296.63443891657 5407.543229455804 5520.774392807573 5636.376558259537 5754.399373371566 5874.893525297757 5997.910762555089 6123.503917247734 6251.726927756849 6382.6348619054825 6516.283940608414 6652.731562017406 6792.036326171843 6934.25806016568 7079.457843841374 7227.698036021702 7379.042301291 7533.55563733717 7691.3044028660825 7852.35634610071 8016.78063387679 8184.647881347886 8356.030182312474 8531.001140175878 8709.635899560797 8892.011178579482 9078.205301781843 9268.298233793485 9462.37161365793 9660.508789898122 9862.794856312099 10069.316688518024 10280.162981264724 10495.42428652322 10715.193052376047 10939.563662720931 11168.63247780559 11402.497875611674 11641.260294104908 11885.022274370165 12133.888504649762 12387.965865303691 12647.363474711496 12912.192736135336 13182.567385564047 13458.60354055947 13740.41975012515 14028.13704561956 14321.878992735425 14621.771744567153 14927.944095789944 15240.527537972906 15559.656316050718 15885.467485977775 16218.100973589299 16557.69963469526 16904.409316432633 17258.378919902003 17619.760464116272 17988.709151287872 18365.383433483436 18749.945080674173 19142.55925021082 19543.394557753923 19952.62314968879 20370.42077705715 20796.966871036937 21232.444620002192 21677.04104819692 22130.947096056363 22594.357702209734 23067.471887200667 23550.49283896009 24043.628000069297 24547.089156850285 25061.092530321086 25585.858869056425 26121.61354399205 26668.586645214753 27227.0130807791 27797.132677592883 28379.190284415523 28973.435877013213 29580.124665515403 30199.51720402013 30831.879502493535 31477.48314101311 32136.60538640315 32809.52931131184 33496.54391578273 34197.94425137087 34914.031547858554 35645.11334262439 36391.503612720706 37153.522909717205 37931.49849736817 38725.764492161645 39536.66200681275 40364.539296760486 41209.75190973296 42072.662838444376 42953.64267648864 43853.06977749852 44771.33041763623 45708.81896148742 46665.93803142882 47643.09868054156 48640.72056914609 49659.23214503358 50699.07082747034 51760.68319505671 52844.52517751802 53951.062251512674 55080.7696405403 56234.13251903479 57411.646220732684 58613.81645140285 59841.159506031865 61094.202490557145 62373.483548241915 63679.55209079149 65012.969034309026 66374.30704019076 67764.15076106743 69183.09709189362 70631.75542629609 72110.7479182899 73620.70974947346 75162.28940182045 76736.14893618185 78342.96427662105 79983.42550070277 81658.23713585906 83368.11846196331 85113.80382023759 86896.04292863002 88715.60120379599 90573.26008981997 92469.81739382212 94406.08762859226 96382.90236239685 98401.11057611325 100461.57902783946 102565.19262514058 104712.85480508985 106905.48792226556 109144.0336448755 111429.45335917293 113762.72858234287 116144.86138403414 118576.87481671596 121059.81335504804 123594.74334445094 126182.75345906681 128824.95516931322 131522.48321922377 134276.49611378615 137088.17661648523 139958.7322572615 142889.39585111008 145881.42602753473 148936.10777109122 152054.7529732494 155238.70099580818 158489.3192461111 161808.00376430646 165196.17982290115 168655.3025388739 172186.8574986006 175792.36139586894 179473.36268325246 183231.44223712073 187068.21403657977 190985.32585662368 194984.45997580414 199067.33389871844 203235.7010936221 207491.35174549065 211836.11352485 216271.85237270157 220800.4733018897 225423.92121524282 230144.1817408504 234963.28208483048 239883.29190194848 244906.3241844742 250034.53616964296 255270.13026612418 260615.35499988924 266072.50597988087 271643.9268839078 277332.0104651838 283139.1995799373 289067.98823654716 295120.9226666384 301300.6024186116 307609.6814740705 314050.869387621 320626.93245054607 327340.69487883797 334195.04002611357 341192.9116219281 348337.3150360116 355631.31856898475 363078.05477010104 370680.7217825752 378442.5847170928 386366.97705406894 394457.30207527766 402717.0343254587 411149.7211045213 419758.9839910069 428548.5203974392 437522.1051582512 446683.59215096256 456036.915951296 465586.09352295817 475335.2259428049 485288.50016212 495450.19080478954 505824.6620031138 516416.36927207 527229.8614228222 538269.782516287 549540.8738576237 561047.97603247 572796.030985828 584790.0841444801 597035.2865838367 609536.8972401681 622300.285169159 635330.9318517423 648634.4335482374 662216.5037017615 676082.9753919805 690239.8038402412 704693.0689671453 719448.9780036984 734513.8681571144 749894.2093324543 765596.6069112554 781627.8045883293 797994.6872679752 814704.2840208388 831763.7711026692 849180.4750363126 866961.8757582161 885115.6098308337 903649.4737223005 922571.4271547609 941889.5965228399 961612.2783836639 981747.9430199824 1002305.2380778984 1023292.9922807537 1044720.2192208003 1066596.1212302546 1088930.093333431 1111731.7272815898 1135010.8156723143 1158777.3561551261 1183041.555725161 1207813.8351067773 1233104.833228907 1258925.411794166 1285286.6599436153 1312199.8990191987 1339676.6874259317 1367728.8255958466 1396368.3610559362 1425607.593602188 1455459.0805819668 1485935.6422870029 1517050.3674593337 1548816.6189124796 1581248.0392703826 1614358.556826487 1648162.3915255035 1682674.0610704639 1717908.387157586 1753880.5018417602 1790605.8540352948 1828100.216142737 1866379.6908346657 1905460.7179632443 1945360.0816226613 1986094.9173573717 2027682.7195212755 2070141.3487910372 2113489.0398366433 2157744.4091526647 2202926.463053456 2249054.6058357735 2296148.648112356 2344228.815319918 2393315.756405385 2443430.5526939714 2494594.726942956 2546830.252585034 2600159.563165267 2654605.5619755364 2710191.6318908418 2766941.645411513 2824879.974915699 2884031.5031266 2944421.633798757 3006076.302628229 3069021.988391158 3133285.724315576 3198895.109691391 3265878.321723353 3334264.127632347 3404081.8970100093 3475361.614432047 3548133.892335746 3622429.9841669803 3698281.7978026588 3775721.90925416 3854783.576657705 3935500.754557764 4017908.108489392 4102041.029866064 4187935.6511791823 4275628.861515865 4365158.322401647 4456562.483975024 4549880.60150048 4645152.752227493 4742419.852602448 4841723.675840979 4943106.869868344 5046612.975635276 5152286.445817562 5260172.663907063 5370317.963702511 5482769.649208524 5597576.014951093 5714786.366718666 5834451.042737448 5956621.435290085 6081350.012787164 6208690.342300625 6338697.112569263 6471426.157485831 6606934.480075938 6745280.2769792015 6886522.963442748 7030723.198838327 7177942.912713615 7328245.331389044 7481695.005111522 7638357.835776892 7798301.105232578 7961593.504173184 8128305.161640995 8298507.6751442 8472274.141405946 8649679.18775692 8830799.004185623 9015711.37605957 9204495.717531685 9397233.105646357 9594006.315159317 9794899.85408698 10000000.0</bins>\n",
      "  </filter>\n",
      "  <filter id=\"3\" type=\"cell\">\n",
      "    <bins>4</bins>\n",
      "  </filter>\n",
      "  <filter id=\"5\" type=\"mesh\">\n",
      "    <bins>1</bins>\n",
      "  </filter>\n",
      "  <filter id=\"4\" type=\"energy\">\n",
      "    <bins>0.0 1.0 100000.0 20000000.0</bins>\n",
      "  </filter>\n",
      "  <tally id=\"1\">\n",
      "    <filters>1 2</filters>\n",
      "    <scores>flux fission</scores>\n",
      "  </tally>\n",
      "  <tally id=\"2\">\n",
      "    <filters>3 2</filters>\n",
      "    <scores>flux</scores>\n",
      "  </tally>\n",
      "  <tally id=\"3\">\n",
      "    <filters>5 4</filters>\n",
      "    <scores>flux</scores>\n",
      "  </tally>\n",
      "</tallies>\n"
     ]
    }
   ],
   "source": [
    "!cat tallies.xml"
   ]
  },
  {
   "cell_type": "markdown",
   "metadata": {},
   "source": [
    "### Settings\n",
    "\n",
    "There are some parameters we will need to set: we have to include the original source location and specify the number of batches and particles per batches for the criticality mode calculation. We also have to specify the number of \"inactive\" batches (these cycles are used to spread the fission source over the geometry, but the scores are still biased due to the original source not sampling all the possible fission sites properly). \n",
    "\n",
    "Since we have no better guess for the moment, we will place the source first in the center of the geometry. The number of batches and particles are set so that the results are reasonably accurate. If you wanted to have more accurate results you could increase these numbers, if you wanted to have shorter calculations, you could decrease these numbers.\n",
    "\n",
    "Again, the instance of the `Setting()` object is exported to xml."
   ]
  },
  {
   "cell_type": "code",
   "execution_count": 9,
   "metadata": {},
   "outputs": [
    {
     "name": "stderr",
     "output_type": "stream",
     "text": [
      "/Users/mikkelsewerin/Library/Caches/pypoetry/virtualenvs/reaktorfysik-G-7A3SLv-py3.12/lib/python3.12/site-packages/openmc/source.py:539: FutureWarning: This class is deprecated in favor of 'IndependentSource'\n",
      "  warnings.warn(\"This class is deprecated in favor of 'IndependentSource'\", FutureWarning)\n"
     ]
    }
   ],
   "source": [
    "point = openmc.stats.Point((0, 0, 0))\n",
    "src = openmc.Source(space=point)  # Should be IndependentSource ? \n",
    "\n",
    "settings = openmc.Settings()\n",
    "settings.source = src\n",
    "settings.batches = 100\n",
    "settings.inactive = 10\n",
    "settings.particles = 5000\n",
    "settings.export_to_xml()"
   ]
  },
  {
   "cell_type": "code",
   "execution_count": 10,
   "metadata": {},
   "outputs": [
    {
     "name": "stdout",
     "output_type": "stream",
     "text": [
      "<?xml version='1.0' encoding='UTF-8'?>\n",
      "<settings>\n",
      "  <run_mode>eigenvalue</run_mode>\n",
      "  <particles>5000</particles>\n",
      "  <batches>100</batches>\n",
      "  <inactive>10</inactive>\n",
      "  <source particle=\"neutron\" strength=\"1.0\" type=\"independent\">\n",
      "    <space type=\"point\">\n",
      "      <parameters>0 0 0</parameters>\n",
      "    </space>\n",
      "  </source>\n",
      "</settings>\n"
     ]
    }
   ],
   "source": [
    "!cat settings.xml"
   ]
  },
  {
   "cell_type": "markdown",
   "metadata": {},
   "source": [
    "## Plotting the geometry\n",
    "\n",
    "There are several ways of plotting the geometry. The simplest inline plotting option is to call the `plot()` method of the `Universe()` object (in our case this was called `root`). This is a wrapper of matplotlib. However, there is a more advanced options by setting up an instance of the `Plot()` class, and running openMC directly to generate a plot. Since in this course we work with a rather simple geometry, we will not look at the advanced plotting option, but you are welcome to check the user's guide."
   ]
  },
  {
   "cell_type": "code",
   "execution_count": 11,
   "metadata": {},
   "outputs": [
    {
     "ename": "OSError",
     "evalue": "dlopen(/Users/mikkelsewerin/Library/Caches/pypoetry/virtualenvs/reaktorfysik-G-7A3SLv-py3.12/lib/python3.12/site-packages/openmc/lib/libopenmc.dylib, 0x0006): tried: '/Users/mikkelsewerin/Library/Caches/pypoetry/virtualenvs/reaktorfysik-G-7A3SLv-py3.12/lib/python3.12/site-packages/openmc/lib/libopenmc.dylib' (no such file), '/System/Volumes/Preboot/Cryptexes/OS/Users/mikkelsewerin/Library/Caches/pypoetry/virtualenvs/reaktorfysik-G-7A3SLv-py3.12/lib/python3.12/site-packages/openmc/lib/libopenmc.dylib' (no such file), '/Users/mikkelsewerin/Library/Caches/pypoetry/virtualenvs/reaktorfysik-G-7A3SLv-py3.12/lib/python3.12/site-packages/openmc/lib/libopenmc.dylib' (no such file)",
     "output_type": "error",
     "traceback": [
      "\u001b[0;31m---------------------------------------------------------------------------\u001b[0m",
      "\u001b[0;31mOSError\u001b[0m                                   Traceback (most recent call last)",
      "Cell \u001b[0;32mIn[11], line 1\u001b[0m\n\u001b[0;32m----> 1\u001b[0m \u001b[43mroot\u001b[49m\u001b[38;5;241;43m.\u001b[39;49m\u001b[43mplot\u001b[49m\u001b[43m(\u001b[49m\u001b[43m)\u001b[49m\n",
      "File \u001b[0;32m~/Library/Caches/pypoetry/virtualenvs/reaktorfysik-G-7A3SLv-py3.12/lib/python3.12/site-packages/openmc/universe.py:442\u001b[0m, in \u001b[0;36mUniverse.plot\u001b[0;34m(self, origin, width, pixels, basis, color_by, colors, seed, openmc_exec, axes, legend, axis_units, legend_kwargs, outline, **kwargs)\u001b[0m\n\u001b[1;32m    439\u001b[0m model\u001b[38;5;241m.\u001b[39mplots\u001b[38;5;241m.\u001b[39mappend(plot)\n\u001b[1;32m    441\u001b[0m \u001b[38;5;66;03m# Run OpenMC in geometry plotting mode\u001b[39;00m\n\u001b[0;32m--> 442\u001b[0m \u001b[43mmodel\u001b[49m\u001b[38;5;241;43m.\u001b[39;49m\u001b[43mplot_geometry\u001b[49m\u001b[43m(\u001b[49m\u001b[38;5;28;43;01mFalse\u001b[39;49;00m\u001b[43m,\u001b[49m\u001b[43m \u001b[49m\u001b[43mcwd\u001b[49m\u001b[38;5;241;43m=\u001b[39;49m\u001b[43mtmpdir\u001b[49m\u001b[43m,\u001b[49m\u001b[43m \u001b[49m\u001b[43mopenmc_exec\u001b[49m\u001b[38;5;241;43m=\u001b[39;49m\u001b[43mopenmc_exec\u001b[49m\u001b[43m)\u001b[49m\n\u001b[1;32m    444\u001b[0m \u001b[38;5;66;03m# Read image from file\u001b[39;00m\n\u001b[1;32m    445\u001b[0m img_path \u001b[38;5;241m=\u001b[39m Path(tmpdir) \u001b[38;5;241m/\u001b[39m \u001b[38;5;124mf\u001b[39m\u001b[38;5;124m'\u001b[39m\u001b[38;5;124mplot_\u001b[39m\u001b[38;5;132;01m{\u001b[39;00mplot\u001b[38;5;241m.\u001b[39mid\u001b[38;5;132;01m}\u001b[39;00m\u001b[38;5;124m.png\u001b[39m\u001b[38;5;124m'\u001b[39m\n",
      "File \u001b[0;32m~/Library/Caches/pypoetry/virtualenvs/reaktorfysik-G-7A3SLv-py3.12/lib/python3.12/site-packages/openmc/model/model.py:829\u001b[0m, in \u001b[0;36mModel.plot_geometry\u001b[0;34m(self, output, cwd, openmc_exec)\u001b[0m\n\u001b[1;32m    825\u001b[0m     \u001b[38;5;28;01mraise\u001b[39;00m \u001b[38;5;167;01mValueError\u001b[39;00m(\u001b[38;5;124m\"\u001b[39m\u001b[38;5;124mThe Model.plots attribute must be specified \u001b[39m\u001b[38;5;124m\"\u001b[39m\n\u001b[1;32m    826\u001b[0m                      \u001b[38;5;124m\"\u001b[39m\u001b[38;5;124mbefore executing this method!\u001b[39m\u001b[38;5;124m\"\u001b[39m)\n\u001b[1;32m    828\u001b[0m \u001b[38;5;28;01mwith\u001b[39;00m _change_directory(Path(cwd)):\n\u001b[0;32m--> 829\u001b[0m     \u001b[38;5;28;01mif\u001b[39;00m \u001b[38;5;28;43mself\u001b[39;49m\u001b[38;5;241;43m.\u001b[39;49m\u001b[43mis_initialized\u001b[49m:\n\u001b[1;32m    830\u001b[0m         \u001b[38;5;66;03m# Compute the volumes\u001b[39;00m\n\u001b[1;32m    831\u001b[0m         openmc\u001b[38;5;241m.\u001b[39mlib\u001b[38;5;241m.\u001b[39mplot_geometry(output)\n\u001b[1;32m    832\u001b[0m     \u001b[38;5;28;01melse\u001b[39;00m:\n",
      "File \u001b[0;32m~/Library/Caches/pypoetry/virtualenvs/reaktorfysik-G-7A3SLv-py3.12/lib/python3.12/site-packages/openmc/model/model.py:160\u001b[0m, in \u001b[0;36mModel.is_initialized\u001b[0;34m(self)\u001b[0m\n\u001b[1;32m    157\u001b[0m \u001b[38;5;129m@property\u001b[39m\n\u001b[1;32m    158\u001b[0m \u001b[38;5;28;01mdef\u001b[39;00m \u001b[38;5;21mis_initialized\u001b[39m(\u001b[38;5;28mself\u001b[39m) \u001b[38;5;241m-\u001b[39m\u001b[38;5;241m>\u001b[39m \u001b[38;5;28mbool\u001b[39m:\n\u001b[1;32m    159\u001b[0m     \u001b[38;5;28;01mtry\u001b[39;00m:\n\u001b[0;32m--> 160\u001b[0m         \u001b[38;5;28;01mimport\u001b[39;00m \u001b[38;5;21;01mopenmc\u001b[39;00m\u001b[38;5;21;01m.\u001b[39;00m\u001b[38;5;21;01mlib\u001b[39;00m\n\u001b[1;32m    161\u001b[0m         \u001b[38;5;28;01mreturn\u001b[39;00m openmc\u001b[38;5;241m.\u001b[39mlib\u001b[38;5;241m.\u001b[39mis_initialized\n\u001b[1;32m    162\u001b[0m     \u001b[38;5;28;01mexcept\u001b[39;00m \u001b[38;5;167;01mImportError\u001b[39;00m:\n",
      "File \u001b[0;32m~/Library/Caches/pypoetry/virtualenvs/reaktorfysik-G-7A3SLv-py3.12/lib/python3.12/site-packages/openmc/lib/__init__.py:32\u001b[0m\n\u001b[1;32m     28\u001b[0m \u001b[38;5;28;01mif\u001b[39;00m os\u001b[38;5;241m.\u001b[39menviron\u001b[38;5;241m.\u001b[39mget(\u001b[38;5;124m'\u001b[39m\u001b[38;5;124mREADTHEDOCS\u001b[39m\u001b[38;5;124m'\u001b[39m, \u001b[38;5;28;01mNone\u001b[39;00m) \u001b[38;5;241m!=\u001b[39m \u001b[38;5;124m'\u001b[39m\u001b[38;5;124mTrue\u001b[39m\u001b[38;5;124m'\u001b[39m:\n\u001b[1;32m     29\u001b[0m     \u001b[38;5;66;03m# Open shared library\u001b[39;00m\n\u001b[1;32m     30\u001b[0m     _filename \u001b[38;5;241m=\u001b[39m pkg_resources\u001b[38;5;241m.\u001b[39mresource_filename(\n\u001b[1;32m     31\u001b[0m         \u001b[38;5;18m__name__\u001b[39m, \u001b[38;5;124m'\u001b[39m\u001b[38;5;124mlibopenmc.\u001b[39m\u001b[38;5;132;01m{}\u001b[39;00m\u001b[38;5;124m'\u001b[39m\u001b[38;5;241m.\u001b[39mformat(_suffix))\n\u001b[0;32m---> 32\u001b[0m     _dll \u001b[38;5;241m=\u001b[39m \u001b[43mCDLL\u001b[49m\u001b[43m(\u001b[49m\u001b[43m_filename\u001b[49m\u001b[43m)\u001b[49m\n\u001b[1;32m     33\u001b[0m \u001b[38;5;28;01melse\u001b[39;00m:\n\u001b[1;32m     34\u001b[0m     \u001b[38;5;66;03m# For documentation builds, we don't actually have the shared library\u001b[39;00m\n\u001b[1;32m     35\u001b[0m     \u001b[38;5;66;03m# available. Instead, we create a mock object so that when the modules\u001b[39;00m\n\u001b[1;32m     36\u001b[0m     \u001b[38;5;66;03m# within the openmc.lib package try to configure arguments and return\u001b[39;00m\n\u001b[1;32m     37\u001b[0m     \u001b[38;5;66;03m# values for symbols, no errors occur\u001b[39;00m\n\u001b[1;32m     38\u001b[0m     \u001b[38;5;28;01mfrom\u001b[39;00m \u001b[38;5;21;01munittest\u001b[39;00m\u001b[38;5;21;01m.\u001b[39;00m\u001b[38;5;21;01mmock\u001b[39;00m \u001b[38;5;28;01mimport\u001b[39;00m Mock\n",
      "File \u001b[0;32m/opt/homebrew/Cellar/python@3.12/3.12.1_1/Frameworks/Python.framework/Versions/3.12/lib/python3.12/ctypes/__init__.py:379\u001b[0m, in \u001b[0;36mCDLL.__init__\u001b[0;34m(self, name, mode, handle, use_errno, use_last_error, winmode)\u001b[0m\n\u001b[1;32m    376\u001b[0m \u001b[38;5;28mself\u001b[39m\u001b[38;5;241m.\u001b[39m_FuncPtr \u001b[38;5;241m=\u001b[39m _FuncPtr\n\u001b[1;32m    378\u001b[0m \u001b[38;5;28;01mif\u001b[39;00m handle \u001b[38;5;129;01mis\u001b[39;00m \u001b[38;5;28;01mNone\u001b[39;00m:\n\u001b[0;32m--> 379\u001b[0m     \u001b[38;5;28mself\u001b[39m\u001b[38;5;241m.\u001b[39m_handle \u001b[38;5;241m=\u001b[39m \u001b[43m_dlopen\u001b[49m\u001b[43m(\u001b[49m\u001b[38;5;28;43mself\u001b[39;49m\u001b[38;5;241;43m.\u001b[39;49m\u001b[43m_name\u001b[49m\u001b[43m,\u001b[49m\u001b[43m \u001b[49m\u001b[43mmode\u001b[49m\u001b[43m)\u001b[49m\n\u001b[1;32m    380\u001b[0m \u001b[38;5;28;01melse\u001b[39;00m:\n\u001b[1;32m    381\u001b[0m     \u001b[38;5;28mself\u001b[39m\u001b[38;5;241m.\u001b[39m_handle \u001b[38;5;241m=\u001b[39m handle\n",
      "\u001b[0;31mOSError\u001b[0m: dlopen(/Users/mikkelsewerin/Library/Caches/pypoetry/virtualenvs/reaktorfysik-G-7A3SLv-py3.12/lib/python3.12/site-packages/openmc/lib/libopenmc.dylib, 0x0006): tried: '/Users/mikkelsewerin/Library/Caches/pypoetry/virtualenvs/reaktorfysik-G-7A3SLv-py3.12/lib/python3.12/site-packages/openmc/lib/libopenmc.dylib' (no such file), '/System/Volumes/Preboot/Cryptexes/OS/Users/mikkelsewerin/Library/Caches/pypoetry/virtualenvs/reaktorfysik-G-7A3SLv-py3.12/lib/python3.12/site-packages/openmc/lib/libopenmc.dylib' (no such file), '/Users/mikkelsewerin/Library/Caches/pypoetry/virtualenvs/reaktorfysik-G-7A3SLv-py3.12/lib/python3.12/site-packages/openmc/lib/libopenmc.dylib' (no such file)"
     ]
    }
   ],
   "source": [
    "root.plot()"
   ]
  },
  {
   "cell_type": "markdown",
   "metadata": {},
   "source": [
    "## Calculation\n",
    "\n",
    "Finally, we are done, and nothing left just to run openMC and wait for the results. For this we have to specify where the cross section files are (this we could do in the system as well). Then call the `openmc.run()` method. And you immediately see how the k-effective is being estimated.\n",
    "\n",
    "**Note 1**: The results are being stored in a file named 'statepoint.100.h5' (100 refers to the number of batches), also a 'summary.h5' and some other files are created. Sometimes openMC is complaining if there are already existing h5 files, so in this case we can remove (`rm`) these files. For this we make a system call with `os.system` to remove any file for which the name starts with 's' and ands with 'h5'. Nevertheless, be careful with removing files, not to loose data. \n",
    "\n",
    "**Note 2**: Sometimes the python API breaks for no apparent reason, you can just restart the kernel, if that happens. "
   ]
  },
  {
   "cell_type": "code",
   "execution_count": 12,
   "metadata": {},
   "outputs": [
    {
     "name": "stdout",
     "output_type": "stream",
     "text": [
      "/Users/mikkelsewerin/Library/Caches/pypoetry/virtualenvs/reaktorfysik-G-7A3SLv-py3.12/bin/python\n"
     ]
    }
   ],
   "source": [
    "import sys\n",
    "print(sys.executable)"
   ]
  },
  {
   "cell_type": "code",
   "execution_count": 13,
   "metadata": {},
   "outputs": [
    {
     "ename": "PermissionError",
     "evalue": "[Errno 13] Permission denied: 'openmc'",
     "output_type": "error",
     "traceback": [
      "\u001b[0;31m---------------------------------------------------------------------------\u001b[0m",
      "\u001b[0;31mPermissionError\u001b[0m                           Traceback (most recent call last)",
      "Cell \u001b[0;32mIn[13], line 1\u001b[0m\n\u001b[0;32m----> 1\u001b[0m \u001b[43mopenmc\u001b[49m\u001b[38;5;241;43m.\u001b[39;49m\u001b[43mrun\u001b[49m\u001b[43m(\u001b[49m\u001b[43m)\u001b[49m\n",
      "File \u001b[0;32m~/Library/Caches/pypoetry/virtualenvs/reaktorfysik-G-7A3SLv-py3.12/lib/python3.12/site-packages/openmc/executor.py:314\u001b[0m, in \u001b[0;36mrun\u001b[0;34m(particles, threads, geometry_debug, restart_file, tracks, output, cwd, openmc_exec, mpi_args, event_based, path_input)\u001b[0m\n\u001b[1;32m    261\u001b[0m \u001b[38;5;250m\u001b[39m\u001b[38;5;124;03m\"\"\"Run an OpenMC simulation.\u001b[39;00m\n\u001b[1;32m    262\u001b[0m \n\u001b[1;32m    263\u001b[0m \u001b[38;5;124;03mParameters\u001b[39;00m\n\u001b[0;32m   (...)\u001b[0m\n\u001b[1;32m    305\u001b[0m \n\u001b[1;32m    306\u001b[0m \u001b[38;5;124;03m\"\"\"\u001b[39;00m\n\u001b[1;32m    308\u001b[0m args \u001b[38;5;241m=\u001b[39m _process_CLI_arguments(\n\u001b[1;32m    309\u001b[0m     volume\u001b[38;5;241m=\u001b[39m\u001b[38;5;28;01mFalse\u001b[39;00m, geometry_debug\u001b[38;5;241m=\u001b[39mgeometry_debug, particles\u001b[38;5;241m=\u001b[39mparticles,\n\u001b[1;32m    310\u001b[0m     restart_file\u001b[38;5;241m=\u001b[39mrestart_file, threads\u001b[38;5;241m=\u001b[39mthreads, tracks\u001b[38;5;241m=\u001b[39mtracks,\n\u001b[1;32m    311\u001b[0m     event_based\u001b[38;5;241m=\u001b[39mevent_based, openmc_exec\u001b[38;5;241m=\u001b[39mopenmc_exec, mpi_args\u001b[38;5;241m=\u001b[39mmpi_args,\n\u001b[1;32m    312\u001b[0m     path_input\u001b[38;5;241m=\u001b[39mpath_input)\n\u001b[0;32m--> 314\u001b[0m \u001b[43m_run\u001b[49m\u001b[43m(\u001b[49m\u001b[43margs\u001b[49m\u001b[43m,\u001b[49m\u001b[43m \u001b[49m\u001b[43moutput\u001b[49m\u001b[43m,\u001b[49m\u001b[43m \u001b[49m\u001b[43mcwd\u001b[49m\u001b[43m)\u001b[49m\n",
      "File \u001b[0;32m~/Library/Caches/pypoetry/virtualenvs/reaktorfysik-G-7A3SLv-py3.12/lib/python3.12/site-packages/openmc/executor.py:97\u001b[0m, in \u001b[0;36m_run\u001b[0;34m(args, output, cwd)\u001b[0m\n\u001b[1;32m     95\u001b[0m \u001b[38;5;28;01mdef\u001b[39;00m \u001b[38;5;21m_run\u001b[39m(args, output, cwd):\n\u001b[1;32m     96\u001b[0m     \u001b[38;5;66;03m# Launch a subprocess\u001b[39;00m\n\u001b[0;32m---> 97\u001b[0m     p \u001b[38;5;241m=\u001b[39m \u001b[43msubprocess\u001b[49m\u001b[38;5;241;43m.\u001b[39;49m\u001b[43mPopen\u001b[49m\u001b[43m(\u001b[49m\u001b[43margs\u001b[49m\u001b[43m,\u001b[49m\u001b[43m \u001b[49m\u001b[43mcwd\u001b[49m\u001b[38;5;241;43m=\u001b[39;49m\u001b[43mcwd\u001b[49m\u001b[43m,\u001b[49m\u001b[43m \u001b[49m\u001b[43mstdout\u001b[49m\u001b[38;5;241;43m=\u001b[39;49m\u001b[43msubprocess\u001b[49m\u001b[38;5;241;43m.\u001b[39;49m\u001b[43mPIPE\u001b[49m\u001b[43m,\u001b[49m\n\u001b[1;32m     98\u001b[0m \u001b[43m                         \u001b[49m\u001b[43mstderr\u001b[49m\u001b[38;5;241;43m=\u001b[39;49m\u001b[43msubprocess\u001b[49m\u001b[38;5;241;43m.\u001b[39;49m\u001b[43mSTDOUT\u001b[49m\u001b[43m,\u001b[49m\u001b[43m \u001b[49m\u001b[43muniversal_newlines\u001b[49m\u001b[38;5;241;43m=\u001b[39;49m\u001b[38;5;28;43;01mTrue\u001b[39;49;00m\u001b[43m)\u001b[49m\n\u001b[1;32m    100\u001b[0m     \u001b[38;5;66;03m# Capture and re-print OpenMC output in real-time\u001b[39;00m\n\u001b[1;32m    101\u001b[0m     lines \u001b[38;5;241m=\u001b[39m []\n",
      "File \u001b[0;32m/opt/homebrew/Cellar/python@3.12/3.12.1_1/Frameworks/Python.framework/Versions/3.12/lib/python3.12/subprocess.py:1026\u001b[0m, in \u001b[0;36mPopen.__init__\u001b[0;34m(self, args, bufsize, executable, stdin, stdout, stderr, preexec_fn, close_fds, shell, cwd, env, universal_newlines, startupinfo, creationflags, restore_signals, start_new_session, pass_fds, user, group, extra_groups, encoding, errors, text, umask, pipesize, process_group)\u001b[0m\n\u001b[1;32m   1022\u001b[0m         \u001b[38;5;28;01mif\u001b[39;00m \u001b[38;5;28mself\u001b[39m\u001b[38;5;241m.\u001b[39mtext_mode:\n\u001b[1;32m   1023\u001b[0m             \u001b[38;5;28mself\u001b[39m\u001b[38;5;241m.\u001b[39mstderr \u001b[38;5;241m=\u001b[39m io\u001b[38;5;241m.\u001b[39mTextIOWrapper(\u001b[38;5;28mself\u001b[39m\u001b[38;5;241m.\u001b[39mstderr,\n\u001b[1;32m   1024\u001b[0m                     encoding\u001b[38;5;241m=\u001b[39mencoding, errors\u001b[38;5;241m=\u001b[39merrors)\n\u001b[0;32m-> 1026\u001b[0m     \u001b[38;5;28;43mself\u001b[39;49m\u001b[38;5;241;43m.\u001b[39;49m\u001b[43m_execute_child\u001b[49m\u001b[43m(\u001b[49m\u001b[43margs\u001b[49m\u001b[43m,\u001b[49m\u001b[43m \u001b[49m\u001b[43mexecutable\u001b[49m\u001b[43m,\u001b[49m\u001b[43m \u001b[49m\u001b[43mpreexec_fn\u001b[49m\u001b[43m,\u001b[49m\u001b[43m \u001b[49m\u001b[43mclose_fds\u001b[49m\u001b[43m,\u001b[49m\n\u001b[1;32m   1027\u001b[0m \u001b[43m                        \u001b[49m\u001b[43mpass_fds\u001b[49m\u001b[43m,\u001b[49m\u001b[43m \u001b[49m\u001b[43mcwd\u001b[49m\u001b[43m,\u001b[49m\u001b[43m \u001b[49m\u001b[43menv\u001b[49m\u001b[43m,\u001b[49m\n\u001b[1;32m   1028\u001b[0m \u001b[43m                        \u001b[49m\u001b[43mstartupinfo\u001b[49m\u001b[43m,\u001b[49m\u001b[43m \u001b[49m\u001b[43mcreationflags\u001b[49m\u001b[43m,\u001b[49m\u001b[43m \u001b[49m\u001b[43mshell\u001b[49m\u001b[43m,\u001b[49m\n\u001b[1;32m   1029\u001b[0m \u001b[43m                        \u001b[49m\u001b[43mp2cread\u001b[49m\u001b[43m,\u001b[49m\u001b[43m \u001b[49m\u001b[43mp2cwrite\u001b[49m\u001b[43m,\u001b[49m\n\u001b[1;32m   1030\u001b[0m \u001b[43m                        \u001b[49m\u001b[43mc2pread\u001b[49m\u001b[43m,\u001b[49m\u001b[43m \u001b[49m\u001b[43mc2pwrite\u001b[49m\u001b[43m,\u001b[49m\n\u001b[1;32m   1031\u001b[0m \u001b[43m                        \u001b[49m\u001b[43merrread\u001b[49m\u001b[43m,\u001b[49m\u001b[43m \u001b[49m\u001b[43merrwrite\u001b[49m\u001b[43m,\u001b[49m\n\u001b[1;32m   1032\u001b[0m \u001b[43m                        \u001b[49m\u001b[43mrestore_signals\u001b[49m\u001b[43m,\u001b[49m\n\u001b[1;32m   1033\u001b[0m \u001b[43m                        \u001b[49m\u001b[43mgid\u001b[49m\u001b[43m,\u001b[49m\u001b[43m \u001b[49m\u001b[43mgids\u001b[49m\u001b[43m,\u001b[49m\u001b[43m \u001b[49m\u001b[43muid\u001b[49m\u001b[43m,\u001b[49m\u001b[43m \u001b[49m\u001b[43mumask\u001b[49m\u001b[43m,\u001b[49m\n\u001b[1;32m   1034\u001b[0m \u001b[43m                        \u001b[49m\u001b[43mstart_new_session\u001b[49m\u001b[43m,\u001b[49m\u001b[43m \u001b[49m\u001b[43mprocess_group\u001b[49m\u001b[43m)\u001b[49m\n\u001b[1;32m   1035\u001b[0m \u001b[38;5;28;01mexcept\u001b[39;00m:\n\u001b[1;32m   1036\u001b[0m     \u001b[38;5;66;03m# Cleanup if the child failed starting.\u001b[39;00m\n\u001b[1;32m   1037\u001b[0m     \u001b[38;5;28;01mfor\u001b[39;00m f \u001b[38;5;129;01min\u001b[39;00m \u001b[38;5;28mfilter\u001b[39m(\u001b[38;5;28;01mNone\u001b[39;00m, (\u001b[38;5;28mself\u001b[39m\u001b[38;5;241m.\u001b[39mstdin, \u001b[38;5;28mself\u001b[39m\u001b[38;5;241m.\u001b[39mstdout, \u001b[38;5;28mself\u001b[39m\u001b[38;5;241m.\u001b[39mstderr)):\n",
      "File \u001b[0;32m/opt/homebrew/Cellar/python@3.12/3.12.1_1/Frameworks/Python.framework/Versions/3.12/lib/python3.12/subprocess.py:1950\u001b[0m, in \u001b[0;36mPopen._execute_child\u001b[0;34m(self, args, executable, preexec_fn, close_fds, pass_fds, cwd, env, startupinfo, creationflags, shell, p2cread, p2cwrite, c2pread, c2pwrite, errread, errwrite, restore_signals, gid, gids, uid, umask, start_new_session, process_group)\u001b[0m\n\u001b[1;32m   1948\u001b[0m     \u001b[38;5;28;01mif\u001b[39;00m errno_num \u001b[38;5;241m!=\u001b[39m \u001b[38;5;241m0\u001b[39m:\n\u001b[1;32m   1949\u001b[0m         err_msg \u001b[38;5;241m=\u001b[39m os\u001b[38;5;241m.\u001b[39mstrerror(errno_num)\n\u001b[0;32m-> 1950\u001b[0m     \u001b[38;5;28;01mraise\u001b[39;00m child_exception_type(errno_num, err_msg, err_filename)\n\u001b[1;32m   1951\u001b[0m \u001b[38;5;28;01mraise\u001b[39;00m child_exception_type(err_msg)\n",
      "\u001b[0;31mPermissionError\u001b[0m: [Errno 13] Permission denied: 'openmc'"
     ]
    }
   ],
   "source": [
    "openmc.run()"
   ]
  },
  {
   "cell_type": "markdown",
   "metadata": {},
   "source": [
    "## Post-processing\n",
    "\n",
    "Alright, we did our calculation, we even saw that some k-effective values were printed, but we still haven't seen any more results. For this we will need to read in the statepoint file. We will read this file into an object called `sp`. If we hit TAB while typing `sp.` we can review the available methods and attributes. For example we can get the final k-effective as below."
   ]
  },
  {
   "cell_type": "code",
   "execution_count": 32,
   "metadata": {},
   "outputs": [
    {
     "ename": "FileNotFoundError",
     "evalue": "[Errno 2] Unable to open file (unable to open file: name = 'statepoint.100.h5', errno = 2, error message = 'No such file or directory', flags = 0, o_flags = 0)",
     "output_type": "error",
     "traceback": [
      "\u001b[0;31m---------------------------------------------------------------------------\u001b[0m",
      "\u001b[0;31mFileNotFoundError\u001b[0m                         Traceback (most recent call last)",
      "Cell \u001b[0;32mIn[32], line 1\u001b[0m\n\u001b[0;32m----> 1\u001b[0m sp \u001b[38;5;241m=\u001b[39m \u001b[43mopenmc\u001b[49m\u001b[38;5;241;43m.\u001b[39;49m\u001b[43mStatePoint\u001b[49m\u001b[43m(\u001b[49m\u001b[38;5;124;43m'\u001b[39;49m\u001b[38;5;124;43mstatepoint.100.h5\u001b[39;49m\u001b[38;5;124;43m'\u001b[39;49m\u001b[43m)\u001b[49m\n\u001b[1;32m      2\u001b[0m sp\u001b[38;5;241m.\u001b[39mkeff\n",
      "File \u001b[0;32m~/Library/Caches/pypoetry/virtualenvs/reaktorfysik-G-7A3SLv-py3.12/lib/python3.12/site-packages/openmc/statepoint.py:127\u001b[0m, in \u001b[0;36mStatePoint.__init__\u001b[0;34m(self, filepath, autolink)\u001b[0m\n\u001b[1;32m    125\u001b[0m \u001b[38;5;28;01mdef\u001b[39;00m \u001b[38;5;21m__init__\u001b[39m(\u001b[38;5;28mself\u001b[39m, filepath, autolink\u001b[38;5;241m=\u001b[39m\u001b[38;5;28;01mTrue\u001b[39;00m):\n\u001b[1;32m    126\u001b[0m     filename \u001b[38;5;241m=\u001b[39m \u001b[38;5;28mstr\u001b[39m(filepath)  \u001b[38;5;66;03m# in case it's a Path\u001b[39;00m\n\u001b[0;32m--> 127\u001b[0m     \u001b[38;5;28mself\u001b[39m\u001b[38;5;241m.\u001b[39m_f \u001b[38;5;241m=\u001b[39m \u001b[43mh5py\u001b[49m\u001b[38;5;241;43m.\u001b[39;49m\u001b[43mFile\u001b[49m\u001b[43m(\u001b[49m\u001b[43mfilename\u001b[49m\u001b[43m,\u001b[49m\u001b[43m \u001b[49m\u001b[38;5;124;43m'\u001b[39;49m\u001b[38;5;124;43mr\u001b[39;49m\u001b[38;5;124;43m'\u001b[39;49m\u001b[43m)\u001b[49m\n\u001b[1;32m    128\u001b[0m     \u001b[38;5;28mself\u001b[39m\u001b[38;5;241m.\u001b[39m_meshes \u001b[38;5;241m=\u001b[39m {}\n\u001b[1;32m    129\u001b[0m     \u001b[38;5;28mself\u001b[39m\u001b[38;5;241m.\u001b[39m_filters \u001b[38;5;241m=\u001b[39m {}\n",
      "File \u001b[0;32m~/Library/Caches/pypoetry/virtualenvs/reaktorfysik-G-7A3SLv-py3.12/lib/python3.12/site-packages/h5py/_hl/files.py:562\u001b[0m, in \u001b[0;36mFile.__init__\u001b[0;34m(self, name, mode, driver, libver, userblock_size, swmr, rdcc_nslots, rdcc_nbytes, rdcc_w0, track_order, fs_strategy, fs_persist, fs_threshold, fs_page_size, page_buf_size, min_meta_keep, min_raw_keep, locking, alignment_threshold, alignment_interval, meta_block_size, **kwds)\u001b[0m\n\u001b[1;32m    553\u001b[0m     fapl \u001b[38;5;241m=\u001b[39m make_fapl(driver, libver, rdcc_nslots, rdcc_nbytes, rdcc_w0,\n\u001b[1;32m    554\u001b[0m                      locking, page_buf_size, min_meta_keep, min_raw_keep,\n\u001b[1;32m    555\u001b[0m                      alignment_threshold\u001b[38;5;241m=\u001b[39malignment_threshold,\n\u001b[1;32m    556\u001b[0m                      alignment_interval\u001b[38;5;241m=\u001b[39malignment_interval,\n\u001b[1;32m    557\u001b[0m                      meta_block_size\u001b[38;5;241m=\u001b[39mmeta_block_size,\n\u001b[1;32m    558\u001b[0m                      \u001b[38;5;241m*\u001b[39m\u001b[38;5;241m*\u001b[39mkwds)\n\u001b[1;32m    559\u001b[0m     fcpl \u001b[38;5;241m=\u001b[39m make_fcpl(track_order\u001b[38;5;241m=\u001b[39mtrack_order, fs_strategy\u001b[38;5;241m=\u001b[39mfs_strategy,\n\u001b[1;32m    560\u001b[0m                      fs_persist\u001b[38;5;241m=\u001b[39mfs_persist, fs_threshold\u001b[38;5;241m=\u001b[39mfs_threshold,\n\u001b[1;32m    561\u001b[0m                      fs_page_size\u001b[38;5;241m=\u001b[39mfs_page_size)\n\u001b[0;32m--> 562\u001b[0m     fid \u001b[38;5;241m=\u001b[39m \u001b[43mmake_fid\u001b[49m\u001b[43m(\u001b[49m\u001b[43mname\u001b[49m\u001b[43m,\u001b[49m\u001b[43m \u001b[49m\u001b[43mmode\u001b[49m\u001b[43m,\u001b[49m\u001b[43m \u001b[49m\u001b[43muserblock_size\u001b[49m\u001b[43m,\u001b[49m\u001b[43m \u001b[49m\u001b[43mfapl\u001b[49m\u001b[43m,\u001b[49m\u001b[43m \u001b[49m\u001b[43mfcpl\u001b[49m\u001b[43m,\u001b[49m\u001b[43m \u001b[49m\u001b[43mswmr\u001b[49m\u001b[38;5;241;43m=\u001b[39;49m\u001b[43mswmr\u001b[49m\u001b[43m)\u001b[49m\n\u001b[1;32m    564\u001b[0m \u001b[38;5;28;01mif\u001b[39;00m \u001b[38;5;28misinstance\u001b[39m(libver, \u001b[38;5;28mtuple\u001b[39m):\n\u001b[1;32m    565\u001b[0m     \u001b[38;5;28mself\u001b[39m\u001b[38;5;241m.\u001b[39m_libver \u001b[38;5;241m=\u001b[39m libver\n",
      "File \u001b[0;32m~/Library/Caches/pypoetry/virtualenvs/reaktorfysik-G-7A3SLv-py3.12/lib/python3.12/site-packages/h5py/_hl/files.py:235\u001b[0m, in \u001b[0;36mmake_fid\u001b[0;34m(name, mode, userblock_size, fapl, fcpl, swmr)\u001b[0m\n\u001b[1;32m    233\u001b[0m     \u001b[38;5;28;01mif\u001b[39;00m swmr \u001b[38;5;129;01mand\u001b[39;00m swmr_support:\n\u001b[1;32m    234\u001b[0m         flags \u001b[38;5;241m|\u001b[39m\u001b[38;5;241m=\u001b[39m h5f\u001b[38;5;241m.\u001b[39mACC_SWMR_READ\n\u001b[0;32m--> 235\u001b[0m     fid \u001b[38;5;241m=\u001b[39m \u001b[43mh5f\u001b[49m\u001b[38;5;241;43m.\u001b[39;49m\u001b[43mopen\u001b[49m\u001b[43m(\u001b[49m\u001b[43mname\u001b[49m\u001b[43m,\u001b[49m\u001b[43m \u001b[49m\u001b[43mflags\u001b[49m\u001b[43m,\u001b[49m\u001b[43m \u001b[49m\u001b[43mfapl\u001b[49m\u001b[38;5;241;43m=\u001b[39;49m\u001b[43mfapl\u001b[49m\u001b[43m)\u001b[49m\n\u001b[1;32m    236\u001b[0m \u001b[38;5;28;01melif\u001b[39;00m mode \u001b[38;5;241m==\u001b[39m \u001b[38;5;124m'\u001b[39m\u001b[38;5;124mr+\u001b[39m\u001b[38;5;124m'\u001b[39m:\n\u001b[1;32m    237\u001b[0m     fid \u001b[38;5;241m=\u001b[39m h5f\u001b[38;5;241m.\u001b[39mopen(name, h5f\u001b[38;5;241m.\u001b[39mACC_RDWR, fapl\u001b[38;5;241m=\u001b[39mfapl)\n",
      "File \u001b[0;32mh5py/_objects.pyx:54\u001b[0m, in \u001b[0;36mh5py._objects.with_phil.wrapper\u001b[0;34m()\u001b[0m\n",
      "File \u001b[0;32mh5py/_objects.pyx:55\u001b[0m, in \u001b[0;36mh5py._objects.with_phil.wrapper\u001b[0;34m()\u001b[0m\n",
      "File \u001b[0;32mh5py/h5f.pyx:102\u001b[0m, in \u001b[0;36mh5py.h5f.open\u001b[0;34m()\u001b[0m\n",
      "\u001b[0;31mFileNotFoundError\u001b[0m: [Errno 2] Unable to open file (unable to open file: name = 'statepoint.100.h5', errno = 2, error message = 'No such file or directory', flags = 0, o_flags = 0)"
     ]
    }
   ],
   "source": [
    "sp = openmc.StatePoint('statepoint.100.h5')\n",
    "sp.keff"
   ]
  },
  {
   "cell_type": "markdown",
   "metadata": {},
   "source": [
    "And the values we can access for further processing or plotting:"
   ]
  },
  {
   "cell_type": "code",
   "execution_count": null,
   "metadata": {},
   "outputs": [],
   "source": [
    "keff=sp.keff.nominal_value\n",
    "keff_error=sp.keff.std_dev\n",
    "print(keff,keff_error)"
   ]
  },
  {
   "cell_type": "markdown",
   "metadata": {},
   "source": [
    "The tallies are stored in a dictionary where the keys are the numeric IDs we defined previously:"
   ]
  },
  {
   "cell_type": "code",
   "execution_count": null,
   "metadata": {},
   "outputs": [],
   "source": [
    "sp.tallies"
   ]
  },
  {
   "cell_type": "markdown",
   "metadata": {},
   "source": [
    "We can convert the tally results into pandas dataframes. So at the end we have a nice table, for each energy bin there is a row for the flux and a row for the fission rate. If we prefer we can split the dataframe based on conditions to store separately the flux and the fission rate. For this we can apply conditions as we have seen during the previous datalabs.\n",
    "\n",
    "The results are stored in the 'mean' column."
   ]
  },
  {
   "cell_type": "code",
   "execution_count": null,
   "metadata": {},
   "outputs": [],
   "source": [
    "tallydf1=sp.tallies[1].get_pandas_dataframe()\n",
    "tallydf1.head() #prints the first 5 rows"
   ]
  },
  {
   "cell_type": "code",
   "execution_count": null,
   "metadata": {},
   "outputs": [],
   "source": [
    "tallydf1flux=tallydf1[tallydf1['score']=='flux']\n",
    "tallydf1fiss=tallydf1[tallydf1['score']=='fission']\n",
    "tallydf1flux.head()"
   ]
  },
  {
   "cell_type": "markdown",
   "metadata": {},
   "source": [
    "Let's plot these results."
   ]
  },
  {
   "cell_type": "code",
   "execution_count": null,
   "metadata": {},
   "outputs": [],
   "source": [
    "energy=(tallydf1flux['energy low [eV]']+tallydf1flux['energy high [eV]'])/2\n",
    "plt.figure()\n",
    "plt.loglog(energy,tallydf1flux['mean'])\n",
    "plt.xlabel('energy (eV)')\n",
    "plt.ylabel('Group flux per source particle')\n",
    "plt.show()\n"
   ]
  },
  {
   "cell_type": "markdown",
   "metadata": {},
   "source": [
    "These of course does not look like the spectrum we saw during the lecture. But here actually each value is not the flux at a certain energy, but the integral of the flux between energies. If we divide the integral flux with the width of the bins (`deltaE`) we get the more familiar shape for the spectrum.\n",
    "\n",
    "We can clearly see the Maxwellien thermal component, the 1/E part with the self-shielding effect of the resonances, and the Watt-spectrum at high energies.\n",
    "\n",
    "The very first \"negative\" peak is due to the 6.67 eV resonance of U-238."
   ]
  },
  {
   "cell_type": "code",
   "execution_count": null,
   "metadata": {},
   "outputs": [],
   "source": [
    "deltaE=(tallydf1flux['energy high [eV]']-tallydf1flux['energy low [eV]'])\n",
    "plt.figure()\n",
    "plt.loglog(energy,tallydf1flux['mean']/deltaE,lw=2)\n",
    "\n",
    "plt.ylabel('Spectrum per source particle (1/eV)')\n",
    "plt.xlabel('Energy (eV)')\n",
    "plt.show()"
   ]
  },
  {
   "cell_type": "markdown",
   "metadata": {},
   "source": [
    "Now it is your turn to plot the spectrum in the moderator (preferably include both the fuel and the moderator spectrum in the same figure). You will need to `get_pandas_dataframe` from tally 2, and then plot the results. Compare with the spectrum in the fuel, what is the most noticable difference?"
   ]
  },
  {
   "cell_type": "code",
   "execution_count": null,
   "metadata": {},
   "outputs": [],
   "source": [
    "# your code comes here"
   ]
  },
  {
   "cell_type": "markdown",
   "metadata": {},
   "source": [
    "Your conclusion comes here."
   ]
  },
  {
   "cell_type": "markdown",
   "metadata": {},
   "source": [
    "Finally, we can look at the spatial dependence of the flux. We read in the 3rd tally. Try to split the dataset according to the energy groups and plot the flux vs x-coordinate for the three energy groups separately. Normalize each curve by their maximum, so they are comparable.\n",
    "\n",
    "Conclude your findings!"
   ]
  },
  {
   "cell_type": "code",
   "execution_count": null,
   "metadata": {},
   "outputs": [],
   "source": [
    "tallydf3=sp.tallies[3].get_pandas_dataframe()\n",
    "tallydf3.head()"
   ]
  },
  {
   "cell_type": "code",
   "execution_count": null,
   "metadata": {},
   "outputs": [],
   "source": [
    "# your code comes here"
   ]
  },
  {
   "cell_type": "markdown",
   "metadata": {},
   "source": [
    "Your conclusion comes here!"
   ]
  },
  {
   "cell_type": "markdown",
   "metadata": {},
   "source": [
    "## Experiment time!\n",
    "\n",
    "If time permits, modify your input, and see how the results change. Points of interest:\n",
    "\n",
    "- Change the void content (ie. decrease the moderator density), and observe how the k-eff changes. What happens with the spectrum?\n",
    "- What is the impact on the k-eff if you change the UO2 temperature?\n",
    "- What is the impact of increasing the pitch of the pincell?\n",
    "\n",
    "You can also take a look at the third set of home assignments, where you will need to implement various geometries in openMC, and already give it a try."
   ]
  },
  {
   "cell_type": "code",
   "execution_count": null,
   "metadata": {},
   "outputs": [],
   "source": []
  }
 ],
 "metadata": {
  "kernelspec": {
   "display_name": "reaktorfysik",
   "language": "python",
   "name": "reaktorfysik"
  },
  "language_info": {
   "codemirror_mode": {
    "name": "ipython",
    "version": 3
   },
   "file_extension": ".py",
   "mimetype": "text/x-python",
   "name": "python",
   "nbconvert_exporter": "python",
   "pygments_lexer": "ipython3",
   "version": "3.12.1"
  }
 },
 "nbformat": 4,
 "nbformat_minor": 4
}
