{
 "cells": [
  {
   "cell_type": "code",
   "execution_count": 1,
   "id": "b996a387",
   "metadata": {},
   "outputs": [],
   "source": [
    "import numpy as np\n",
    "import matplotlib.pyplot as plt \n",
    "from sympy import symbols, Eq, solve"
   ]
  },
  {
   "cell_type": "code",
   "execution_count": 7,
   "id": "2678b228",
   "metadata": {},
   "outputs": [
    {
     "name": "stdout",
     "output_type": "stream",
     "text": [
      "Equations for f1, f2: [(12.0*(25.0*f2 - 3.0)/(625.0*f2 - 183.0), f2)]\n"
     ]
    }
   ],
   "source": [
    "# Define variables for f1 and f2\n",
    "f1, f2 = symbols('f1 f2')\n",
    "\n",
    "# Distances\n",
    "z1 = 2.0  # m (distance to the first lens)\n",
    "z2 = 0.30   # m (distance from the second lens to the focus point)\n",
    "d = 0.20   # m (distance between the two lenses)\n",
    "\n",
    "# Propagation matrices\n",
    "M1 = np.array([[1, z1], [0, 1]])   # Propagation to the first lens\n",
    "M2 = np.array([[1, d], [0, 1]])    # Propagation between the lenses\n",
    "M3 = np.array([[1, z2], [0, 1]])   # Final propagation\n",
    "\n",
    "# Thin lens matrices (symbolic for f1 and f2)\n",
    "L1 = np.array([[1, 0], [-1/f1, 1]])  # Defocusing lens\n",
    "L2 = np.array([[1, 0], [-1/f2, 1]])  # Focusing lens\n",
    "\n",
    "# Total matrix = M3 * L2 * M2 * L1 * M1\n",
    "total_matrix = M3 @ L2 @ M2 @ L1 @ M1\n",
    "\n",
    "# Extract matrix elements A, B, C, D\n",
    "A, B, C, D = total_matrix[0, 0], total_matrix[0, 1], total_matrix[1, 0], total_matrix[1, 1]\n",
    "\n",
    "# Starting parameters\n",
    "starting_beam_width = 1 * 1e-3  # m\n",
    "divergence_beam = 0.1 * 1e-3     # m / m radias\n",
    "\n",
    "# Solve for f1 and f2 such that divergence at the end is 0\n",
    "# equation = Eq(C * starting_beam_width + D * divergence_beam, 0)\n",
    "# solutions = solve(equation, (f1, f2))\n",
    "\n",
    "startin_parameters = np.array([starting_beam_width, divergence_beam])\n",
    "\n",
    "equation = Eq(total_matrix.dot(startin_parameters)[0], 0)\n",
    "solutions = solve(equation, (f1, f2))\n",
    "\n",
    "print(\"Equations for f1, f2:\", solutions)"
   ]
  },
  {
   "cell_type": "code",
   "execution_count": 44,
   "id": "f21572e0",
   "metadata": {},
   "outputs": [
    {
     "name": "stdout",
     "output_type": "stream",
     "text": [
      "Valus: f1 = -100.84 mm,  f2 = 150.00 mm\n"
     ]
    }
   ],
   "source": [
    "f2_picked = 150 * 1e-3\n",
    "f1_calculated = solutions[0][0].subs({f2: f2_picked}).evalf()\n",
    "print(f\"Valus: f1 = {f1_calculated * 1e3:.2f} mm,  f2 = {f2_picked * 1e3:.2f} mm\")"
   ]
  },
  {
   "cell_type": "code",
   "execution_count": 41,
   "id": "7413f418",
   "metadata": {},
   "outputs": [],
   "source": [
    "# Matrixes for plotting\n",
    "\n",
    "def get_propagating_air(z_length: float) -> np.array:\n",
    "    return np.array([[1, z_length], [0, 1]])\n",
    "\n",
    "def get_lens_matrix(focal_length: float) -> np.array:\n",
    "    return np.array([[1, 0], [-1/focal_length, 1]])\n",
    "\n",
    "startin_parameters = np.array([starting_beam_width, divergence_beam])\n",
    "defocus_lens = get_lens_matrix(focal_length=f1_calculated)\n",
    "focus_lens = get_lens_matrix(focal_length=f2_picked)"
   ]
  },
  {
   "cell_type": "code",
   "execution_count": 42,
   "id": "fd91a191",
   "metadata": {},
   "outputs": [],
   "source": [
    "vector_defocus = get_propagating_air(z1).dot(startin_parameters)\n",
    "vector_focus = get_propagating_air(d).dot(defocus_lens.dot(vector_defocus))\n",
    "vector_entrance = get_propagating_air(z2).dot(focus_lens.dot(vector_focus))"
   ]
  },
  {
   "cell_type": "code",
   "execution_count": 50,
   "id": "bdedc50b",
   "metadata": {},
   "outputs": [
    {
     "data": {
      "image/png": "[encoded data removed]",
      "text/plain": [
       "<Figure size 640x480 with 1 Axes>"
      ]
     },
     "metadata": {},
     "output_type": "display_data"
    }
   ],
   "source": [
    "starting_z = 0\n",
    "starting_y = starting_beam_width\n",
    "i = 1\n",
    "\n",
    "for x, y in zip(\n",
    "    [z1, d, z2],\n",
    "    [vector_defocus, vector_focus, vector_entrance]\n",
    "):\n",
    "    end_z = starting_z + x\n",
    "    end_y = float(y[0])\n",
    "    \n",
    "    xs = np.linspace(starting_z, end_z, 100)\n",
    "    ys = np.linspace(starting_y, end_y, 100)\n",
    "    \n",
    "    plt.fill_between(x=xs, y1=ys * 1e3, y2=-ys * 1e3, color=\"Red\", label=\"Infrared Laser\" if i == 1 else None)\n",
    "    \n",
    "    i += 1\n",
    "    starting_z = end_z\n",
    "    starting_y = end_y\n",
    "\n",
    "    \n",
    "lens_radius = 0.0135 * 1e3 # m\n",
    "\n",
    "plt.plot([z1, z1], [-lens_radius, lens_radius], color=\"black\", label=\"Lens 1\")\n",
    "\n",
    "plt.plot([z1 + d, z1 + d], [-lens_radius, lens_radius], color=\"black\", linestyle=\"--\", label=\"Lens 2\")\n",
    "\n",
    "plt.ylabel('Beam width [mm]')\n",
    "plt.legend()\n",
    "plt.xlabel('z [m]')    \n",
    "plt.grid()\n",
    "plt.show()"
   ]
  },
  {
   "cell_type": "code",
   "execution_count": null,
   "id": "3e914738",
   "metadata": {},
   "outputs": [],
   "source": []
  }
 ],
 "metadata": {
  "kernelspec": {
   "display_name": "Python 3",
   "language": "python",
   "name": "python3"
  },
  "language_info": {
   "codemirror_mode": {
    "name": "ipython",
    "version": 3
   },
   "file_extension": ".py",
   "mimetype": "text/x-python",
   "name": "python",
   "nbconvert_exporter": "python",
   "pygments_lexer": "ipython3",
   "version": "3.8.8"
  }
 },
 "nbformat": 4,
 "nbformat_minor": 5
}
