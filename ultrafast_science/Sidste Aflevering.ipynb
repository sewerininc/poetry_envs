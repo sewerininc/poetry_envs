{
 "cells": [
  {
   "cell_type": "code",
   "execution_count": 1,
   "id": "2ed72107",
   "metadata": {},
   "outputs": [],
   "source": [
    "import numpy as np \n",
    "from scipy.integrate import quad \n",
    "import os\n",
    "import matplotlib.pyplot as plt\n",
    "import sympy as smp\n",
    "from mpl_toolkits import mplot3d"
   ]
  },
  {
   "cell_type": "code",
   "execution_count": 32,
   "id": "a15042af",
   "metadata": {},
   "outputs": [],
   "source": [
    "def phi_0(k: np.array) -> float:\n",
    "    k_length = np.sqrt(k[0]**2 + k[1]**2 + k[2]**2)\n",
    "    # hydrogen_100 = 1 / (np.sqrt(np.pi) * c.a0.value**(3/2)) * np.exp(-r_size / c.a0.value)\n",
    "    # tot_phi_0 = 1 / (2 * np.pi)**(3/2)\n",
    "    solution = 2 ** (3/2) / np.pi / (1 + k_length**2)**2\n",
    "    return solution\n",
    "\n",
    "\n",
    "def A_x(t, T, w, phase, eplison, A_0) -> float:\n",
    "    val = A_0 / np.sqrt(1 + eplison**2) * np.sin(np.pi * t / T)**2 * np.cos(w * t + phase)\n",
    "    return val\n",
    "\n",
    "\n",
    "def A_y(t, T, w, phase, eplison, A_0) -> float:\n",
    "    val = A_0 / np.sqrt(1 + eplison**2) * np.sin(np.pi * t / T)**2 * eplison * np.cos(w * t + phase)\n",
    "    return val\n",
    "\n",
    "\n",
    "\n",
    "def M_SFA_VG(t_f: float, t_0: float, k: np.array, w_sim: float,\n",
    "             A_0: float, E_0: float, phase: float, epsilon: float, T_f: float, \n",
    "             #sin4cos2, sin4sin2, sin2cos, sin2sin\n",
    "            ) -> float:\n",
    "    \"\"\"\n",
    "    sin4cos2 and sin4sin2 needs to be the integral and type Piecewise \n",
    "    \"\"\"\n",
    "    \n",
    "    i = complex(0, 1)\n",
    "    \n",
    "    k_squared = k[0]**2 + k[1]**2 + k[2]**2\n",
    "    \n",
    "    # I need to make for kx and ky\n",
    "    \n",
    "    test_sin4cos2 = lambda time: np.sin(np.pi * time / T_s)**4 * np.cos(w_s * time + phase_s)**2\n",
    "    test_sin4sin2 = lambda time: np.sin(np.pi * time / T_s)**4 * np.sin(w_s * time + phase_s)**2\n",
    "    test_sin2cos = lambda time: np.sin(np.pi * time / T_s)**2 * np.cos(w_s * time + phase_s)\n",
    "    test_sin2sin = lambda time: np.sin(np.pi * time / T_s)**2 * np.sin(w_s * time + phase_s)\n",
    "    \n",
    "    # kx here first k[0]\n",
    "    if k[0] != 0:\n",
    "        i_x = lambda ts: k[0] * np.sin(np.pi * ts / T_f)**2 * np.cos(w_sim * ts + phase) * np.exp(\n",
    "            (-1) * i * E_0 * ts +\n",
    "                 # k^2\n",
    "            i * (k_squared * ts + \n",
    "                 # k*A\n",
    "                 # A_0 / np.sqrt(1 + epsilon**2) * (k[0] * sin2cos.subs({t: ts}).evalf() +  \n",
    "                 #                                 k[1] * epsilon * sin2sin.subs({t: ts}).evalf()\n",
    "                 #                                ) + \n",
    "                 A_0 / np.sqrt(1 + epsilon**2) * (k[0] * quad(test_sin2cos, 0, ts, epsabs=1e-3, \n",
    "                                                              full_output=False)[0] +\n",
    "                                                  k[1] * epsilon * quad(test_sin2sin, 0, ts, epsabs=1e-3,\n",
    "                                                                        full_output=False)[0]\n",
    "                                                 ) + \n",
    "                 # A ** 2\n",
    "                 # A_0**2 / (1 + epsilon**2) * (sin4cos2.subs({t: ts}).evalf() +\n",
    "                 #                             epsilon**2 * sin4sin2.subs({t: ts}).evalf()\n",
    "                 #                            )\n",
    "                 A_0**2 / (1 + epsilon**2) * (quad(test_sin4cos2, 0, ts, epsabs=1e-3, full_output=False)[0] +\n",
    "                                              epsilon**2 * quad(test_sin4sin2, 0, ts, epsabs=1e-3,\n",
    "                                                                full_output=False)[0]\n",
    "                                             )\n",
    "                )\n",
    "        )\n",
    "        sol_large_x = quad(i_x, t_0, t_f, epsabs=1e-3, full_output=False)\n",
    "    else:\n",
    "        sol_large_x = [0, 0]\n",
    "    \n",
    "    # ky here first k[1]\n",
    "    if k[1] != 0:\n",
    "        i_y = lambda ts: k[1] * np.sin(np.pi * ts / T_f)**2 * epsilon * np.sin(w_sim * ts + phase) * np.exp(\n",
    "            (-1) * i * E_0 * ts +\n",
    "                 # k^2\n",
    "            i * (k_squared * ts + \n",
    "                 # k*A\n",
    "                 # A_0 / np.sqrt(1 + epsilon**2) * (k[0] * sin2cos.subs({t: ts}).evalf() +  \n",
    "                 #                                 k[1] * epsilon * sin2sin.subs({t: ts}).evalf()\n",
    "                 #                                ) + \n",
    "                 A_0 / np.sqrt(1 + epsilon**2) * (k[0] * quad(test_sin2cos, 0, ts, epsabs=1e-3, \n",
    "                                                              full_output=False)[0] +\n",
    "                                                  k[1] * epsilon * quad(test_sin2sin, 0, ts, epsabs=1e-3,\n",
    "                                                                        full_output=False)[0]\n",
    "                                                 ) + \n",
    "                 # A ** 2\n",
    "                 # A_0**2 / (1 + epsilon**2) * (sin4cos2.subs({t: ts}).evalf() +\n",
    "                 #                             epsilon**2 * sin4sin2.subs({t: ts}).evalf()\n",
    "                 #                            )\n",
    "                 A_0**2 / (1 + epsilon**2) * (quad(test_sin4cos2, 0, ts, epsabs=1e-3, full_output=False)[0] +\n",
    "                                              epsilon**2 * quad(test_sin4sin2, 0, ts, epsabs=1e-3,\n",
    "                                                                full_output=False)[0]\n",
    "                                             )\n",
    "                )\n",
    "        )\n",
    "        sol_large_y = quad(i_y, t_0, t_f, epsabs=1e-3, full_output=False)\n",
    "    else:\n",
    "        sol_large_y = [0, 0]\n",
    "    \n",
    "    \n",
    "    full_integral =  A_0 / np.sqrt(1 + epsilon**2) * (sol_large_y[0] + sol_large_x[0])\n",
    "    \n",
    "    M = (-1) * i * phi_0(k) * full_integral\n",
    "    \n",
    "    return M\n",
    "    \n",
    "    \n",
    "def dp_dk(M: complex) -> float:\n",
    "    return M.real**2 + M.imag**2\n",
    "    "
   ]
  },
  {
   "cell_type": "markdown",
   "id": "ec13cde4",
   "metadata": {},
   "source": [
    "### Standard values"
   ]
  },
  {
   "cell_type": "code",
   "execution_count": 24,
   "id": "4698e3c5",
   "metadata": {},
   "outputs": [],
   "source": [
    "I = 5e13\n",
    "convertion_I_au = 3.51e16\n",
    "I_au = I / convertion_I_au\n",
    "F_0 = np.sqrt(I_au)\n",
    "\n",
    "conversion_ev_au = 27.21\n",
    "w_800 = 1.56 / conversion_ev_au\n",
    "w_400 = w_800 * 800 / 400\n",
    "w_s = w_400\n",
    "\n",
    "A_0_s = F_0 / w_400\n",
    "\n",
    "E_0_s = -13.6 / conversion_ev_au\n",
    "\n",
    "N_s = 5\n",
    "T_C_s = 2 * np.pi / w_s\n",
    "T_s = N_s * T_C_s\n",
    "\n",
    "phase_s = 0.5\n",
    "epsilon_s = 0.5"
   ]
  },
  {
   "cell_type": "markdown",
   "id": "13f4b027",
   "metadata": {},
   "source": [
    "### Calculate the two (three) tedious (easy) integrals "
   ]
  },
  {
   "cell_type": "markdown",
   "id": "77eda413",
   "metadata": {},
   "source": [
    "t, T, w, p = smp.symbols('t, T, w, p', real=True, positive=True)"
   ]
  },
  {
   "cell_type": "markdown",
   "id": "9701b74e",
   "metadata": {},
   "source": [
    "### A(t)**2"
   ]
  },
  {
   "cell_type": "markdown",
   "id": "51ef5fbd",
   "metadata": {},
   "source": [
    "func_sin4sin2 = (smp.sin(smp.pi * t / T)**2 * smp.sin(w * t + p))**2\n",
    "func_sin4sin2"
   ]
  },
  {
   "cell_type": "markdown",
   "id": "2c81358a",
   "metadata": {},
   "source": [
    "int_sin4sin2 = smp.integrate(func_sin4sin2, (t, 0, t))"
   ]
  },
  {
   "cell_type": "markdown",
   "id": "ca4a43e2",
   "metadata": {},
   "source": [
    "simple_int_sin4sin2 = int_sin4sin2.simplify()"
   ]
  },
  {
   "cell_type": "markdown",
   "id": "8b3d899c",
   "metadata": {},
   "source": [
    "### To showcase that simplifying saves time "
   ]
  },
  {
   "cell_type": "markdown",
   "id": "7b69c0fb",
   "metadata": {},
   "source": [
    "test_time = 50"
   ]
  },
  {
   "cell_type": "markdown",
   "id": "8fa9e256",
   "metadata": {},
   "source": [
    "%time\n",
    "simple_int_sin4sin2.subs({t: test_time, w: w_s, p: phase_s, T: T_s}).evalf()"
   ]
  },
  {
   "cell_type": "markdown",
   "id": "7cb85745",
   "metadata": {},
   "source": [
    "%time\n",
    "int_sin4sin2.subs({t: test_time, w: w_s, p: phase_s, T: T_s}).evalf()"
   ]
  },
  {
   "cell_type": "markdown",
   "id": "311b1b37",
   "metadata": {},
   "source": [
    "## Which results is correct ? "
   ]
  },
  {
   "cell_type": "code",
   "execution_count": 18,
   "id": "8cbc48b9",
   "metadata": {},
   "outputs": [],
   "source": [
    "test_sin4cos2 = lambda time: np.sin(np.pi * time / T_s)**4 * np.cos(w_s * time + phase_s)**2"
   ]
  },
  {
   "cell_type": "code",
   "execution_count": 21,
   "id": "ccdbaebb",
   "metadata": {},
   "outputs": [
    {
     "name": "stdout",
     "output_type": "stream",
     "text": [
      "CPU times: total: 0 ns\n",
      "Wall time: 0 ns\n"
     ]
    },
    {
     "data": {
      "text/plain": [
       "((4.187003234483604e-07+0j), (4.6485073951037006e-21+0j))"
      ]
     },
     "execution_count": 21,
     "metadata": {},
     "output_type": "execute_result"
    }
   ],
   "source": [
    "%time\n",
    "num_sin4cos2 = quad(test_sin4cos2, 0, 3, epsabs=1e-3, full_output=False, complex_func=True)\n",
    "num_sin4cos2"
   ]
  },
  {
   "cell_type": "code",
   "execution_count": 22,
   "id": "3be5af31",
   "metadata": {},
   "outputs": [
    {
     "data": {
      "text/plain": [
       "((4.187003234483604e-07+0j), (4.6485073951037006e-21+0j))"
      ]
     },
     "execution_count": 22,
     "metadata": {},
     "output_type": "execute_result"
    }
   ],
   "source": [
    "num_sin4cos2"
   ]
  },
  {
   "cell_type": "markdown",
   "id": "0acce342",
   "metadata": {},
   "source": [
    "func_sin4cos2 = (smp.sin(smp.pi * t / T)**2 * smp.cos(w * t + p))**2\n",
    "func_sin4cos2"
   ]
  },
  {
   "cell_type": "markdown",
   "id": "7357420c",
   "metadata": {},
   "source": [
    "int_sin4cos2 = smp.integrate(func_sin4cos2, (t, 0, t))"
   ]
  },
  {
   "cell_type": "markdown",
   "id": "0a044232",
   "metadata": {},
   "source": [
    "simple_int_sin4cos2 = int_sin4cos2.simplify()"
   ]
  },
  {
   "cell_type": "markdown",
   "id": "85dacfa1",
   "metadata": {},
   "source": [
    "simple_int_sin4cos2"
   ]
  },
  {
   "cell_type": "code",
   "execution_count": null,
   "id": "bbf41d19",
   "metadata": {},
   "outputs": [],
   "source": []
  },
  {
   "cell_type": "markdown",
   "id": "2bba6083",
   "metadata": {},
   "source": [
    "### kA(t)"
   ]
  },
  {
   "cell_type": "markdown",
   "id": "844bd7e3",
   "metadata": {},
   "source": [
    "func_sin2cos = smp.sin(smp.pi * t / T)**2 * smp.cos(w * t + p)\n",
    "func_sin2cos"
   ]
  },
  {
   "cell_type": "markdown",
   "id": "6f74126a",
   "metadata": {},
   "source": [
    "int_sin2cos = smp.integrate(func_sin2cos, (t, 0, t))"
   ]
  },
  {
   "cell_type": "markdown",
   "id": "4a0ebbb9",
   "metadata": {},
   "source": [
    "simple_int_sin2cos = int_sin2cos.simplify()"
   ]
  },
  {
   "cell_type": "markdown",
   "id": "2bcc42e2",
   "metadata": {},
   "source": [
    "simple_int_sin2cos"
   ]
  },
  {
   "cell_type": "markdown",
   "id": "25339611",
   "metadata": {},
   "source": [
    "func_sin2sin = smp.sin(smp.pi * t / T)**2 * smp.sin(w * t + p)\n",
    "func_sin2sin"
   ]
  },
  {
   "cell_type": "markdown",
   "id": "26398c18",
   "metadata": {},
   "source": [
    "int_sin2sin = smp.integrate(func_sin2sin, (t, 0, t))"
   ]
  },
  {
   "cell_type": "markdown",
   "id": "96f30dc2",
   "metadata": {},
   "source": [
    "simple_int_sin2sin = int_sin2sin.simplify()"
   ]
  },
  {
   "cell_type": "markdown",
   "id": "935c0ef4",
   "metadata": {},
   "source": [
    "simple_int_sin2sin"
   ]
  },
  {
   "cell_type": "markdown",
   "id": "14babaa7",
   "metadata": {},
   "source": [
    "### Testing "
   ]
  },
  {
   "cell_type": "markdown",
   "id": "f950e1f4",
   "metadata": {},
   "source": [
    "# Evaluate all funcs before running \n",
    "test_e_sin4sin2 = simple_int_sin4sin2.subs({w: w_s, p: phase_s, T: T_s}).evalf()\n",
    "test_e_sin4cos2 = simple_int_sin4cos2.subs({w: w_s, p: phase_s, T: T_s}).evalf()\n",
    "test_e_sin2sin = simple_int_sin2sin.subs({w: w_s, p: phase_s, T: T_s}).evalf()\n",
    "test_e_sin2cos = simple_int_sin2cos.subs({w: w_s, p: phase_s, T: T_s}).evalf()"
   ]
  },
  {
   "cell_type": "code",
   "execution_count": 33,
   "id": "492067e1",
   "metadata": {},
   "outputs": [
    {
     "name": "stderr",
     "output_type": "stream",
     "text": [
      "C:\\Users\\msd\\private\\poetry_envs\\ultrafast_science\\.venv\\Lib\\site-packages\\scipy\\integrate\\_quadpack_py.py:611: ComplexWarning: Casting complex values to real discards the imaginary part\n",
      "  return _quadpack._qagse(func,a,b,args,full_output,epsabs,epsrel,limit)\n",
      "C:\\Users\\msd\\AppData\\Local\\Temp\\ipykernel_22436\\1144540066.py:64: IntegrationWarning: The maximum number of subdivisions (50) has been achieved.\n",
      "  If increasing the limit yields no improvement it is advised to analyze \n",
      "  the integrand in order to determine the difficulties.  If the position of a \n",
      "  local difficulty can be determined (singularity, discontinuity) one will \n",
      "  probably gain from splitting up the interval and calling the integrator \n",
      "  on the subranges.  Perhaps a special-purpose integrator should be used.\n",
      "  sol_large_x = quad(i_x, t_0, t_f, epsabs=1e-3, full_output=False)\n",
      "C:\\Users\\msd\\AppData\\Local\\Temp\\ipykernel_22436\\1144540066.py:93: IntegrationWarning: The maximum number of subdivisions (50) has been achieved.\n",
      "  If increasing the limit yields no improvement it is advised to analyze \n",
      "  the integrand in order to determine the difficulties.  If the position of a \n",
      "  local difficulty can be determined (singularity, discontinuity) one will \n",
      "  probably gain from splitting up the interval and calling the integrator \n",
      "  on the subranges.  Perhaps a special-purpose integrator should be used.\n",
      "  sol_large_y = quad(i_y, t_0, t_f, epsabs=1e-3, full_output=False)\n"
     ]
    }
   ],
   "source": [
    "k_test = np.array([1, 1, 0])\n",
    "\n",
    "res = M_SFA_VG(t_f=T_s, t_0=0, k=k_test, w_sim=w_s, A_0=A_0_s, E_0=E_0_s, phase=phase_s,\n",
    "         epsilon=epsilon_s, T_f=T_s)"
   ]
  },
  {
   "cell_type": "code",
   "execution_count": 34,
   "id": "cb0a2f0c",
   "metadata": {},
   "outputs": [
    {
     "data": {
      "text/plain": [
       "(0.0, -3.508321763718761e-07, -3.508321763718761e-07j)"
      ]
     },
     "execution_count": 34,
     "metadata": {},
     "output_type": "execute_result"
    }
   ],
   "source": [
    "res.real, res.imag, res"
   ]
  },
  {
   "cell_type": "code",
   "execution_count": 31,
   "id": "ae931ff0",
   "metadata": {},
   "outputs": [
    {
     "data": {
      "text/plain": [
       "(-1.2547711221570296e-07,\n",
       " -3.508321763718761e-07,\n",
       " (-1.2547711221570296e-07-3.508321763718761e-07j))"
      ]
     },
     "execution_count": 31,
     "metadata": {},
     "output_type": "execute_result"
    }
   ],
   "source": [
    "res.real, res.imag, res"
   ]
  },
  {
   "cell_type": "code",
   "execution_count": 35,
   "id": "9dbac3af",
   "metadata": {},
   "outputs": [
    {
     "data": {
      "text/plain": [
       "1.2308321597782717e-13"
      ]
     },
     "execution_count": 35,
     "metadata": {},
     "output_type": "execute_result"
    }
   ],
   "source": [
    "dp_dk(res)"
   ]
  },
  {
   "cell_type": "code",
   "execution_count": 5,
   "id": "697aadcf",
   "metadata": {},
   "outputs": [],
   "source": [
    "ts = np.linspace(0, T_s, 1000)\n",
    "Ax_vals = [A_x(t, T_s, w_s, phase_s, epsilon_s, A_0_s) for t in ts]\n",
    "Ay_vals = [A_y(t, T_s, w_s, phase_s, epsilon_s, A_0_s) for t in ts]\n",
    "\n",
    "all_vals = [[A_x(t, T_s, w_s, phase_s, epsilon_s, A_0_s), \n",
    "             A_y(t, T_s, w_s, phase_s, epsilon_s, A_0_s)] for t in ts]"
   ]
  },
  {
   "cell_type": "code",
   "execution_count": 6,
   "id": "67160ac8",
   "metadata": {},
   "outputs": [
    {
     "data": {
      "image/png": "[encoded data removed]",
      "text/plain": [
       "<Figure size 640x480 with 1 Axes>"
      ]
     },
     "metadata": {},
     "output_type": "display_data"
    }
   ],
   "source": [
    "ax = plt.axes(projection='3d')\n",
    "# ax.scatter3D(Ax_vals, Ay_vals, ts, c=ts, cmap='Greens')\n",
    "ax.plot3D(Ax_vals, Ay_vals, ts, 'grey')\n",
    "plt.show()"
   ]
  },
  {
   "cell_type": "code",
   "execution_count": 39,
   "id": "a158a04c",
   "metadata": {},
   "outputs": [
    {
     "name": "stderr",
     "output_type": "stream",
     "text": [
      "C:\\Users\\msd\\AppData\\Local\\Temp\\ipykernel_22436\\1144540066.py:64: IntegrationWarning: The integral is probably divergent, or slowly convergent.\n",
      "  sol_large_x = quad(i_x, t_0, t_f, epsabs=1e-3, full_output=False)\n",
      "C:\\Users\\msd\\AppData\\Local\\Temp\\ipykernel_22436\\1144540066.py:93: IntegrationWarning: The integral is probably divergent, or slowly convergent.\n",
      "  sol_large_y = quad(i_y, t_0, t_f, epsabs=1e-3, full_output=False)\n",
      "\n",
      "KeyboardInterrupt\n",
      "\n"
     ]
    }
   ],
   "source": [
    "length = 81\n",
    "start_val = - 4\n",
    "end_val = 4\n",
    "kxs = np.linspace(start_val, end_val, length)\n",
    "kys = np.linspace(start_val, end_val, length)\n",
    "\n",
    "kx_plot = []\n",
    "ky_plot = []\n",
    "values_plot = []\n",
    "for i, kx in enumerate(kxs):\n",
    "    values = [dp_dk(M_SFA_VG(t_f=T_s, t_0=0, k=np.array([kx, ky, 0]), w_sim=w_s, A_0=A_0_s, E_0=E_0_s, \n",
    "                       phase=phase_s,\n",
    "                       epsilon=0.5, T_f=T_s)) for ky in kys]\n",
    "    print(i)\n",
    "    kx_plot.extend(kx * np.ones(length))\n",
    "    ky_plot.extend(kys)\n",
    "    values_plot.extend(values)\n",
    "        "
   ]
  },
  {
   "cell_type": "code",
   "execution_count": 38,
   "id": "1f010769",
   "metadata": {},
   "outputs": [
    {
     "data": {
      "text/plain": [
       "<matplotlib.colorbar.Colorbar at 0x193ec9a9e90>"
      ]
     },
     "execution_count": 38,
     "metadata": {},
     "output_type": "execute_result"
    },
    {
     "data": {
      "image/png": "[encoded data removed]",
      "text/plain": [
       "<Figure size 640x480 with 2 Axes>"
      ]
     },
     "metadata": {},
     "output_type": "display_data"
    }
   ],
   "source": [
    "# Lav et farvekodet plot\n",
    "fig, ax = plt.subplots()\n",
    "im = ax.scatter(kx_plot, ky_plot, c=values_plot)\n",
    "\n",
    "# Vend akserne (det er et Kiel diagram), sæt ticks korrekt og titler på\n",
    "ax.tick_params(direction=\"inout\", right=True, top=True)\n",
    "ax.set(xlabel=r\"$k_x$\", ylabel=r\"$k_y$\")\n",
    "\n",
    "# Indsæt colorbar så man kan se hvad der foregår\n",
    "fig.colorbar(im, ax=ax, label=r'$|M^{SFA, VG}_{k, 0}|^2$')\n"
   ]
  },
  {
   "cell_type": "code",
   "execution_count": null,
   "id": "9546eb86",
   "metadata": {},
   "outputs": [],
   "source": []
  },
  {
   "cell_type": "code",
   "execution_count": 12,
   "id": "f1ed0d79",
   "metadata": {},
   "outputs": [
    {
     "data": {
      "text/plain": [
       "0.32915874037472703"
      ]
     },
     "execution_count": 12,
     "metadata": {},
     "output_type": "execute_result"
    }
   ],
   "source": [
    "A_0_s"
   ]
  },
  {
   "cell_type": "code",
   "execution_count": null,
   "id": "0ebdff09",
   "metadata": {},
   "outputs": [],
   "source": []
  },
  {
   "cell_type": "code",
   "execution_count": null,
   "id": "107b4d6d",
   "metadata": {},
   "outputs": [],
   "source": []
  },
  {
   "cell_type": "code",
   "execution_count": null,
   "id": "4b8a0e03",
   "metadata": {},
   "outputs": [],
   "source": []
  }
 ],
 "metadata": {
  "kernelspec": {
   "display_name": "ultrafast_env",
   "language": "python",
   "name": "ultrafast_env"
  },
  "language_info": {
   "codemirror_mode": {
    "name": "ipython",
    "version": 3
   },
   "file_extension": ".py",
   "mimetype": "text/x-python",
   "name": "python",
   "nbconvert_exporter": "python",
   "pygments_lexer": "ipython3",
   "version": "3.11.7"
  }
 },
 "nbformat": 4,
 "nbformat_minor": 5
}
