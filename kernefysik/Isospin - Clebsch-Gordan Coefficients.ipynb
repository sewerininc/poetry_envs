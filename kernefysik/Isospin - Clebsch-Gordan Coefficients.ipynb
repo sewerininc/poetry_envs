{
 "cells": [
  {
   "cell_type": "code",
   "execution_count": 11,
   "id": "7b529de7",
   "metadata": {},
   "outputs": [],
   "source": [
    "from sympy.physics.quantum.cg import CG\n",
    "from sympy import S"
   ]
  },
  {
   "cell_type": "markdown",
   "id": "8fdef4bb",
   "metadata": {},
   "source": [
    "Look here -> https://docs.sympy.org/latest/modules/physics/quantum/cg.html"
   ]
  },
  {
   "cell_type": "code",
   "execution_count": 23,
   "id": "6941136d",
   "metadata": {},
   "outputs": [
    {
     "data": {
      "text/latex": [
       "$\\displaystyle 0$"
      ],
      "text/plain": [
       "0"
      ]
     },
     "execution_count": 23,
     "metadata": {},
     "output_type": "execute_result"
    }
   ],
   "source": [
    "cg = CG(S(3)/2, S(3)/2, S(1)/2, -S(1)/2, 1/2, 3/2)\n",
    "cg.doit()"
   ]
  },
  {
   "cell_type": "code",
   "execution_count": 47,
   "id": "62a1a9ea",
   "metadata": {},
   "outputs": [
    {
     "data": {
      "text/latex": [
       "$\\displaystyle 0.0476190476190476 \\sqrt{105}$"
      ],
      "text/plain": [
       "0.0476190476190476*sqrt(105)"
      ]
     },
     "execution_count": 47,
     "metadata": {},
     "output_type": "execute_result"
    }
   ],
   "source": [
    "cg = CG(j1=S(5)/2, m1=-S(1)/2, j2=S(2), m2=S(1), j3=3/2, m3=1/2)\n",
    "cg.doit()"
   ]
  },
  {
   "cell_type": "code",
   "execution_count": null,
   "id": "66005f36",
   "metadata": {},
   "outputs": [],
   "source": []
  }
 ],
 "metadata": {
  "kernelspec": {
   "display_name": "kernefysik",
   "language": "python",
   "name": "kernefysik"
  },
  "language_info": {
   "codemirror_mode": {
    "name": "ipython",
    "version": 3
   },
   "file_extension": ".py",
   "mimetype": "text/x-python",
   "name": "python",
   "nbconvert_exporter": "python",
   "pygments_lexer": "ipython3",
   "version": "3.12.1"
  }
 },
 "nbformat": 4,
 "nbformat_minor": 5
}
