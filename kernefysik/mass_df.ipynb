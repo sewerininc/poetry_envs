{
 "cells": [
  {
   "cell_type": "code",
   "execution_count": 3,
   "id": "2fc77d4c",
   "metadata": {},
   "outputs": [
    {
     "name": "stderr",
     "output_type": "stream",
     "text": [
      "/var/folders/cz/sq8xdzr55730qy6v3g8xdm8r0000gn/T/ipykernel_40023/1492400551.py:1: DeprecationWarning: \n",
      "Pyarrow will become a required dependency of pandas in the next major release of pandas (pandas 3.0),\n",
      "(to allow more performant data types, such as the Arrow string type, and better interoperability with other libraries)\n",
      "but was not found to be installed on your system.\n",
      "If this would cause problems for you,\n",
      "please provide us feedback at https://github.com/pandas-dev/pandas/issues/54466\n",
      "        \n",
      "  import pandas as pd\n"
     ]
    }
   ],
   "source": [
    "import pandas as pd\n",
    "import matplotlib.pyplot as plt"
   ]
  },
  {
   "cell_type": "code",
   "execution_count": 4,
   "id": "75aaf63c",
   "metadata": {},
   "outputs": [],
   "source": [
    "def correct_string(line: str, A_before: int) -> (list, int):\n",
    "    \"\"\"\n",
    "    Turns one line of the string into a list with values for all these cols (15)\n",
    "    'N', 'Z', 'A', 'El', 'Orig', 'Mass Excess (keV)', 'ME Unc',\n",
    "       'Binding Energy/A (keV)', 'BE/A Unc', 'Beta-decay Type',\n",
    "       'Beta-decay Energy (keV)', 'BE Unc', 'N Protons',\n",
    "       'Atomic Mass (micro-u)', 'AM Unc'\n",
    "    \"\"\"\n",
    "    N = int(line[2:9].strip())\n",
    "    Z = int(line[10:14].strip())\n",
    "    \n",
    "    A_test = line[15:19].strip()\n",
    "    if A_test == \"\":  # Can be empty\n",
    "        A = A_before\n",
    "    else:\n",
    "        A = int(A_test)\n",
    "    \n",
    "    El = line[20:22].strip()\n",
    "    Orig = line[23:27].strip()\n",
    "    mass_excess = line[28:41].strip()  # missing convertion for # is str for now\n",
    "    mass_excess_unc = line[42:52].strip() # missing convertion for # is str for now\n",
    "    b_energya = line[53:63].strip() # missing convertion for # is str for now\n",
    "    b_energya_unc = line[63:72].strip() # missing convertion for # is str for now\n",
    "    b_type = line[72:75].strip()\n",
    "    b_energy = line[75:86].strip() # missing convertion for # and * is str for now\n",
    "    b_energy_unc = line[87:95].strip() # missing convertion for # and * is str for now\n",
    "    n_protons = int(line[96:99].strip())\n",
    "    a_mass = line[99:112].strip() # missing convertion for # and * is str for now\n",
    "    am_unc = line[112:].strip() # missing convertion for # and * is str for now\n",
    "    \n",
    "    output_values = [\n",
    "        N, Z, A, El, Orig, mass_excess, mass_excess_unc, b_energya, b_energya_unc,\n",
    "        b_type, b_energy, b_energy_unc, n_protons, a_mass, am_unc\n",
    "    ]\n",
    "    return output_values, A\n",
    "    "
   ]
  },
  {
   "cell_type": "code",
   "execution_count": 5,
   "id": "61fda6a2",
   "metadata": {},
   "outputs": [],
   "source": [
    "file1 = open('massround.mas20.txt', 'r')\n",
    "Lines = file1.readlines()"
   ]
  },
  {
   "cell_type": "code",
   "execution_count": 6,
   "id": "088a1dab",
   "metadata": {},
   "outputs": [],
   "source": [
    "pd_cols = Lines[32].rsplit()[1:]\n",
    "df = pd.DataFrame(columns=pd_cols)\n",
    "df = df.rename(columns={\"Mass\": \"Mass Excess (keV)\", \"Excess\": \"ME Unc\", \"Binding\": \"Binding Energy/A (keV)\",\n",
    "                  \"Energy/A\": \"BE/A Unc\", \"Beta-decay\": \"Beta-decay Type\",\n",
    "                   \"Energy\": \"Beta-decay Energy (keV)\", \"Atomic\": \"BE Unc\"})\n",
    "df = df.iloc[:,:-1]\n",
    "df[\"N Protons\"] = None\n",
    "df[\"Atomic Mass (micro-u)\"] = None\n",
    "df[\"AM Unc\"] = None"
   ]
  },
  {
   "cell_type": "code",
   "execution_count": 7,
   "id": "9c2ab258",
   "metadata": {},
   "outputs": [],
   "source": [
    "line_number = 34\n",
    "a_before = 0\n",
    "\n",
    "for i in range(len(Lines[34:])):\n",
    "    try:\n",
    "        value_list, a_temp = correct_string(Lines[line_number + i], a_before)\n",
    "        a_before = a_temp  # This values sometimes does not change so it is saved between loops\n",
    "        df.loc[i] = value_list\n",
    "    except Exception as e:\n",
    "        print(i, e)"
   ]
  },
  {
   "cell_type": "code",
   "execution_count": 8,
   "id": "f0b6e059",
   "metadata": {},
   "outputs": [
    {
     "name": "stdout",
     "output_type": "stream",
     "text": [
      "Now you have the file massround.mas20.txt in the pd.DataFrame() -> df\n"
     ]
    }
   ],
   "source": [
    "print(\"Now you have the file massround.mas20.txt in the pd.DataFrame() -> df\")"
   ]
  }
 ],
 "metadata": {
  "kernelspec": {
   "display_name": "kernefysik_env",
   "language": "python",
   "name": "kernefysik_env"
  },
  "language_info": {
   "codemirror_mode": {
    "name": "ipython",
    "version": 3
   },
   "file_extension": ".py",
   "mimetype": "text/x-python",
   "name": "python",
   "nbconvert_exporter": "python",
   "pygments_lexer": "ipython3",
   "version": "3.12.1"
  }
 },
 "nbformat": 4,
 "nbformat_minor": 5
}
