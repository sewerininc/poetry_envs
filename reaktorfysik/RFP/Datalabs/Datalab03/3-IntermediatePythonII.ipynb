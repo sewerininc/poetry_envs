{
 "cells": [
  {
   "cell_type": "markdown",
   "metadata": {},
   "source": [
    "# Intermediate Python II\n",
    "\n",
    "Please indicate your name below, since you will need to submit this notebook completed latest the day after the datalab.\n",
    "\n",
    "Don't forget to save your progress during the datalab to avoid any loss due to crashes."
   ]
  },
  {
   "cell_type": "code",
   "execution_count": 1,
   "metadata": {},
   "outputs": [],
   "source": [
    "name='mikke'"
   ]
  },
  {
   "cell_type": "markdown",
   "metadata": {},
   "source": [
    "During the previous datalab we learnt about the basic principles of numpy, matplotlib, scipy, and reviewed how to perform pattern searh with regular expressions. \n",
    "\n",
    "In this datalab we progress further and learn about several things. \n",
    "\n",
    "1. We will review how to write a class in python (our first step towards object oriented programming). Although you will not be required to build classes during this course,  later when we will use the OpenMC Monte Carlo particle transport code, it will be adventageous if you have a basic understanding of classes. Also most python packages provide an API where to understand classes is inevitable.\n",
    "\n",
    "2. There are several data formats or markup languages to store data, here we will get acquinted with three which is often used in nuclear engineering software and for nuclear data:\n",
    "    - csv: comma separated values\n",
    "    - XML: eXtensible Markup Language\n",
    "    - JSON: JavaScript Object Notation\n",
    "\n",
    "3. We will learn about an other mainstream libary: pandas, which is often used for data analysis. The reason we will need some basic idea about this package is that we will later extract OpenMC results as pandas DataFrames.\n",
    "\n",
    "4. We will learn how to use python as an internet browser!\n",
    "5. Finally we review how to install and use not mainstream python packages. \n",
    "\n",
    "So let's get started.\n",
    "\n",
    "## Class\n",
    "\n",
    "A Class is a collection of data and functionality. It allows us to define a new type of object, and after the Class definition we can create new instances of that class. An instance will have **attributes** (variables describing the state of the instance) and **methods**, functions which allow us to modify the state of the instance.\n",
    "\n",
    "As with everything else in Python, there is no \"best\" way to define and use classes, here we are presenting only one general solution, and we are omitting the demonstration of several functionality (for example inheritence). We however encourage you to further develop your understanding with reading the official [python site](https://docs.python.org/3/tutorial/classes.html).\n",
    "\n",
    "Let's try to make this more clear with an example. Consider that we are writing a program, in which we often define materials (for example for a reactor physics application). The materials are being described by the nuclide content, and the density (attributes), and it has some methods to modify these attributes. We can define a class with the `class` keyword, which is then followed by statements. A class can have a special method `__init__`, which will be executed when an instance of the class is created, to create an initial state. Our class also has an other special method `__repr__`, which returns the object representation in string format. None of this is mandatory. Besides these we define three methods to add nuclides, set the density and to convert the density to other units. One could access and update the state of the instance directly with for example `myMaterial.density = 10.0`, but it is often better programming practice to define a method to do such updates. Notice that all the methods have a parameter `self`, this is how you refer to the instance itself, and when you call `myMaterial.set_density(10.0)`, then infact `myMaterial` is also an input of the method. "
   ]
  },
  {
   "cell_type": "code",
   "execution_count": 2,
   "metadata": {},
   "outputs": [],
   "source": [
    "import radioactivedecay as rd\n",
    "\n",
    "class Material:\n",
    "    \"\"\"A class used to represent a Material.\n",
    "    Parameters\n",
    "    ----------\n",
    "    nuclides : dict\n",
    "      Dictionary to store nuclides. Keys nuclide identifiers, values atomic fraction.\n",
    "    density : dict\n",
    "      Density of material in g/cm3\n",
    "    Attributes\n",
    "    ----------\n",
    "    nuclides : dict\n",
    "        Dictionary to store nuclides. Keys nuclide identifiers, values atomic fraction.\n",
    "    density : float\n",
    "        Density of material in g/cm3\n",
    "    \"\"\"\n",
    "\n",
    "    def __init__(self, nuclides={},density=None, main_nuclide=\"\"):\n",
    "        \"\"\"\n",
    "        \n",
    "        Function to initialize an instance of Material()\n",
    "        \n",
    "        \"\"\"\n",
    "        self.nuclides = nuclides\n",
    "        self.density = density\n",
    "        self.package = rd.Nuclide(main_nuclide)\n",
    "        \n",
    "    def __repr__(self):\n",
    "        if self.density is None:\n",
    "            return \"This is a material with no specified density\"\n",
    "        else:\n",
    "            return \"This is a material with density %.2f\" %self.density\n",
    "\n",
    "    def add_nuclide(self, symbol, fraction):\n",
    "        \"\"\"The method adds or updates the atomic fraction of a nuclide.\n",
    "        \n",
    "        Parameters\n",
    "        ----------\n",
    "        symbol : str\n",
    "            Symbol of the nuclide (eg. U-238)\n",
    "        fraction : float\n",
    "            Atomic fraction of the nuclide.\n",
    "        \"\"\"\n",
    "        self.nuclides[symbol]=fraction\n",
    "        \n",
    "    def set_density(self, density=None):\n",
    "        \"\"\"Method to set the density of the Material.\n",
    "        \n",
    "        Parameters\n",
    "        ----------\n",
    "        density : float\n",
    "            density of material in g/cm2\n",
    "        \"\"\"\n",
    "        self.density=density\n",
    "        \n",
    "    def get_density(self,unit='g/cm3'):\n",
    "        \"\"\"Method to get the density of the instance.\"\"\"\n",
    "        if self.density is None:\n",
    "            raise ValueError('Density is not specified yet')\n",
    "        elif unit=='g/cm3':\n",
    "            return self.density\n",
    "        elif unit=='kg/m3':\n",
    "            return self.density*1000\n",
    "        else:\n",
    "            ValueError('Only g/cm3 and kg/m3 are available')\n",
    "        \n",
    "    \n",
    "        "
   ]
  },
  {
   "cell_type": "markdown",
   "metadata": {},
   "source": [
    "Let's create an instance of our `Material()` class."
   ]
  },
  {
   "cell_type": "code",
   "execution_count": 3,
   "metadata": {},
   "outputs": [],
   "source": [
    "iron=Material(main_nuclide=\"al-27\")"
   ]
  },
  {
   "cell_type": "code",
   "execution_count": 4,
   "metadata": {},
   "outputs": [
    {
     "data": {
      "text/plain": [
       "This is a material with no specified density"
      ]
     },
     "execution_count": 4,
     "metadata": {},
     "output_type": "execute_result"
    }
   ],
   "source": [
    "iron"
   ]
  },
  {
   "cell_type": "markdown",
   "metadata": {},
   "source": [
    "But we can create an Material instance by immediately specifying the atomic percentages of nuclides and the density."
   ]
  },
  {
   "cell_type": "code",
   "execution_count": 5,
   "metadata": {},
   "outputs": [],
   "source": [
    "aluminium = Material({'Al27': 0.5, 'Al25': 0.5},density=3.6, main_nuclide='Al27')"
   ]
  },
  {
   "cell_type": "code",
   "execution_count": 6,
   "metadata": {},
   "outputs": [
    {
     "data": {
      "text/plain": [
       "26.981538408"
      ]
     },
     "execution_count": 6,
     "metadata": {},
     "output_type": "execute_result"
    }
   ],
   "source": [
    "aluminium.package.atomic_mass"
   ]
  },
  {
   "cell_type": "code",
   "execution_count": 7,
   "metadata": {},
   "outputs": [
    {
     "data": {
      "text/plain": [
       "3600.0"
      ]
     },
     "execution_count": 7,
     "metadata": {},
     "output_type": "execute_result"
    }
   ],
   "source": [
    "aluminium.get_density(unit='kg/m3')"
   ]
  },
  {
   "cell_type": "code",
   "execution_count": 8,
   "metadata": {},
   "outputs": [],
   "source": [
    "iron.set_density(6.3)"
   ]
  },
  {
   "cell_type": "code",
   "execution_count": 9,
   "metadata": {},
   "outputs": [
    {
     "data": {
      "text/plain": [
       "This is a material with density 6.30"
      ]
     },
     "execution_count": 9,
     "metadata": {},
     "output_type": "execute_result"
    }
   ],
   "source": [
    "iron"
   ]
  },
  {
   "cell_type": "code",
   "execution_count": 10,
   "metadata": {},
   "outputs": [],
   "source": [
    "iron.add_nuclide('Fe55',0.02)"
   ]
  },
  {
   "cell_type": "code",
   "execution_count": 11,
   "metadata": {},
   "outputs": [
    {
     "data": {
      "text/plain": [
       "{'Fe55': 0.02}"
      ]
     },
     "execution_count": 11,
     "metadata": {},
     "output_type": "execute_result"
    }
   ],
   "source": [
    "iron.nuclides"
   ]
  },
  {
   "cell_type": "markdown",
   "metadata": {},
   "source": [
    "That's about what you have to know about classes for this course.\n",
    "\n",
    "Now let's move onto an other topic and review various data formats often used to store data.\n",
    "\n",
    "## Data formats\n",
    "\n",
    "When writing a software which is intended to produce data we often want to export it in some format. Some legacy nuclear engineering codes would produce lengthy ASCII files, which are easy to read as a human, but as we saw before, might be tricky to read with a computer. To overcome this, it is better to export our data into standardized formats which are easy to interpret during post-processing of the data. Of course there are plenty of such formats to pick from, and we do not intend to review all of them. Notably, we are not going to look into the [hierarchical data format (HDF)](https://en.wikipedia.org/wiki/Hierarchical_Data_Format) which became rather popular recently to store large amount of data (and as we will see later openMC also exports all data into hdf5 files). \n",
    "\n",
    "We will however take a look at some \"simpler\" (ie. readable by humans) formats: like JSON, csv, XML, which are often used in nuclear engineering applications. Along this notebook you will find three example files named '03-sample.json','03-sample.xml' and '03-sample.csv'. Although we will look into how to read these files with Python, it is also important that you just visually inspect them with a text editor.\n",
    "\n",
    "The power of these standardized formats is that most of the programming languages provide readily available libraries and functions to parse these formats. So it is simple to transfer data between various applications.\n",
    "\n",
    "### JSON\n",
    "\n",
    "JSON stands for JavaScript Object Notation, and is a standard file format which uses human-readable text to store data, and consists of attribute-value pairs and arrays. Remember dictionaries and lists? Dictionaries were attribute (key)-value pairs, and lists were arrays. So although JSON originates from JavaScript, in fact the syntax of the JSON format resembles the syntax of Python. \n",
    "\n",
    "Just to appreciate even more why is it worth learning about JSON: after this lecture you will be well prepared to write your own scripts to visualize various aspects of [Covid-data](https://covid.ourworldindata.org/data/owid-covid-data.json), what others might not have thought of yet.\n",
    "\n",
    "The file '03-sample.json' contains the results of a calculation where a piece of iron was irradiated with 14 MeV neutrons (the file was created with an activation and transmutation code called FISPACT-II, later during the course we will learn more about transmutation calculations). If we review the content of the file, we see that indeed it very much looks like a dictionary with keys called `run_data` and `inventory_data`, and stores lists and nested dictionaries as values.\n",
    "\n",
    "```json\n",
    "    {\n",
    "      \"run_data\": {\n",
    "        \"timestamp\": \"16:03:07 20 April 2021\",\n",
    "        \"run_name\": \"* Iron irradiation\",\n",
    "        \"flux_name\": \"Neutron generator Spectrum\"\n",
    "      },\n",
    "      \"inventory_data\": [\n",
    "        {\n",
    "          \"irradiation_time\": 0.0E+0,\n",
    "          \"cooling_time\": 0.0E+0,\n",
    "          \"flux\": 0.21733749239999996E+7,\n",
    "          \"total_heat\": 0.0E+0,\n",
    "          \"alpha_heat\": 0.0E+0,\n",
    "          \"beta_heat\": 0.0E+0,\n",
    "          \"gamma_heat\": 0.0E+0,\n",
    "          \"ingestion_dose\": 0.0E+0,\n",
    "          \"inhalation_dose\": 0.0E+0,\n",
    "          \"dose_rate\": {\n",
    "            \"type\": \"\",\n",
    "            \"distance\": 0.0E+0,\n",
    "            \"mass\": 0.0E+0,\n",
    "            \"dose\": 0.0E+0\n",
    "          },\n",
    "          \"nuclides\": [\n",
    "            {\n",
    "              \"element\": \"Fe\",\n",
    "              \"isotope\": 54,\n",
    "              \"state\": \"\",\n",
    "              \"half_life\": 0.0E+0,\n",
    "          ...\n",
    "```\n",
    "\n",
    "So let's go ahead and open this file! Hopefully you are not going to be surprised that for this we are going to use the python package called `json`."
   ]
  },
  {
   "cell_type": "code",
   "execution_count": 12,
   "metadata": {},
   "outputs": [],
   "source": [
    "import json\n",
    "with open('03-sample.json') as json_file:\n",
    "    inventory = json.load(json_file)"
   ]
  },
  {
   "cell_type": "markdown",
   "metadata": {},
   "source": [
    "Wow, that was it! It was as simple as reading a file with `read()`. Now we have a dictionary storing everything. Pretty cool, huh? \n",
    "\n",
    "Shall we take a look at the content?"
   ]
  },
  {
   "cell_type": "code",
   "execution_count": 13,
   "metadata": {},
   "outputs": [
    {
     "data": {
      "text/plain": [
       "dict_keys(['run_data', 'inventory_data'])"
      ]
     },
     "execution_count": 13,
     "metadata": {},
     "output_type": "execute_result"
    }
   ],
   "source": [
    "inventory.keys()"
   ]
  },
  {
   "cell_type": "markdown",
   "metadata": {},
   "source": [
    "I will actually tell you that `inventory['inventory_data']` is a list containing some data (activity of the irradiated material, and the nuclides in the material) at certain irradiation steps. So you of course have to know the basic structure of your JSON file to make sense out of it, and reach the content you really want to work with. And if it is a large amount data nested deeply, this takes some thinking (but the good news is that you are university students, so thinking is part of the deal!). And you might end up with some pretty nasty looking indexing. \n",
    "\n",
    "For example this is the mass of Fe-54 after 7200 s (90 mins) of irradiation. One needs to review first the JSON file (either with a script or by reading it) to know that the first index goes through the time steps, and the second goes through the nuclides."
   ]
  },
  {
   "cell_type": "code",
   "execution_count": 14,
   "metadata": {},
   "outputs": [
    {
     "data": {
      "text/plain": [
       "2.275567428301899e-18"
      ]
     },
     "execution_count": 14,
     "metadata": {},
     "output_type": "execute_result"
    }
   ],
   "source": [
    "#           index 4 belongs to 7200 s   index 19 is Fe-54\n",
    "inventory['inventory_data'][4]['nuclides'][19]['grams']"
   ]
  },
  {
   "cell_type": "markdown",
   "metadata": {},
   "source": [
    "And this file is not even that bad!\n",
    "\n",
    "If we have a dictionary writing it into a JSON file is also simple:\n",
    "\n",
    "```python\n",
    "    with open('myfile.json', 'w') as outfile:\n",
    "        json.dump(myDict, outfile, indent=4)\n",
    "```\n",
    "\n",
    "But let's leave JSON files behind for now, and start to look at an other format.\n",
    "\n",
    "## XML\n",
    "\n",
    "XML stands for eXtensible Markup Language and defines rules for encoding data in a format which is both human-readable and machine-readable. One can define attributes and elements within starting and closing tags, and also attributes between empty-element tags. XML is a bit more difficult to interpret than the JSON format. The main reason we take a quick look at XML is because openMC has XML inputs. Nevertheless, we will not interact with openMC through these inputs, but through a python API. \n",
    "\n",
    "An example openMC input looks like '03-sample.xml'. This file describes materials for the code. We have a main or parent tag (`<materials>`), which has children tags (`<material>`) etc. This input defines three materials: `uo2` (uranium-dioxide, $UO_2$) with density 10.5 g/cm3 containing the isotopes U235, U238 ad O16, `zirconium` with density 6.6 g/cm3 containing various zirconium isotopes, and `h2o` (water) with density 0.75 g/cm3 made of H1 and O16.\n",
    "\n",
    "```xml\n",
    "    <?xml version='1.0' encoding='utf-8'?>\n",
    "    <materials>\n",
    "      <material depletable=\"true\" id=\"1\" name=\"uo2\">\n",
    "        <density units=\"g/cm3\" value=\"10.5\" />\n",
    "        <nuclide ao=\"0.04\" name=\"U235\" />\n",
    "        <nuclide ao=\"0.96\" name=\"U238\" />\n",
    "        <nuclide ao=\"2.0\" name=\"O16\" />\n",
    "      </material>\n",
    "      <material id=\"2\" name=\"zirconium\">\n",
    "        <density units=\"g/cm3\" value=\"6.6\" />\n",
    "        <nuclide ao=\"0.1122\" name=\"Zr91\" />\n",
    "        <nuclide ao=\"0.028\" name=\"Zr96\" />\n",
    "        <nuclide ao=\"0.1715\" name=\"Zr92\" />\n",
    "        <nuclide ao=\"0.1738\" name=\"Zr94\" />\n",
    "        <nuclide ao=\"0.5145\" name=\"Zr90\" />\n",
    "      </material>\n",
    "      <material id=\"3\" name=\"h2o\">\n",
    "        <density units=\"g/cm3\" value=\"0.75\" />\n",
    "        <nuclide ao=\"2.0\" name=\"H1\" />\n",
    "        <nuclide ao=\"1.0\" name=\"O16\" />\n",
    "        <sab name=\"c_H_in_H2O\" />\n",
    "      </material>\n",
    "    </materials>\n",
    "```\n",
    "\n",
    "Parsing such a file is a bit trickier (lucky that you will not need to do it too much!), and can be done with the `xml.etree.ElementTree` module."
   ]
  },
  {
   "cell_type": "code",
   "execution_count": 15,
   "metadata": {},
   "outputs": [],
   "source": [
    "import xml.etree.ElementTree as ET\n",
    "import re\n",
    "tree = ET.parse('03-sample.xml')\n",
    "root = tree.getroot()"
   ]
  },
  {
   "cell_type": "code",
   "execution_count": 16,
   "metadata": {},
   "outputs": [
    {
     "data": {
      "text/plain": [
       "<Element 'materials' at 0x1459bab60>"
      ]
     },
     "execution_count": 16,
     "metadata": {},
     "output_type": "execute_result"
    }
   ],
   "source": [
    "root"
   ]
  },
  {
   "cell_type": "markdown",
   "metadata": {},
   "source": [
    "We are not much smarter! Apparently root is some sort of instance of a class, and not the actual values stored in it. Somehow we have to access those. If we make a list of this, we just seem to get several other \"Element\" objects. Then they need to have some attributes!"
   ]
  },
  {
   "cell_type": "code",
   "execution_count": 17,
   "metadata": {},
   "outputs": [
    {
     "data": {
      "text/plain": [
       "[<Element 'material' at 0x1459bb150>,\n",
       " <Element 'material' at 0x1459bb2e0>,\n",
       " <Element 'material' at 0x1459bb510>]"
      ]
     },
     "execution_count": 17,
     "metadata": {},
     "output_type": "execute_result"
    }
   ],
   "source": [
    "list(root)"
   ]
  },
  {
   "cell_type": "code",
   "execution_count": 18,
   "metadata": {},
   "outputs": [
    {
     "data": {
      "text/plain": [
       "{'depletable': 'true', 'id': '1', 'name': 'uo2'}"
      ]
     },
     "execution_count": 18,
     "metadata": {},
     "output_type": "execute_result"
    }
   ],
   "source": [
    "root[0].attrib"
   ]
  },
  {
   "cell_type": "code",
   "execution_count": 19,
   "metadata": {},
   "outputs": [
    {
     "data": {
      "text/plain": [
       "[<Element 'density' at 0x1459bb1f0>,\n",
       " <Element 'nuclide' at 0x1459bb1a0>,\n",
       " <Element 'nuclide' at 0x1459bb240>,\n",
       " <Element 'nuclide' at 0x1459bb290>]"
      ]
     },
     "execution_count": 19,
     "metadata": {},
     "output_type": "execute_result"
    }
   ],
   "source": [
    "list(root[0])"
   ]
  },
  {
   "cell_type": "code",
   "execution_count": 20,
   "metadata": {},
   "outputs": [
    {
     "data": {
      "text/plain": [
       "{'units': 'g/cm3', 'value': '10.5'}"
      ]
     },
     "execution_count": 20,
     "metadata": {},
     "output_type": "execute_result"
    }
   ],
   "source": [
    "root[0][0].attrib"
   ]
  },
  {
   "cell_type": "markdown",
   "metadata": {},
   "source": [
    "Heureka, the `root` contains three 'material' elements, and apparently we can access the attributes of those as dictionaries! Also we see that the 'material' elements have further elements, which have attributes.\n",
    "\n",
    "It's like going through a tree and picking different branches to find the final leaf which contains the data we need. Let's try to print the material names and their densities."
   ]
  },
  {
   "cell_type": "code",
   "execution_count": 21,
   "metadata": {},
   "outputs": [
    {
     "name": "stdout",
     "output_type": "stream",
     "text": [
      "uo2 10.5\n",
      "zirconium 6.6\n",
      "h2o 0.75\n"
     ]
    }
   ],
   "source": [
    "for child in root:\n",
    "    name=child.attrib['name']\n",
    "    for grandchild in child:\n",
    "        if 'value' in grandchild.attrib:\n",
    "            density=grandchild.attrib['value']\n",
    "            print(name,density)"
   ]
  },
  {
   "cell_type": "markdown",
   "metadata": {},
   "source": [
    "Well, this was not very straightforward, but one can get used to it! If you are interested in exploring the further beauties of XML, there is an example in the notebook demonstrating how to create the  figures in the lecture notes, where an even more complex XML file is parsed.\n",
    "\n",
    "But for today I think we can all agree that our heads are overwhelmed with XML, so let's get back to simpler formats.\n",
    "\n",
    "## csv\n",
    "\n",
    "Csv stands for comma separated values, and is a very straightforward, although not fully standardized format. Essentially the file contains data records (rows), and a record contains of one or more fields (columns), separated by comma. You can imagine it as a typical spreadsheet (in fact in most systems csv files will by default be opened by spreadsheet applications). \n",
    "\n",
    "Let's take a look at '03-sample.csv'. This file stores the concentration (in $\\text{cm}^{-1}\\text{barn}^{-1}$ units) of some nuclides for uranium-dioxed fuels with various initial enrichment (IE), irradiated for various time length (BU: burnup), and cooled for different times (CT) calculated with a software called Serpent2. We will learn later more about the fuel evolution, and how to calculate such concentrations. For now the important part is to notice, that the first row seems to be a header, describing \"keys\" for each column. The following rows contain the data (one record belongs to one fuel). \n",
    "\n",
    "```\n",
    "    ,BU,CT,IE,Cs134,Cs137,Eu154,U235,Pu239\n",
    "    0,23,3102.5,1.5,1.88424E-07,2.84566917879002E-05,2.69679813433217E-07,8.22522171634031E-05,0.000121476\n",
    "    1,30,7482.5,1.5,5.20168E-09,2.79799245808655E-05,1.52985963215638E-07,5.42325572566305E-05,0.000129026\n",
    "    2,37,4197.5,1.5,1.45199E-07,4.21499771616296E-05,4.17562528731865E-07,3.59841349105039E-05,0.000134992\n",
    "    3,52.5,6752.5,1.5,2.16965E-08,4.9979226189458E-05,3.50484414413579E-07,1.50402501420245E-05,0.00014544\n",
    "    4,65.5,3102.5,1.5,8.08478E-07,7.74388092788155E-05,9.6942317979626E-07,7.48810453458104E-06,0.00015283\n",
    "    5,30,91.25,1.6,4.63841E-06,4.46352992585013E-05,7.77532100448014E-07,6.15403234287554E-05,0.0001299283\n",
    "    6,34.5,8395,1.6,2.7162412E-09,3.01868876171812E-05,1.5011569350238E-07,4.75259853623482E-05,0.00013365\n",
    "    7,57,1368.75,1.6,3.42660E-06,7.59309237451187E-05,1.25129574849322E-06,1.35365167615274E-05,0.00014867\n",
    "    8,57,5840,1.6,5.59338E-08,5.7224184909055E-05,4.66071542695002E-07,1.35888359894115E-05,0.000148643804\n",
    "    9,27.5,365,1.7,3.08791E-06,4.02748433202162E-05,6.37972051142385E-07,8.0098420206549E-05,0.00012842678\n",
    "    10,35,7847.5,1.7,4.55574E-09,3.16746996946991E-05,1.7181072908398E-07,5.23717817097577E-05,0.000134991\n",
    "```\n",
    "\n",
    "We could read csv files with the built-in csv reader (and interested readers can follow [this tutorial](https://realpython.com/python-csv/)). We can also use the `numpy.loadtxt` function we learnt about last time, just now by setting the delimiter to ',' and skipping the header row:"
   ]
  },
  {
   "cell_type": "code",
   "execution_count": 22,
   "metadata": {},
   "outputs": [
    {
     "data": {
      "text/plain": [
       "array([[0.00000000e+00, 2.30000000e+01, 3.10250000e+03, ...,\n",
       "        2.69679813e-07, 8.22522172e-05, 1.21476068e-04],\n",
       "       [1.00000000e+00, 3.00000000e+01, 7.48250000e+03, ...,\n",
       "        1.52985963e-07, 5.42325573e-05, 1.29026600e-04],\n",
       "       [2.00000000e+00, 3.70000000e+01, 4.19750000e+03, ...,\n",
       "        4.17562529e-07, 3.59841349e-05, 1.34992514e-04],\n",
       "       ...,\n",
       "       [1.97000000e+02, 4.60000000e+01, 7.30000000e+02, ...,\n",
       "        1.07336616e-06, 4.99336878e-04, 1.91230616e-04],\n",
       "       [1.98000000e+02, 4.95000000e+01, 7.84750000e+03, ...,\n",
       "        2.49743662e-07, 4.54579917e-04, 1.94033925e-04],\n",
       "       [1.99000000e+02, 5.05000000e+01, 6.02250000e+03, ...,\n",
       "        3.82509656e-07, 4.42275314e-04, 1.94694090e-04]])"
      ]
     },
     "execution_count": 22,
     "metadata": {},
     "output_type": "execute_result"
    }
   ],
   "source": [
    "import numpy as np\n",
    "import matplotlib.pyplot as plt\n",
    "fuelmatrix=np.loadtxt('03-sample.csv',delimiter=',',skiprows=1)\n",
    "fuelmatrix"
   ]
  },
  {
   "cell_type": "markdown",
   "metadata": {},
   "source": [
    "Now we remember from before how to access given columns of this 2D numpy array, and we can go ahead and plot the Uranium-235 (index 7) content against the burnup (index 1)."
   ]
  },
  {
   "cell_type": "code",
   "execution_count": 23,
   "metadata": {},
   "outputs": [
    {
     "data": {
      "image/png": "[encoded data removed]",
      "text/plain": [
       "<Figure size 640x480 with 1 Axes>"
      ]
     },
     "metadata": {},
     "output_type": "display_data"
    }
   ],
   "source": [
    "plt.figure()\n",
    "plt.plot(fuelmatrix[:,1],fuelmatrix[:,7],'x')\n",
    "plt.xlabel('Burnup')\n",
    "plt.ylabel('U-235 concentration')\n",
    "plt.show()"
   ]
  },
  {
   "cell_type": "markdown",
   "metadata": {},
   "source": [
    "We see that there is a general trend that with increasing burnup (more time under irradiation) we have less U-235 (since we loose it in fission events as we will learn more about this). The markers are not aligned along a straight line, because each marker belongs to a fuel with a unique initial enrichment.\n",
    "\n",
    "This works pretty well, but apparently we lost the information about the header, so we need to keep in mind the right index for the columns (or have some workound which maps the columns to the right key). This is fine when we have few columns but what if we had hundreds?\n",
    "\n",
    "To resolve this, now we will look into an other mainstream data analysis library called pandas, which has a data container called DataFrame which combines the power of numpy arrays and dictionaries!\n",
    "\n",
    "## pandas\n",
    "\n",
    "Pandas is a data analysis and manipulation tool. The main reason we have to take a look at it (besides it being very powerful) is that later we will handle openMC results as pandas DataFrames.\n",
    "\n",
    "We will use the `read_csv` method of pandas to read in the '03-sample.csv' file as a DataFrame, and look at the basic functionality. Notice that we can specify which row contains the header information (so we will be able to refer to the columns with keys) and we can preselect the columns which we would like to import. DataFrames will be rendered as nice looking tables in jupyter."
   ]
  },
  {
   "cell_type": "code",
   "execution_count": 24,
   "metadata": {},
   "outputs": [
    {
     "name": "stderr",
     "output_type": "stream",
     "text": [
      "/var/folders/cz/sq8xdzr55730qy6v3g8xdm8r0000gn/T/ipykernel_5149/2218394767.py:1: DeprecationWarning: \n",
      "Pyarrow will become a required dependency of pandas in the next major release of pandas (pandas 3.0),\n",
      "(to allow more performant data types, such as the Arrow string type, and better interoperability with other libraries)\n",
      "but was not found to be installed on your system.\n",
      "If this would cause problems for you,\n",
      "please provide us feedback at https://github.com/pandas-dev/pandas/issues/54466\n",
      "        \n",
      "  import pandas as pd\n"
     ]
    },
    {
     "data": {
      "text/html": [
       "<div>\n",
       "<style scoped>\n",
       "    .dataframe tbody tr th:only-of-type {\n",
       "        vertical-align: middle;\n",
       "    }\n",
       "\n",
       "    .dataframe tbody tr th {\n",
       "        vertical-align: top;\n",
       "    }\n",
       "\n",
       "    .dataframe thead th {\n",
       "        text-align: right;\n",
       "    }\n",
       "</style>\n",
       "<table border=\"1\" class=\"dataframe\">\n",
       "  <thead>\n",
       "    <tr style=\"text-align: right;\">\n",
       "      <th></th>\n",
       "      <th>BU</th>\n",
       "      <th>CT</th>\n",
       "      <th>IE</th>\n",
       "      <th>Cs137</th>\n",
       "      <th>U235</th>\n",
       "    </tr>\n",
       "  </thead>\n",
       "  <tbody>\n",
       "    <tr>\n",
       "      <th>0</th>\n",
       "      <td>23.0</td>\n",
       "      <td>3102.5</td>\n",
       "      <td>1.5</td>\n",
       "      <td>0.000028</td>\n",
       "      <td>0.000082</td>\n",
       "    </tr>\n",
       "    <tr>\n",
       "      <th>1</th>\n",
       "      <td>30.0</td>\n",
       "      <td>7482.5</td>\n",
       "      <td>1.5</td>\n",
       "      <td>0.000028</td>\n",
       "      <td>0.000054</td>\n",
       "    </tr>\n",
       "    <tr>\n",
       "      <th>2</th>\n",
       "      <td>37.0</td>\n",
       "      <td>4197.5</td>\n",
       "      <td>1.5</td>\n",
       "      <td>0.000042</td>\n",
       "      <td>0.000036</td>\n",
       "    </tr>\n",
       "    <tr>\n",
       "      <th>3</th>\n",
       "      <td>52.5</td>\n",
       "      <td>6752.5</td>\n",
       "      <td>1.5</td>\n",
       "      <td>0.000050</td>\n",
       "      <td>0.000015</td>\n",
       "    </tr>\n",
       "    <tr>\n",
       "      <th>4</th>\n",
       "      <td>65.5</td>\n",
       "      <td>3102.5</td>\n",
       "      <td>1.5</td>\n",
       "      <td>0.000077</td>\n",
       "      <td>0.000007</td>\n",
       "    </tr>\n",
       "    <tr>\n",
       "      <th>...</th>\n",
       "      <td>...</td>\n",
       "      <td>...</td>\n",
       "      <td>...</td>\n",
       "      <td>...</td>\n",
       "      <td>...</td>\n",
       "    </tr>\n",
       "    <tr>\n",
       "      <th>195</th>\n",
       "      <td>63.0</td>\n",
       "      <td>4197.5</td>\n",
       "      <td>5.9</td>\n",
       "      <td>0.000069</td>\n",
       "      <td>0.000296</td>\n",
       "    </tr>\n",
       "    <tr>\n",
       "      <th>196</th>\n",
       "      <td>24.5</td>\n",
       "      <td>5657.5</td>\n",
       "      <td>6.0</td>\n",
       "      <td>0.000025</td>\n",
       "      <td>0.000846</td>\n",
       "    </tr>\n",
       "    <tr>\n",
       "      <th>197</th>\n",
       "      <td>46.0</td>\n",
       "      <td>730.0</td>\n",
       "      <td>6.0</td>\n",
       "      <td>0.000064</td>\n",
       "      <td>0.000499</td>\n",
       "    </tr>\n",
       "    <tr>\n",
       "      <th>198</th>\n",
       "      <td>49.5</td>\n",
       "      <td>7847.5</td>\n",
       "      <td>6.0</td>\n",
       "      <td>0.000044</td>\n",
       "      <td>0.000455</td>\n",
       "    </tr>\n",
       "    <tr>\n",
       "      <th>199</th>\n",
       "      <td>50.5</td>\n",
       "      <td>6022.5</td>\n",
       "      <td>6.0</td>\n",
       "      <td>0.000050</td>\n",
       "      <td>0.000442</td>\n",
       "    </tr>\n",
       "  </tbody>\n",
       "</table>\n",
       "<p>200 rows × 5 columns</p>\n",
       "</div>"
      ],
      "text/plain": [
       "       BU      CT   IE     Cs137      U235\n",
       "0    23.0  3102.5  1.5  0.000028  0.000082\n",
       "1    30.0  7482.5  1.5  0.000028  0.000054\n",
       "2    37.0  4197.5  1.5  0.000042  0.000036\n",
       "3    52.5  6752.5  1.5  0.000050  0.000015\n",
       "4    65.5  3102.5  1.5  0.000077  0.000007\n",
       "..    ...     ...  ...       ...       ...\n",
       "195  63.0  4197.5  5.9  0.000069  0.000296\n",
       "196  24.5  5657.5  6.0  0.000025  0.000846\n",
       "197  46.0   730.0  6.0  0.000064  0.000499\n",
       "198  49.5  7847.5  6.0  0.000044  0.000455\n",
       "199  50.5  6022.5  6.0  0.000050  0.000442\n",
       "\n",
       "[200 rows x 5 columns]"
      ]
     },
     "execution_count": 24,
     "metadata": {},
     "output_type": "execute_result"
    }
   ],
   "source": [
    "import pandas as pd\n",
    "\n",
    "fueldata=pd.read_csv('03-sample.csv',header = 0, usecols=['BU','CT','IE','Cs137','U235'])\n",
    "fueldata"
   ]
  },
  {
   "cell_type": "markdown",
   "metadata": {},
   "source": [
    "Creating the same plot as before can be done without remembering the index of the columns."
   ]
  },
  {
   "cell_type": "code",
   "execution_count": 25,
   "metadata": {},
   "outputs": [
    {
     "data": {
      "image/png": "[encoded data removed]",
      "text/plain": [
       "<Figure size 640x480 with 1 Axes>"
      ]
     },
     "metadata": {},
     "output_type": "display_data"
    }
   ],
   "source": [
    "plt.figure()\n",
    "plt.plot(fueldata['BU'],fueldata['U235'],'x')\n",
    "plt.xlabel('Burnup (MWd/kgU)')\n",
    "plt.ylabel('U-235 concentration')\n",
    "plt.show()"
   ]
  },
  {
   "cell_type": "markdown",
   "metadata": {},
   "source": [
    "We can filter certain parts of the dataset similarly as we learnt for numpy arrays previously. This is to be done by applying conditions. For example if we would like to filter a subset of fuels for which $40<BU<50$, we can do the following:"
   ]
  },
  {
   "cell_type": "code",
   "execution_count": 26,
   "metadata": {},
   "outputs": [
    {
     "name": "stdout",
     "output_type": "stream",
     "text": [
      "45\n"
     ]
    },
    {
     "data": {
      "text/html": [
       "<div>\n",
       "<style scoped>\n",
       "    .dataframe tbody tr th:only-of-type {\n",
       "        vertical-align: middle;\n",
       "    }\n",
       "\n",
       "    .dataframe tbody tr th {\n",
       "        vertical-align: top;\n",
       "    }\n",
       "\n",
       "    .dataframe thead th {\n",
       "        text-align: right;\n",
       "    }\n",
       "</style>\n",
       "<table border=\"1\" class=\"dataframe\">\n",
       "  <thead>\n",
       "    <tr style=\"text-align: right;\">\n",
       "      <th></th>\n",
       "      <th>BU</th>\n",
       "      <th>CT</th>\n",
       "      <th>IE</th>\n",
       "      <th>Cs137</th>\n",
       "      <th>U235</th>\n",
       "    </tr>\n",
       "  </thead>\n",
       "  <tbody>\n",
       "    <tr>\n",
       "      <th>11</th>\n",
       "      <td>46.5</td>\n",
       "      <td>8942.50</td>\n",
       "      <td>1.7</td>\n",
       "      <td>0.000039</td>\n",
       "      <td>0.000028</td>\n",
       "    </tr>\n",
       "    <tr>\n",
       "      <th>18</th>\n",
       "      <td>41.5</td>\n",
       "      <td>10037.50</td>\n",
       "      <td>1.8</td>\n",
       "      <td>0.000032</td>\n",
       "      <td>0.000041</td>\n",
       "    </tr>\n",
       "    <tr>\n",
       "      <th>19</th>\n",
       "      <td>47.0</td>\n",
       "      <td>4015.00</td>\n",
       "      <td>1.8</td>\n",
       "      <td>0.000054</td>\n",
       "      <td>0.000030</td>\n",
       "    </tr>\n",
       "    <tr>\n",
       "      <th>27</th>\n",
       "      <td>42.0</td>\n",
       "      <td>1277.50</td>\n",
       "      <td>2.0</td>\n",
       "      <td>0.000057</td>\n",
       "      <td>0.000051</td>\n",
       "    </tr>\n",
       "    <tr>\n",
       "      <th>28</th>\n",
       "      <td>43.5</td>\n",
       "      <td>1368.75</td>\n",
       "      <td>2.0</td>\n",
       "      <td>0.000059</td>\n",
       "      <td>0.000047</td>\n",
       "    </tr>\n",
       "  </tbody>\n",
       "</table>\n",
       "</div>"
      ],
      "text/plain": [
       "      BU        CT   IE     Cs137      U235\n",
       "11  46.5   8942.50  1.7  0.000039  0.000028\n",
       "18  41.5  10037.50  1.8  0.000032  0.000041\n",
       "19  47.0   4015.00  1.8  0.000054  0.000030\n",
       "27  42.0   1277.50  2.0  0.000057  0.000051\n",
       "28  43.5   1368.75  2.0  0.000059  0.000047"
      ]
     },
     "execution_count": 26,
     "metadata": {},
     "output_type": "execute_result"
    }
   ],
   "source": [
    "subfuel=fueldata[(fueldata['BU']>40) & (fueldata['BU']<50)]\n",
    "print(len(subfuel))\n",
    "\n",
    "subfuel.head()"
   ]
  },
  {
   "cell_type": "code",
   "execution_count": 27,
   "metadata": {},
   "outputs": [
    {
     "data": {
      "image/png": "[encoded data removed]",
      "text/plain": [
       "<Figure size 640x480 with 1 Axes>"
      ]
     },
     "metadata": {},
     "output_type": "display_data"
    }
   ],
   "source": [
    "plt.figure()\n",
    "plt.plot(fueldata['BU'],fueldata['U235'],'x')\n",
    "plt.plot(subfuel['BU'],subfuel['U235'],'rx')\n",
    "plt.show()"
   ]
  },
  {
   "cell_type": "markdown",
   "metadata": {},
   "source": [
    "Pandas provides a lot of further functionality (remember, with hitting TAB on `fueldata.` you can list the available methods), which are relevant for data analysis, although in this course we will not use them. Just to demonstrate its further power let see how we can calculate the correlation of the different parameters:"
   ]
  },
  {
   "cell_type": "code",
   "execution_count": 28,
   "metadata": {},
   "outputs": [
    {
     "data": {
      "text/html": [
       "<div>\n",
       "<style scoped>\n",
       "    .dataframe tbody tr th:only-of-type {\n",
       "        vertical-align: middle;\n",
       "    }\n",
       "\n",
       "    .dataframe tbody tr th {\n",
       "        vertical-align: top;\n",
       "    }\n",
       "\n",
       "    .dataframe thead th {\n",
       "        text-align: right;\n",
       "    }\n",
       "</style>\n",
       "<table border=\"1\" class=\"dataframe\">\n",
       "  <thead>\n",
       "    <tr style=\"text-align: right;\">\n",
       "      <th></th>\n",
       "      <th>BU</th>\n",
       "      <th>CT</th>\n",
       "      <th>IE</th>\n",
       "      <th>Cs137</th>\n",
       "      <th>U235</th>\n",
       "    </tr>\n",
       "  </thead>\n",
       "  <tbody>\n",
       "    <tr>\n",
       "      <th>BU</th>\n",
       "      <td>1.000000</td>\n",
       "      <td>-0.016936</td>\n",
       "      <td>-0.016857</td>\n",
       "      <td>0.836145</td>\n",
       "      <td>-0.558210</td>\n",
       "    </tr>\n",
       "    <tr>\n",
       "      <th>CT</th>\n",
       "      <td>-0.016936</td>\n",
       "      <td>1.000000</td>\n",
       "      <td>0.021718</td>\n",
       "      <td>-0.537265</td>\n",
       "      <td>0.013064</td>\n",
       "    </tr>\n",
       "    <tr>\n",
       "      <th>IE</th>\n",
       "      <td>-0.016857</td>\n",
       "      <td>0.021718</td>\n",
       "      <td>1.000000</td>\n",
       "      <td>-0.042921</td>\n",
       "      <td>0.778243</td>\n",
       "    </tr>\n",
       "    <tr>\n",
       "      <th>Cs137</th>\n",
       "      <td>0.836145</td>\n",
       "      <td>-0.537265</td>\n",
       "      <td>-0.042921</td>\n",
       "      <td>1.000000</td>\n",
       "      <td>-0.480398</td>\n",
       "    </tr>\n",
       "    <tr>\n",
       "      <th>U235</th>\n",
       "      <td>-0.558210</td>\n",
       "      <td>0.013064</td>\n",
       "      <td>0.778243</td>\n",
       "      <td>-0.480398</td>\n",
       "      <td>1.000000</td>\n",
       "    </tr>\n",
       "  </tbody>\n",
       "</table>\n",
       "</div>"
      ],
      "text/plain": [
       "             BU        CT        IE     Cs137      U235\n",
       "BU     1.000000 -0.016936 -0.016857  0.836145 -0.558210\n",
       "CT    -0.016936  1.000000  0.021718 -0.537265  0.013064\n",
       "IE    -0.016857  0.021718  1.000000 -0.042921  0.778243\n",
       "Cs137  0.836145 -0.537265 -0.042921  1.000000 -0.480398\n",
       "U235  -0.558210  0.013064  0.778243 -0.480398  1.000000"
      ]
     },
     "execution_count": 28,
     "metadata": {},
     "output_type": "execute_result"
    }
   ],
   "source": [
    "fueldata.corr()"
   ]
  },
  {
   "cell_type": "markdown",
   "metadata": {},
   "source": [
    "This table gives us the correlation matrix. What we see is that the diagonal is filled with ones. Of course, since a parameter is fully correlated to itself. Due to similar considerations the matrix is symmetric along the diagonal. We can also notice that the BU, CT and IE parameters are not correlated. What we can however notice is that the Cs-137 content is strongly correlated to the burnup (the longer the fuel is irradiated, the more is created, as we will see in later lectures), and is also strongly correlated (even if the value is negative) to the cooling time (the longer the fuel is cooled, the the more Cs-137 has decayed away). How would you interpret the correlation of U235 to the other parameters?\n",
    "\n",
    "So this is very neat, you did a great job and learnt about several data storage options, if you invest some time and practice into this topic you will simply be awesome!\n",
    "\n",
    "But now let's turn our attention to a slightly different topic.\n",
    "\n",
    "## Browsing the internet\n",
    "\n",
    "Let's be honest, we do spend an awful lot of time on the internet, reading the news, streaming movies, and sometimes digging up nuclear data. It would be just nice if we could automatize part of this. Let's say that the part we want to automatize is the digging nuclear data (movie streaming part would be also nice, but it is outside of the scope of this course). The way how we access data from the internet is most often with a browser: we type in a URL, and based on that our browser sends a request to a server (with the GET method of the Hypertext Transfer Protocol) containing the data we are interested in, then the data is sent back to us, and the browser renders it. But actually we can do the same with python, for example with the `urllib.request` package. And how it is being implemented is not that different at all from how we would read a file on our computer.\n",
    "\n",
    "Let's try to access the U-235 fission cross section data from the KAERI site (if you are not familiar with the side, you can watch the related [short video](https://www.youtube.com/watch?v=awVSfpiDZg4)). Note, that this might take few seconds depending on your connection. In case the connection times out, just try to run it again. Also note, that the two lines related to SSL is needed because the page does not provide an SSL certificate, those lines are not necessarily needed for other webpages. (If after several trials you still have problems with downloading the data, you can try to access my homepage instead, where I have uploaded the same html file: just uncomment the `website='https://ezsolti.github.io/rfpxsdata/target=jeff3.2,92,235,9228,3,18'` line)"
   ]
  },
  {
   "cell_type": "code",
   "execution_count": 29,
   "metadata": {},
   "outputs": [],
   "source": [
    "import urllib.request\n",
    "import ssl\n",
    "ssl._create_default_https_context = ssl._create_unverified_context\n",
    "\n",
    "website='http://atom.kaeri.re.kr/nuchart/getData.jsp?target=jeff3.2,92,235,9228,3,18'\n",
    "#website='https://ezsolti.github.io/rfpxsdata/target=jeff3.2,92,235,9228,3,18'\n",
    "\n",
    "with urllib.request.urlopen(website) as response:\n",
    "    content235 = response.readlines()"
   ]
  },
  {
   "cell_type": "code",
   "execution_count": 30,
   "metadata": {},
   "outputs": [
    {
     "data": {
      "text/plain": [
       "[b'<html>\\n',\n",
       " b'<head>\\n',\n",
       " b'<title>Data for Plotting</title>\\n',\n",
       " b'<meta http-equiv=\"Content-Type\" content=\"text/html; charset=UTF-8\">\\n',\n",
       " b'<link rel=\"StyleSheet\" href=\"/css/style.css\" type=\"text/css\">\\n',\n",
       " b'</head>\\n',\n",
       " b'<body>\\n',\n",
       " b\"<span class='text_s'>\\n\",\n",
       " b'U-235(n,total fission) JEFF-3.2<br>\\n',\n",
       " b'Energy(eV) XS(b)<br>\\n',\n",
       " b'1.00000E-05 31389.9<br>\\n',\n",
       " b'1.03125E-05 30910.6<br>\\n',\n",
       " b'1.06250E-05 30452.6<br>\\n',\n",
       " b'1.09375E-05 30014.4<br>\\n',\n",
       " b'1.12500E-05 29594.5<br>\\n']"
      ]
     },
     "execution_count": 30,
     "metadata": {},
     "output_type": "execute_result"
    }
   ],
   "source": [
    "content235[:15] #inspect the first 15 lines"
   ]
  },
  {
   "cell_type": "markdown",
   "metadata": {},
   "source": [
    "So the data received is in HTML. In order to make any sense of it, we will need to parse it. There are some readily available parsers for HTML (a popular one is called Beautiful Soup), but since we are not going to parse very difficult HTML code, instead of overwhelming ourselves by reviewing yet an other parser library, I just provide you with a function which can extract the data:"
   ]
  },
  {
   "cell_type": "code",
   "execution_count": 31,
   "metadata": {},
   "outputs": [],
   "source": [
    "def getXS(content):\n",
    "    \"\"\"Function to extract data from the html content provided by KAERI.\n",
    "    the content has a shape as follows like:    \n",
    "    Energy(eV) XS(b)<br>\n",
    "    1.00000E-05 3.07139<br>\"\"\"\n",
    "    energy=[]\n",
    "    xs=[]\n",
    "    flag=False\n",
    "    i=0\n",
    "    for line in content:\n",
    "        x=line.strip().split()\n",
    "        if  len(x)>0 and x[0]==b'Energy(eV)':\n",
    "            flag=True\n",
    "            continue\n",
    "        if len(x)==0 or x[0]==b'</span>':\n",
    "            flag=False\n",
    "        if flag:\n",
    "            energy.append(float(x[0]))\n",
    "            xs.append(float(x[1][:-4]))\n",
    "    return np.array(energy), np.array(xs)"
   ]
  },
  {
   "cell_type": "code",
   "execution_count": 32,
   "metadata": {},
   "outputs": [
    {
     "data": {
      "image/png": "[encoded data removed]",
      "text/plain": [
       "<Figure size 640x480 with 1 Axes>"
      ]
     },
     "metadata": {},
     "output_type": "display_data"
    }
   ],
   "source": [
    "energy,xs=getXS(content235)\n",
    "\n",
    "plt.figure()\n",
    "plt.loglog(energy,xs)\n",
    "plt.xlabel('Energy (eV)')\n",
    "plt.ylabel('Cross section (barn)')\n",
    "plt.show()"
   ]
  },
  {
   "cell_type": "markdown",
   "metadata": {},
   "source": [
    "And we can do a lot more! We could download zip files, extract the content etc. The important take away message here is, that with python any file manipulation, even if it is stored somewhere on the world wide web, can be done relatively easily. Should you have any idea like that, just search and you will find solutions. \n",
    "\n",
    "## Installing and using other packages\n",
    "\n",
    "It was mentioned a lot of times that you can find several packages, and use them. But how to do that? It is fairly simple. Once you found the package you need, you can install it with the python package installer `pip` (or with `conda`, depending on how you installed Python), which you can run from your terminal or command prompt. Some packages are registered to [PyPI](https://pypi.org/) the Python package index, these you can simply install with `pip install nameofpackage`. There are some which are not registered at PyPI and deployed at some other site, like github. These you can usually install with `pip install urlofpackage`. Nevertheless, any well maintained package will let you know how to install it, and you just have to follow the instructions. Also a well maintained package will include a 'setup.py' file, which lists the dependencies of the package (for example that it requires NumPy), from which `pip` will figure out whether any other dependent packages need to be installed as well.\n",
    "\n",
    "As a typical example we can take a look at a package called `radioactivedecay`: https://pypi.org/project/radioactivedecay/. The site clearly describes that you can install it with `pip install radioactivedecay`. Once that is done, you can import the package in your scripts. Also developers usually provide examples, which with the knowledge you have acquired up to now, you can easily follow. For example the usage of this package is the following:\n",
    "\n",
    "```python\n",
    "    >>> import radioactivedecay as rd\n",
    "    >>> inv_t0 = rd.Inventory({'Mo-99': 2.0})\n",
    "    >>> inv_t1 = inv_t0.decay(20.0, 'h')\n",
    "    >>> inv_t1.contents\n",
    "    {'Mo-99': 1.6207863893776937,\n",
    "    'Tc-99': 9.05304236308454e-09,\n",
    "    'Tc-99m': 1.3719829376710406}\n",
    "```\n",
    "\n",
    "First, you import the library. Then, you create an instance of the `Inventory()` class, which takes a dictionary as as parameter which is supposed to contain the activity of isotopes. Then, you call the `.decay()` method while specifying the decay time, and you can access the `contents` of the inventory after the decay time elapsed. \n",
    "\n",
    "Since most of the Python packages are open source, you can build on them, or modify them if you find that some functionality is missing. \n",
    "\n",
    "Again, the take away message here is that if you have a problem to be solved, do not hesitate to first look for a package which already solves it."
   ]
  },
  {
   "cell_type": "markdown",
   "metadata": {},
   "source": [
    "# Exercises \n",
    "\n",
    "## 1\n",
    "\n",
    "Extend the `Material()` class by including a method which converts the mass density to atom density. First, renormalize the atomic fractions to make sure that it sums to 1. Then use `re` to get the atomic number of the nuclides in the nuclide vector. "
   ]
  },
  {
   "cell_type": "code",
   "execution_count": 55,
   "metadata": {},
   "outputs": [
    {
     "data": {
      "text/plain": [
       "(26.981538408, 'Al-27')"
      ]
     },
     "execution_count": 55,
     "metadata": {},
     "output_type": "execute_result"
    }
   ],
   "source": [
    "aluminium.package.atomic_mass, aluminium.package.nuclide"
   ]
  },
  {
   "cell_type": "markdown",
   "metadata": {},
   "source": [
    "## 2\n",
    "\n",
    "Inspect the '03-sample.json' file. Extract the ingestion dose values (`ingestion_dose`) over time, and extract the time. Notice that after a while the irradiation ended, and the `inventory['inventory_data'][i]['irradiation_time']` values do not increase, however the target was let to cool (ie. undergoes decay), and the `inventory['inventory_data'][i]['cooling_time']` increases (the values are in second). Find out the total elapsed time. Try to use list comprehension (see 1st datalab) to extract both the ingestion dose and time with one line of code."
   ]
  },
  {
   "cell_type": "code",
   "execution_count": 34,
   "metadata": {},
   "outputs": [],
   "source": [
    "import pandas as pd"
   ]
  },
  {
   "cell_type": "code",
   "execution_count": 35,
   "metadata": {},
   "outputs": [],
   "source": [
    "import json\n",
    "with open('03-sample.json') as json_file:\n",
    "    inventory = json.load(json_file)"
   ]
  },
  {
   "cell_type": "code",
   "execution_count": 56,
   "metadata": {},
   "outputs": [
    {
     "data": {
      "text/plain": [
       "dict_keys(['run_data', 'inventory_data'])"
      ]
     },
     "execution_count": 56,
     "metadata": {},
     "output_type": "execute_result"
    }
   ],
   "source": [
    "inventory.keys()"
   ]
  },
  {
   "cell_type": "code",
   "execution_count": 58,
   "metadata": {},
   "outputs": [],
   "source": [
    "df = pd.DataFrame.from_dict(inventory['inventory_data'])"
   ]
  },
  {
   "cell_type": "code",
   "execution_count": 74,
   "metadata": {},
   "outputs": [
    {
     "data": {
      "text/plain": [
       "{'type': '', 'distance': 0.0, 'mass': 0.0, 'dose': 0.0}"
      ]
     },
     "execution_count": 74,
     "metadata": {},
     "output_type": "execute_result"
    }
   ],
   "source": [
    "df[\"dose_rate\"][0]"
   ]
  },
  {
   "cell_type": "code",
   "execution_count": 63,
   "metadata": {},
   "outputs": [],
   "source": [
    "maxtime = df[\"irradiation_time\"].max() + df[\"cooling_time\"].max()"
   ]
  },
  {
   "cell_type": "code",
   "execution_count": 69,
   "metadata": {},
   "outputs": [
    {
     "name": "stdout",
     "output_type": "stream",
     "text": [
      "100.16666666666667 days\n"
     ]
    }
   ],
   "source": [
    "print(f\"{maxtime/3600/24} days\")"
   ]
  },
  {
   "cell_type": "markdown",
   "metadata": {},
   "source": [
    "## 3\n",
    "\n",
    "Use the '03-sample.csv' dataset, and filter it to get a subset of fuels for which $40<BU<50$, $2.5<IE<3.5$ and $10y<CT<20y$. How many of such samples are available (Note, that the cooling time is given in days in the dataset)"
   ]
  },
  {
   "cell_type": "code",
   "execution_count": 36,
   "metadata": {},
   "outputs": [],
   "source": [
    "import pandas as pd"
   ]
  },
  {
   "cell_type": "code",
   "execution_count": 37,
   "metadata": {},
   "outputs": [],
   "source": [
    "df = pd.read_csv('03-sample.csv')"
   ]
  },
  {
   "cell_type": "code",
   "execution_count": 38,
   "metadata": {},
   "outputs": [
    {
     "data": {
      "text/html": [
       "<div>\n",
       "<style scoped>\n",
       "    .dataframe tbody tr th:only-of-type {\n",
       "        vertical-align: middle;\n",
       "    }\n",
       "\n",
       "    .dataframe tbody tr th {\n",
       "        vertical-align: top;\n",
       "    }\n",
       "\n",
       "    .dataframe thead th {\n",
       "        text-align: right;\n",
       "    }\n",
       "</style>\n",
       "<table border=\"1\" class=\"dataframe\">\n",
       "  <thead>\n",
       "    <tr style=\"text-align: right;\">\n",
       "      <th></th>\n",
       "      <th>Unnamed: 0</th>\n",
       "      <th>BU</th>\n",
       "      <th>CT</th>\n",
       "      <th>IE</th>\n",
       "      <th>Cs134</th>\n",
       "      <th>Cs137</th>\n",
       "      <th>Eu154</th>\n",
       "      <th>U235</th>\n",
       "      <th>Pu239</th>\n",
       "    </tr>\n",
       "  </thead>\n",
       "  <tbody>\n",
       "    <tr>\n",
       "      <th>71</th>\n",
       "      <td>71</td>\n",
       "      <td>47.5</td>\n",
       "      <td>6205.0</td>\n",
       "      <td>3.1</td>\n",
       "      <td>2.895546e-08</td>\n",
       "      <td>0.000047</td>\n",
       "      <td>3.513823e-07</td>\n",
       "      <td>0.000108</td>\n",
       "      <td>0.000157</td>\n",
       "    </tr>\n",
       "    <tr>\n",
       "      <th>88</th>\n",
       "      <td>88</td>\n",
       "      <td>41.5</td>\n",
       "      <td>7117.5</td>\n",
       "      <td>3.4</td>\n",
       "      <td>9.792599e-09</td>\n",
       "      <td>0.000039</td>\n",
       "      <td>2.382984e-07</td>\n",
       "      <td>0.000174</td>\n",
       "      <td>0.000158</td>\n",
       "    </tr>\n",
       "  </tbody>\n",
       "</table>\n",
       "</div>"
      ],
      "text/plain": [
       "    Unnamed: 0    BU      CT   IE         Cs134     Cs137         Eu154  \\\n",
       "71          71  47.5  6205.0  3.1  2.895546e-08  0.000047  3.513823e-07   \n",
       "88          88  41.5  7117.5  3.4  9.792599e-09  0.000039  2.382984e-07   \n",
       "\n",
       "        U235     Pu239  \n",
       "71  0.000108  0.000157  \n",
       "88  0.000174  0.000158  "
      ]
     },
     "execution_count": 38,
     "metadata": {},
     "output_type": "execute_result"
    }
   ],
   "source": [
    "df.loc[\n",
    "    (df[\"BU\"] > 40) & (df[\"BU\"] < 50) \n",
    "    & (df[\"IE\"] > 2.5) & (df[\"IE\"] < 3.5)\n",
    "    & (df[\"CT\"] > 10 * 365) & (df[\"CT\"] < 20 * 365)\n",
    "]\n"
   ]
  },
  {
   "cell_type": "markdown",
   "metadata": {},
   "source": [
    "Your conclusion comes here."
   ]
  },
  {
   "cell_type": "markdown",
   "metadata": {},
   "source": [
    "## 4 \n",
    "\n",
    "Notice that the URL we used to access cross section data has some numbers in it: 'http://atom.kaeri.re.kr/nuchart/getData.jsp?target=jeff3.2,92,235,9228,3,18'. You probably figured out that the number 92 is the Z, and 235 is the A. The other data also have some meaning. 9228 is something called the MAT number, 3 is the MF number, and 18 is the MT number. Scientists working on nuclear data just like to have everything in order! The MAT number refers to the nuclide, the MF number refers to the type of data (MF=3 stands for cross section vs energy), and the MT number describes the reaction type (MT=18 is fission, MT=1 is total cross section). That said, it seems we can automatically create strings describing urls to reach various cross section data. And that is exactly what we are going to do now!\n",
    "\n",
    "You have the following dictionary storing MAT and MT numbers (MF should be always 3 in our case, since we want to download cross sections vs energy), try to write a `for` loop to iterate through them and use `urllib.request` to download the HTML code describing the data, Then use the previously defined `getXS()` function to extract the energy and cross section data, and update the empty lists with that (eg. `data['Pu239fiss']['xs']=...`). Plot each cross section in the same figure. Which isotope of plutonium seems to be fissile?\n",
    "\n",
    "Note again, in case you encounter difficulties accessing the KAERI site with Python, you can access the data from my website, simply change the `http://atom.kaeri.re.kr/nuchart/getData.jsp?` stem to `https://ezsolti.github.io/rfpxsdata/`. All the Plutonium cross sections necessary for this assignment can be downloaded from there as well. However other nuclides you are not going to find there."
   ]
  },
  {
   "cell_type": "code",
   "execution_count": 39,
   "metadata": {},
   "outputs": [],
   "source": [
    "data={'Pu239fiss': {'Z':94, 'A':239,'MAT':9437,'MT':18,\n",
    "                  'energy':[],'xs':[],'col':'r-'},\n",
    "      'Pu239tot': {'Z':94, 'A':239,'MAT':9437,'MT':1,\n",
    "                  'energy':[],'xs':[],'col':'r--'},\n",
    "      'Pu240fiss': {'Z':94, 'A':240,'MAT':9440,'MT':18,\n",
    "                  'energy':[],'xs':[],'col':'b-'},\n",
    "      'Pu240tot': {'Z':94, 'A':240,'MAT':9440,'MT':1,\n",
    "                  'energy':[],'xs':[],'col':'b--'},\n",
    "      'Pu242fiss': {'Z':94, 'A':242,'MAT':9446,'MT':18,\n",
    "                  'energy':[],'xs':[],'col':'g-'},\n",
    "      'Pu242tot': {'Z':94, 'A':242,'MAT':9446,'MT':1,\n",
    "                  'energy':[],'xs':[],'col':'g--'}}\n",
    "\n",
    "#your code comes here"
   ]
  },
  {
   "cell_type": "code",
   "execution_count": 87,
   "metadata": {},
   "outputs": [],
   "source": [
    "website = \"http://atom.kaeri.re.kr/nuchart/getData.jsp?\"\n",
    "with urllib.request.urlopen(website) as response:\n",
    "    content235 = response.readlines()\n"
   ]
  },
  {
   "cell_type": "code",
   "execution_count": 82,
   "metadata": {},
   "outputs": [],
   "source": [
    "energy,xs=getXS(content235)"
   ]
  },
  {
   "cell_type": "code",
   "execution_count": 84,
   "metadata": {},
   "outputs": [
    {
     "data": {
      "text/plain": [
       "(array([], dtype=float64), array([], dtype=float64))"
      ]
     },
     "execution_count": 84,
     "metadata": {},
     "output_type": "execute_result"
    }
   ],
   "source": [
    "energy, xs"
   ]
  },
  {
   "cell_type": "markdown",
   "metadata": {},
   "source": [
    "Your conclusion comes here."
   ]
  },
  {
   "cell_type": "markdown",
   "metadata": {},
   "source": [
    "## 5\n",
    "\n",
    "Open a terminal window (if you are using the virtual machine, otherwise a command prompt), and install the package called `radioactivedecay`, and then after importing it, execute the examples from https://pypi.org/project/radioactivedecay/.\n",
    "\n",
    "(Note that you might need to restart jupyter for the installation take effect, make sure to save your work first.)"
   ]
  },
  {
   "cell_type": "code",
   "execution_count": 40,
   "metadata": {},
   "outputs": [],
   "source": [
    "#your code comes here"
   ]
  }
 ],
 "metadata": {
  "kernelspec": {
   "display_name": "reaktorfysik",
   "language": "python",
   "name": "reaktorfysik"
  },
  "language_info": {
   "codemirror_mode": {
    "name": "ipython",
    "version": 3
   },
   "file_extension": ".py",
   "mimetype": "text/x-python",
   "name": "python",
   "nbconvert_exporter": "python",
   "pygments_lexer": "ipython3",
   "version": "3.12.1"
  }
 },
 "nbformat": 4,
 "nbformat_minor": 4
}
